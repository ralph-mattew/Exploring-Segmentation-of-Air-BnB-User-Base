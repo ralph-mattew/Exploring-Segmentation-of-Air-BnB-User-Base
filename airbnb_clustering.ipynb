{
 "cells": [
  {
   "cell_type": "code",
   "execution_count": 1,
   "metadata": {
    "ExecuteTime": {
     "end_time": "2020-08-03T02:02:01.146570Z",
     "start_time": "2020-08-03T02:01:59.131231Z"
    }
   },
   "outputs": [],
   "source": [
    "import pandas as pd\n",
    "import numpy as np\n",
    "import gzip\n",
    "from collections import Counter\n",
    "import matplotlib.pyplot as plt\n",
    "from sklearn.preprocessing import StandardScaler\n",
    "from sklearn.cluster import KMeans"
   ]
  },
  {
   "cell_type": "code",
   "execution_count": 2,
   "metadata": {
    "ExecuteTime": {
     "end_time": "2020-08-03T02:02:13.675949Z",
     "start_time": "2020-08-03T02:02:13.671275Z"
    }
   },
   "outputs": [],
   "source": [
    "# !cp '/mnt/data/public/insideairbnb/data.insideairbnb.com/singapore/sg/singapore/2019-03-18/data/listings.csv.gz' >> "
   ]
  },
  {
   "cell_type": "code",
   "execution_count": 3,
   "metadata": {
    "ExecuteTime": {
     "end_time": "2020-08-03T02:02:30.773453Z",
     "start_time": "2020-08-03T02:02:28.660272Z"
    }
   },
   "outputs": [],
   "source": [
    "f_path = '/mnt/data/public/insideairbnb/data.insideairbnb.com/singapore/sg/singapore/2019-03-18/data/calendar.csv.gz'\n",
    "with gzip.open(f_path, 'r') as f:\n",
    "    df = pd.read_csv(f)"
   ]
  },
  {
   "cell_type": "code",
   "execution_count": 5,
   "metadata": {
    "ExecuteTime": {
     "end_time": "2020-08-03T02:03:31.376176Z",
     "start_time": "2020-08-03T02:03:20.405047Z"
    }
   },
   "outputs": [],
   "source": [
    "df.to_csv(\"singapore_airbnb.csv\")"
   ]
  },
  {
   "cell_type": "code",
   "execution_count": 39,
   "metadata": {
    "ExecuteTime": {
     "end_time": "2020-08-01T12:22:14.138964Z",
     "start_time": "2020-08-01T12:22:14.002733Z"
    }
   },
   "outputs": [
    {
     "data": {
      "text/html": [
       "<div>\n",
       "<style scoped>\n",
       "    .dataframe tbody tr th:only-of-type {\n",
       "        vertical-align: middle;\n",
       "    }\n",
       "\n",
       "    .dataframe tbody tr th {\n",
       "        vertical-align: top;\n",
       "    }\n",
       "\n",
       "    .dataframe thead th {\n",
       "        text-align: right;\n",
       "    }\n",
       "</style>\n",
       "<table border=\"1\" class=\"dataframe\">\n",
       "  <thead>\n",
       "    <tr style=\"text-align: right;\">\n",
       "      <th></th>\n",
       "      <th>listing_id</th>\n",
       "      <th>date</th>\n",
       "      <th>available</th>\n",
       "      <th>price</th>\n",
       "      <th>adjusted_price</th>\n",
       "      <th>minimum_nights</th>\n",
       "      <th>maximum_nights</th>\n",
       "    </tr>\n",
       "  </thead>\n",
       "  <tbody>\n",
       "    <tr>\n",
       "      <th>452646</th>\n",
       "      <td>16636855</td>\n",
       "      <td>2019-05-03</td>\n",
       "      <td>t</td>\n",
       "      <td>$29.00</td>\n",
       "      <td>$29.00</td>\n",
       "      <td>25.0</td>\n",
       "      <td>180.0</td>\n",
       "    </tr>\n",
       "    <tr>\n",
       "      <th>1263006</th>\n",
       "      <td>24781937</td>\n",
       "      <td>2019-07-02</td>\n",
       "      <td>f</td>\n",
       "      <td>$100.00</td>\n",
       "      <td>$100.00</td>\n",
       "      <td>3.0</td>\n",
       "      <td>30.0</td>\n",
       "    </tr>\n",
       "    <tr>\n",
       "      <th>644385</th>\n",
       "      <td>18934811</td>\n",
       "      <td>2019-08-25</td>\n",
       "      <td>t</td>\n",
       "      <td>$200.00</td>\n",
       "      <td>$200.00</td>\n",
       "      <td>7.0</td>\n",
       "      <td>1125.0</td>\n",
       "    </tr>\n",
       "    <tr>\n",
       "      <th>1536350</th>\n",
       "      <td>27915805</td>\n",
       "      <td>2019-05-22</td>\n",
       "      <td>t</td>\n",
       "      <td>$188.00</td>\n",
       "      <td>$188.00</td>\n",
       "      <td>10.0</td>\n",
       "      <td>888.0</td>\n",
       "    </tr>\n",
       "    <tr>\n",
       "      <th>1461615</th>\n",
       "      <td>27140686</td>\n",
       "      <td>2019-08-20</td>\n",
       "      <td>f</td>\n",
       "      <td>$70.00</td>\n",
       "      <td>$70.00</td>\n",
       "      <td>10.0</td>\n",
       "      <td>1125.0</td>\n",
       "    </tr>\n",
       "  </tbody>\n",
       "</table>\n",
       "</div>"
      ],
      "text/plain": [
       "         listing_id        date available    price adjusted_price  \\\n",
       "452646     16636855  2019-05-03         t   $29.00         $29.00   \n",
       "1263006    24781937  2019-07-02         f  $100.00        $100.00   \n",
       "644385     18934811  2019-08-25         t  $200.00        $200.00   \n",
       "1536350    27915805  2019-05-22         t  $188.00        $188.00   \n",
       "1461615    27140686  2019-08-20         f   $70.00         $70.00   \n",
       "\n",
       "         minimum_nights  maximum_nights  \n",
       "452646             25.0           180.0  \n",
       "1263006             3.0            30.0  \n",
       "644385              7.0          1125.0  \n",
       "1536350            10.0           888.0  \n",
       "1461615            10.0          1125.0  "
      ]
     },
     "execution_count": 39,
     "metadata": {},
     "output_type": "execute_result"
    }
   ],
   "source": [
    "df.sample(5)"
   ]
  },
  {
   "cell_type": "code",
   "execution_count": 7,
   "metadata": {
    "ExecuteTime": {
     "end_time": "2020-08-04T05:18:09.112052Z",
     "start_time": "2020-08-04T05:18:08.575659Z"
    }
   },
   "outputs": [],
   "source": [
    "f_path = '/mnt/data/public/insideairbnb/data.insideairbnb.com/singapore/sg/singapore/2019-03-18/data/listings.csv.gz'\n",
    "with gzip.open(f_path, 'r') as f:\n",
    "    df_listings = pd.read_csv(f)"
   ]
  },
  {
   "cell_type": "code",
   "execution_count": 9,
   "metadata": {
    "ExecuteTime": {
     "end_time": "2020-08-04T05:18:26.060410Z",
     "start_time": "2020-08-04T05:18:25.116661Z"
    }
   },
   "outputs": [],
   "source": [
    "df_listings.to_csv('singapore_listings_20190318.csv')"
   ]
  },
  {
   "cell_type": "code",
   "execution_count": 8,
   "metadata": {
    "ExecuteTime": {
     "end_time": "2020-08-01T14:50:30.039950Z",
     "start_time": "2020-08-01T14:50:29.653685Z"
    },
    "scrolled": false
   },
   "outputs": [
    {
     "data": {
      "text/plain": [
       "<matplotlib.axes._subplots.AxesSubplot at 0x7f1482673e10>"
      ]
     },
     "execution_count": 8,
     "metadata": {},
     "output_type": "execute_result"
    },
    {
     "data": {
      "image/png": "[encoded data removed]",
      "text/plain": [
       "<Figure size 432x288 with 1 Axes>"
      ]
     },
     "metadata": {
      "needs_background": "light"
     },
     "output_type": "display_data"
    }
   ],
   "source": [
    "df_listings['review_scores_rating'].plot(kind='density')"
   ]
  },
  {
   "cell_type": "code",
   "execution_count": 26,
   "metadata": {
    "ExecuteTime": {
     "end_time": "2020-08-01T12:02:51.052947Z",
     "start_time": "2020-08-01T12:02:50.477295Z"
    }
   },
   "outputs": [],
   "source": [
    "f_path = '/mnt/data/public/insideairbnb/data.insideairbnb.com/singapore/sg/singapore/2019-03-18/data/reviews.csv.gz'\n",
    "with gzip.open(f_path, 'r') as f:\n",
    "    df_reviews = pd.read_csv(f)"
   ]
  },
  {
   "cell_type": "code",
   "execution_count": 27,
   "metadata": {
    "ExecuteTime": {
     "end_time": "2020-08-01T12:02:51.067727Z",
     "start_time": "2020-08-01T12:02:51.055275Z"
    }
   },
   "outputs": [
    {
     "data": {
      "text/html": [
       "<div>\n",
       "<style scoped>\n",
       "    .dataframe tbody tr th:only-of-type {\n",
       "        vertical-align: middle;\n",
       "    }\n",
       "\n",
       "    .dataframe tbody tr th {\n",
       "        vertical-align: top;\n",
       "    }\n",
       "\n",
       "    .dataframe thead th {\n",
       "        text-align: right;\n",
       "    }\n",
       "</style>\n",
       "<table border=\"1\" class=\"dataframe\">\n",
       "  <thead>\n",
       "    <tr style=\"text-align: right;\">\n",
       "      <th></th>\n",
       "      <th>listing_id</th>\n",
       "      <th>id</th>\n",
       "      <th>date</th>\n",
       "      <th>reviewer_id</th>\n",
       "      <th>reviewer_name</th>\n",
       "      <th>comments</th>\n",
       "    </tr>\n",
       "  </thead>\n",
       "  <tbody>\n",
       "    <tr>\n",
       "      <th>0</th>\n",
       "      <td>49091</td>\n",
       "      <td>8243238</td>\n",
       "      <td>2013-10-21</td>\n",
       "      <td>8557223</td>\n",
       "      <td>Jared</td>\n",
       "      <td>Fran was absolutely gracious and welcoming. Ma...</td>\n",
       "    </tr>\n",
       "    <tr>\n",
       "      <th>1</th>\n",
       "      <td>50646</td>\n",
       "      <td>11909864</td>\n",
       "      <td>2014-04-18</td>\n",
       "      <td>1356099</td>\n",
       "      <td>James</td>\n",
       "      <td>A comfortable room in a smart condo developmen...</td>\n",
       "    </tr>\n",
       "    <tr>\n",
       "      <th>2</th>\n",
       "      <td>50646</td>\n",
       "      <td>13823948</td>\n",
       "      <td>2014-06-05</td>\n",
       "      <td>15222393</td>\n",
       "      <td>Welli</td>\n",
       "      <td>Stayed over at Sujatha's house for 3 good nigh...</td>\n",
       "    </tr>\n",
       "    <tr>\n",
       "      <th>3</th>\n",
       "      <td>50646</td>\n",
       "      <td>15117222</td>\n",
       "      <td>2014-07-02</td>\n",
       "      <td>5543172</td>\n",
       "      <td>Cyril</td>\n",
       "      <td>It's been a lovely stay at Sujatha's. The room...</td>\n",
       "    </tr>\n",
       "    <tr>\n",
       "      <th>4</th>\n",
       "      <td>50646</td>\n",
       "      <td>15426462</td>\n",
       "      <td>2014-07-08</td>\n",
       "      <td>817532</td>\n",
       "      <td>Jake</td>\n",
       "      <td>We had a great experience. A nice place, an am...</td>\n",
       "    </tr>\n",
       "  </tbody>\n",
       "</table>\n",
       "</div>"
      ],
      "text/plain": [
       "   listing_id        id        date  reviewer_id reviewer_name  \\\n",
       "0       49091   8243238  2013-10-21      8557223         Jared   \n",
       "1       50646  11909864  2014-04-18      1356099         James   \n",
       "2       50646  13823948  2014-06-05     15222393         Welli   \n",
       "3       50646  15117222  2014-07-02      5543172         Cyril   \n",
       "4       50646  15426462  2014-07-08       817532          Jake   \n",
       "\n",
       "                                            comments  \n",
       "0  Fran was absolutely gracious and welcoming. Ma...  \n",
       "1  A comfortable room in a smart condo developmen...  \n",
       "2  Stayed over at Sujatha's house for 3 good nigh...  \n",
       "3  It's been a lovely stay at Sujatha's. The room...  \n",
       "4  We had a great experience. A nice place, an am...  "
      ]
     },
     "execution_count": 27,
     "metadata": {},
     "output_type": "execute_result"
    }
   ],
   "source": [
    "df_reviews.head()"
   ]
  },
  {
   "cell_type": "code",
   "execution_count": 28,
   "metadata": {
    "ExecuteTime": {
     "end_time": "2020-08-01T12:02:51.083441Z",
     "start_time": "2020-08-01T12:02:51.071429Z"
    },
    "scrolled": false
   },
   "outputs": [
    {
     "data": {
      "text/plain": [
       "['id',\n",
       " 'listing_url',\n",
       " 'scrape_id',\n",
       " 'last_scraped',\n",
       " 'name',\n",
       " 'summary',\n",
       " 'space',\n",
       " 'description',\n",
       " 'experiences_offered',\n",
       " 'neighborhood_overview',\n",
       " 'notes',\n",
       " 'transit',\n",
       " 'access',\n",
       " 'interaction',\n",
       " 'house_rules',\n",
       " 'thumbnail_url',\n",
       " 'medium_url',\n",
       " 'picture_url',\n",
       " 'xl_picture_url',\n",
       " 'host_id',\n",
       " 'host_url',\n",
       " 'host_name',\n",
       " 'host_since',\n",
       " 'host_location',\n",
       " 'host_about',\n",
       " 'host_response_time',\n",
       " 'host_response_rate',\n",
       " 'host_acceptance_rate',\n",
       " 'host_is_superhost',\n",
       " 'host_thumbnail_url',\n",
       " 'host_picture_url',\n",
       " 'host_neighbourhood',\n",
       " 'host_listings_count',\n",
       " 'host_total_listings_count',\n",
       " 'host_verifications',\n",
       " 'host_has_profile_pic',\n",
       " 'host_identity_verified',\n",
       " 'street',\n",
       " 'neighbourhood',\n",
       " 'neighbourhood_cleansed',\n",
       " 'neighbourhood_group_cleansed',\n",
       " 'city',\n",
       " 'state',\n",
       " 'zipcode',\n",
       " 'market',\n",
       " 'smart_location',\n",
       " 'country_code',\n",
       " 'country',\n",
       " 'latitude',\n",
       " 'longitude',\n",
       " 'is_location_exact',\n",
       " 'property_type',\n",
       " 'room_type',\n",
       " 'accommodates',\n",
       " 'bathrooms',\n",
       " 'bedrooms',\n",
       " 'beds',\n",
       " 'bed_type',\n",
       " 'amenities',\n",
       " 'square_feet',\n",
       " 'price',\n",
       " 'weekly_price',\n",
       " 'monthly_price',\n",
       " 'security_deposit',\n",
       " 'cleaning_fee',\n",
       " 'guests_included',\n",
       " 'extra_people',\n",
       " 'minimum_nights',\n",
       " 'maximum_nights',\n",
       " 'minimum_minimum_nights',\n",
       " 'maximum_minimum_nights',\n",
       " 'minimum_maximum_nights',\n",
       " 'maximum_maximum_nights',\n",
       " 'minimum_nights_avg_ntm',\n",
       " 'maximum_nights_avg_ntm',\n",
       " 'calendar_updated',\n",
       " 'has_availability',\n",
       " 'availability_30',\n",
       " 'availability_60',\n",
       " 'availability_90',\n",
       " 'availability_365',\n",
       " 'calendar_last_scraped',\n",
       " 'number_of_reviews',\n",
       " 'number_of_reviews_ltm',\n",
       " 'first_review',\n",
       " 'last_review',\n",
       " 'review_scores_rating',\n",
       " 'review_scores_accuracy',\n",
       " 'review_scores_cleanliness',\n",
       " 'review_scores_checkin',\n",
       " 'review_scores_communication',\n",
       " 'review_scores_location',\n",
       " 'review_scores_value',\n",
       " 'requires_license',\n",
       " 'license',\n",
       " 'jurisdiction_names',\n",
       " 'instant_bookable',\n",
       " 'is_business_travel_ready',\n",
       " 'cancellation_policy',\n",
       " 'require_guest_profile_picture',\n",
       " 'require_guest_phone_verification',\n",
       " 'calculated_host_listings_count',\n",
       " 'calculated_host_listings_count_entire_homes',\n",
       " 'calculated_host_listings_count_private_rooms',\n",
       " 'calculated_host_listings_count_shared_rooms',\n",
       " 'reviews_per_month']"
      ]
     },
     "execution_count": 28,
     "metadata": {},
     "output_type": "execute_result"
    }
   ],
   "source": [
    "df_listings.columns.to_list()"
   ]
  },
  {
   "cell_type": "code",
   "execution_count": 9,
   "metadata": {
    "ExecuteTime": {
     "end_time": "2020-08-01T14:50:36.306351Z",
     "start_time": "2020-08-01T14:50:36.266767Z"
    }
   },
   "outputs": [
    {
     "data": {
      "text/html": [
       "<div>\n",
       "<style scoped>\n",
       "    .dataframe tbody tr th:only-of-type {\n",
       "        vertical-align: middle;\n",
       "    }\n",
       "\n",
       "    .dataframe tbody tr th {\n",
       "        vertical-align: top;\n",
       "    }\n",
       "\n",
       "    .dataframe thead th {\n",
       "        text-align: right;\n",
       "    }\n",
       "</style>\n",
       "<table border=\"1\" class=\"dataframe\">\n",
       "  <thead>\n",
       "    <tr style=\"text-align: right;\">\n",
       "      <th></th>\n",
       "      <th>id</th>\n",
       "      <th>listing_url</th>\n",
       "      <th>scrape_id</th>\n",
       "      <th>last_scraped</th>\n",
       "      <th>name</th>\n",
       "      <th>summary</th>\n",
       "      <th>space</th>\n",
       "      <th>description</th>\n",
       "      <th>experiences_offered</th>\n",
       "      <th>neighborhood_overview</th>\n",
       "      <th>...</th>\n",
       "      <th>instant_bookable</th>\n",
       "      <th>is_business_travel_ready</th>\n",
       "      <th>cancellation_policy</th>\n",
       "      <th>require_guest_profile_picture</th>\n",
       "      <th>require_guest_phone_verification</th>\n",
       "      <th>calculated_host_listings_count</th>\n",
       "      <th>calculated_host_listings_count_entire_homes</th>\n",
       "      <th>calculated_host_listings_count_private_rooms</th>\n",
       "      <th>calculated_host_listings_count_shared_rooms</th>\n",
       "      <th>reviews_per_month</th>\n",
       "    </tr>\n",
       "  </thead>\n",
       "  <tbody>\n",
       "    <tr>\n",
       "      <th>0</th>\n",
       "      <td>49091</td>\n",
       "      <td>https://www.airbnb.com/rooms/49091</td>\n",
       "      <td>20190318042744</td>\n",
       "      <td>2019-03-18</td>\n",
       "      <td>COZICOMFORT LONG TERM STAY ROOM 2</td>\n",
       "      <td>NaN</td>\n",
       "      <td>This is Room No. 2.(available after Jan 15 201...</td>\n",
       "      <td>This is Room No. 2.(available after Jan 15 201...</td>\n",
       "      <td>none</td>\n",
       "      <td>NaN</td>\n",
       "      <td>...</td>\n",
       "      <td>f</td>\n",
       "      <td>f</td>\n",
       "      <td>flexible</td>\n",
       "      <td>t</td>\n",
       "      <td>t</td>\n",
       "      <td>2</td>\n",
       "      <td>0</td>\n",
       "      <td>2</td>\n",
       "      <td>0</td>\n",
       "      <td>0.02</td>\n",
       "    </tr>\n",
       "    <tr>\n",
       "      <th>1</th>\n",
       "      <td>50646</td>\n",
       "      <td>https://www.airbnb.com/rooms/50646</td>\n",
       "      <td>20190318042744</td>\n",
       "      <td>2019-03-18</td>\n",
       "      <td>Pleasant Room along Bukit Timah</td>\n",
       "      <td>Fully furnished bedroom with a nice view on th...</td>\n",
       "      <td>Good Condition room, bright &amp; windy. Comes wit...</td>\n",
       "      <td>Fully furnished bedroom with a nice view on th...</td>\n",
       "      <td>none</td>\n",
       "      <td>The serenity &amp; quiet surrounding makes it an i...</td>\n",
       "      <td>...</td>\n",
       "      <td>f</td>\n",
       "      <td>f</td>\n",
       "      <td>moderate</td>\n",
       "      <td>f</td>\n",
       "      <td>t</td>\n",
       "      <td>1</td>\n",
       "      <td>0</td>\n",
       "      <td>1</td>\n",
       "      <td>0</td>\n",
       "      <td>0.30</td>\n",
       "    </tr>\n",
       "    <tr>\n",
       "      <th>2</th>\n",
       "      <td>56334</td>\n",
       "      <td>https://www.airbnb.com/rooms/56334</td>\n",
       "      <td>20190318042744</td>\n",
       "      <td>2019-03-18</td>\n",
       "      <td>COZICOMFORT</td>\n",
       "      <td>NaN</td>\n",
       "      <td>This is Room no. 1. USD700 per month On the fa...</td>\n",
       "      <td>This is Room no. 1. USD700 per month On the fa...</td>\n",
       "      <td>none</td>\n",
       "      <td>NaN</td>\n",
       "      <td>...</td>\n",
       "      <td>f</td>\n",
       "      <td>f</td>\n",
       "      <td>flexible</td>\n",
       "      <td>t</td>\n",
       "      <td>t</td>\n",
       "      <td>2</td>\n",
       "      <td>0</td>\n",
       "      <td>2</td>\n",
       "      <td>0</td>\n",
       "      <td>0.21</td>\n",
       "    </tr>\n",
       "    <tr>\n",
       "      <th>3</th>\n",
       "      <td>71609</td>\n",
       "      <td>https://www.airbnb.com/rooms/71609</td>\n",
       "      <td>20190318042744</td>\n",
       "      <td>2019-03-18</td>\n",
       "      <td>Ensuite Room (Room 1 &amp; 2) near EXPO</td>\n",
       "      <td>For 3 (Website hidden by Airbnb) room 1&amp;2 and ...</td>\n",
       "      <td>Landed Homestay Room for Rental. Between Simei...</td>\n",
       "      <td>For 3 (Website hidden by Airbnb) room 1&amp;2 and ...</td>\n",
       "      <td>none</td>\n",
       "      <td>NaN</td>\n",
       "      <td>...</td>\n",
       "      <td>t</td>\n",
       "      <td>f</td>\n",
       "      <td>moderate</td>\n",
       "      <td>f</td>\n",
       "      <td>t</td>\n",
       "      <td>9</td>\n",
       "      <td>0</td>\n",
       "      <td>9</td>\n",
       "      <td>0</td>\n",
       "      <td>0.14</td>\n",
       "    </tr>\n",
       "    <tr>\n",
       "      <th>4</th>\n",
       "      <td>71896</td>\n",
       "      <td>https://www.airbnb.com/rooms/71896</td>\n",
       "      <td>20190318042744</td>\n",
       "      <td>2019-03-18</td>\n",
       "      <td>B&amp;B  Room 1 near Airport &amp; EXPO</td>\n",
       "      <td>NaN</td>\n",
       "      <td>Vocational Stay Deluxe Bedroom in Singapore.(N...</td>\n",
       "      <td>Vocational Stay Deluxe Bedroom in Singapore.(N...</td>\n",
       "      <td>none</td>\n",
       "      <td>NaN</td>\n",
       "      <td>...</td>\n",
       "      <td>t</td>\n",
       "      <td>f</td>\n",
       "      <td>moderate</td>\n",
       "      <td>f</td>\n",
       "      <td>t</td>\n",
       "      <td>9</td>\n",
       "      <td>0</td>\n",
       "      <td>9</td>\n",
       "      <td>0</td>\n",
       "      <td>0.22</td>\n",
       "    </tr>\n",
       "  </tbody>\n",
       "</table>\n",
       "<p>5 rows × 106 columns</p>\n",
       "</div>"
      ],
      "text/plain": [
       "      id                         listing_url       scrape_id last_scraped  \\\n",
       "0  49091  https://www.airbnb.com/rooms/49091  20190318042744   2019-03-18   \n",
       "1  50646  https://www.airbnb.com/rooms/50646  20190318042744   2019-03-18   \n",
       "2  56334  https://www.airbnb.com/rooms/56334  20190318042744   2019-03-18   \n",
       "3  71609  https://www.airbnb.com/rooms/71609  20190318042744   2019-03-18   \n",
       "4  71896  https://www.airbnb.com/rooms/71896  20190318042744   2019-03-18   \n",
       "\n",
       "                                  name  \\\n",
       "0    COZICOMFORT LONG TERM STAY ROOM 2   \n",
       "1      Pleasant Room along Bukit Timah   \n",
       "2                          COZICOMFORT   \n",
       "3  Ensuite Room (Room 1 & 2) near EXPO   \n",
       "4      B&B  Room 1 near Airport & EXPO   \n",
       "\n",
       "                                             summary  \\\n",
       "0                                                NaN   \n",
       "1  Fully furnished bedroom with a nice view on th...   \n",
       "2                                                NaN   \n",
       "3  For 3 (Website hidden by Airbnb) room 1&2 and ...   \n",
       "4                                                NaN   \n",
       "\n",
       "                                               space  \\\n",
       "0  This is Room No. 2.(available after Jan 15 201...   \n",
       "1  Good Condition room, bright & windy. Comes wit...   \n",
       "2  This is Room no. 1. USD700 per month On the fa...   \n",
       "3  Landed Homestay Room for Rental. Between Simei...   \n",
       "4  Vocational Stay Deluxe Bedroom in Singapore.(N...   \n",
       "\n",
       "                                         description experiences_offered  \\\n",
       "0  This is Room No. 2.(available after Jan 15 201...                none   \n",
       "1  Fully furnished bedroom with a nice view on th...                none   \n",
       "2  This is Room no. 1. USD700 per month On the fa...                none   \n",
       "3  For 3 (Website hidden by Airbnb) room 1&2 and ...                none   \n",
       "4  Vocational Stay Deluxe Bedroom in Singapore.(N...                none   \n",
       "\n",
       "                               neighborhood_overview  ... instant_bookable  \\\n",
       "0                                                NaN  ...                f   \n",
       "1  The serenity & quiet surrounding makes it an i...  ...                f   \n",
       "2                                                NaN  ...                f   \n",
       "3                                                NaN  ...                t   \n",
       "4                                                NaN  ...                t   \n",
       "\n",
       "  is_business_travel_ready cancellation_policy require_guest_profile_picture  \\\n",
       "0                        f            flexible                             t   \n",
       "1                        f            moderate                             f   \n",
       "2                        f            flexible                             t   \n",
       "3                        f            moderate                             f   \n",
       "4                        f            moderate                             f   \n",
       "\n",
       "  require_guest_phone_verification  calculated_host_listings_count  \\\n",
       "0                                t                               2   \n",
       "1                                t                               1   \n",
       "2                                t                               2   \n",
       "3                                t                               9   \n",
       "4                                t                               9   \n",
       "\n",
       "   calculated_host_listings_count_entire_homes  \\\n",
       "0                                            0   \n",
       "1                                            0   \n",
       "2                                            0   \n",
       "3                                            0   \n",
       "4                                            0   \n",
       "\n",
       "  calculated_host_listings_count_private_rooms  \\\n",
       "0                                            2   \n",
       "1                                            1   \n",
       "2                                            2   \n",
       "3                                            9   \n",
       "4                                            9   \n",
       "\n",
       "   calculated_host_listings_count_shared_rooms  reviews_per_month  \n",
       "0                                            0               0.02  \n",
       "1                                            0               0.30  \n",
       "2                                            0               0.21  \n",
       "3                                            0               0.14  \n",
       "4                                            0               0.22  \n",
       "\n",
       "[5 rows x 106 columns]"
      ]
     },
     "execution_count": 9,
     "metadata": {},
     "output_type": "execute_result"
    }
   ],
   "source": [
    "df_listings.head()"
   ]
  },
  {
   "cell_type": "markdown",
   "metadata": {},
   "source": [
    "listings - Detailed listings data showing 96 attributes for each of the listings. Some of the attributes used in the analysis are price(continuous), longitude (continuous), latitude (continuous), listing_type (categorical), is_superhost (categorical), neighbourhood (categorical), ratings (continuous) among others.\n",
    "reviews - Detailed reviews given by the guests with 6 attributes. Key attributes include date (datetime), listing_id (discrete), reviewer_id (discrete) and comment (textual).\n",
    "calendar - Provides details about booking for the next year by listing. Four attributes in total including listing_id (discrete), date(datetime), available (categorical) and price (continuous).\n",
    "A quick glance at the data shows that there are:\n",
    "50,968 unique listing in NYC in total. The first rental in NYC was up in April, 2008 in Harlem, Manhattan.\n",
    "Over 1 million reviews have been written by guests since then.\n",
    "The price for a listing ranges from $10 per night to $10,000(!) per night. Listing with $10,000 price tag are in Greenpoint, Brooklyn; Astoria, Queens and Upper West Side, Manhattan."
   ]
  },
  {
   "cell_type": "code",
   "execution_count": 10,
   "metadata": {
    "ExecuteTime": {
     "end_time": "2020-08-01T14:50:40.560794Z",
     "start_time": "2020-08-01T14:50:40.543074Z"
    },
    "scrolled": false
   },
   "outputs": [
    {
     "data": {
      "text/plain": [
       "{'id': 301247,\n",
       " 'listing_url': 'https://www.airbnb.com/rooms/301247',\n",
       " 'scrape_id': 20190318042744,\n",
       " 'last_scraped': '2019-03-18',\n",
       " 'name': 'Nice room with private bath beside train station',\n",
       " 'summary': 'Located just beside the PayaLebar train station which is equidistant from both Changi International Airport, as well downtown area with only 10-15 mins train ride. Private bathroom with no additional charges/fees for cleaning or using washing machine. Please see the room pictures before booking.',\n",
       " 'space': 'Nice cozy room with a study table, bed, closet, aircon and private toilet in a spacious condo with swimming pool and gym facilities. Condo exit is connected to Paya Lebar MRT station. This is a room with no-frills features as follows:  - Single-bed (mattress without frame),  - Private bathroom  - Air-con,  - Table,  - Chair,  - Closet / Hangers,  - Bed sheet and Blanket  - 24-hr Free Accessibility (no night curfew). We provide you these during your stay:  - Free WiFi  - Iron and ironing board  - Washing machine - Key card access (Required $20 refundable deposit) - 24/7 CCTV monitoring the common area  Located very near to downtown. It takes 10 mins by train to City Hall MRT station and about 15 mins by train to reach the Changi International Airport. The apartment exit is connected to the train station / metro.',\n",
       " 'description': 'Located just beside the PayaLebar train station which is equidistant from both Changi International Airport, as well downtown area with only 10-15 mins train ride. Private bathroom with no additional charges/fees for cleaning or using washing machine. Please see the room pictures before booking. Nice cozy room with a study table, bed, closet, aircon and private toilet in a spacious condo with swimming pool and gym facilities. Condo exit is connected to Paya Lebar MRT station. This is a room with no-frills features as follows:  - Single-bed (mattress without frame),  - Private bathroom  - Air-con,  - Table,  - Chair,  - Closet / Hangers,  - Bed sheet and Blanket  - 24-hr Free Accessibility (no night curfew). We provide you these during your stay:  - Free WiFi  - Iron and ironing board  - Washing machine - Key card access (Required $20 refundable deposit) - 24/7 CCTV monitoring the common area  Located very near to downtown. It takes 10 mins by train to City Hall MRT station and about 15',\n",
       " 'experiences_offered': 'none',\n",
       " 'neighborhood_overview': nan,\n",
       " 'notes': nan,\n",
       " 'transit': nan,\n",
       " 'access': nan,\n",
       " 'interaction': nan,\n",
       " 'house_rules': nan,\n",
       " 'thumbnail_url': nan,\n",
       " 'medium_url': nan,\n",
       " 'picture_url': 'https://a0.muscache.com/im/pictures/107631887/bc634ba9_original.jpg?aki_policy=large',\n",
       " 'xl_picture_url': nan,\n",
       " 'host_id': 1552002,\n",
       " 'host_url': 'https://www.airbnb.com/users/show/1552002',\n",
       " 'host_name': 'Rahul',\n",
       " 'host_since': '2011-12-31',\n",
       " 'host_location': 'Singapore',\n",
       " 'host_about': 'Airbnb is built on relationships. ',\n",
       " 'host_response_time': 'within a day',\n",
       " 'host_response_rate': '70%',\n",
       " 'host_acceptance_rate': nan,\n",
       " 'host_is_superhost': 'f',\n",
       " 'host_thumbnail_url': 'https://a0.muscache.com/im/users/1552002/profile_pic/1381587393/original.jpg?aki_policy=profile_small',\n",
       " 'host_picture_url': 'https://a0.muscache.com/im/users/1552002/profile_pic/1381587393/original.jpg?aki_policy=profile_x_medium',\n",
       " 'host_neighbourhood': 'Geylang',\n",
       " 'host_listings_count': 1,\n",
       " 'host_total_listings_count': 1,\n",
       " 'host_verifications': \"['email', 'phone', 'reviews', 'jumio', 'government_id']\",\n",
       " 'host_has_profile_pic': 't',\n",
       " 'host_identity_verified': 't',\n",
       " 'street': 'Singapore, Singapore',\n",
       " 'neighbourhood': 'Geylang',\n",
       " 'neighbourhood_cleansed': 'Geylang',\n",
       " 'neighbourhood_group_cleansed': 'Central Region',\n",
       " 'city': 'Singapore',\n",
       " 'state': nan,\n",
       " 'zipcode': '307821',\n",
       " 'market': 'Singapore',\n",
       " 'smart_location': 'Singapore',\n",
       " 'country_code': 'SG',\n",
       " 'country': 'Singapore',\n",
       " 'latitude': 1.31724,\n",
       " 'longitude': 103.88958000000001,\n",
       " 'is_location_exact': 't',\n",
       " 'property_type': 'Apartment',\n",
       " 'room_type': 'Private room',\n",
       " 'accommodates': 1,\n",
       " 'bathrooms': 1.0,\n",
       " 'bedrooms': 1.0,\n",
       " 'beds': 1.0,\n",
       " 'bed_type': 'Real Bed',\n",
       " 'amenities': '{\"Cable TV\",Internet,Wifi,\"Air conditioning\",Pool,Kitchen,\"Free parking on premises\",Gym,Elevator,Washer,\"Lock on bedroom door\",\"Hair dryer\",\"Laptop friendly workspace\",\"Hot water\",Microwave,Refrigerator}',\n",
       " 'square_feet': nan,\n",
       " 'price': '$41.00',\n",
       " 'weekly_price': '$365.00',\n",
       " 'monthly_price': '$1,500.00',\n",
       " 'security_deposit': '$150.00',\n",
       " 'cleaning_fee': '$0.00',\n",
       " 'guests_included': 1,\n",
       " 'extra_people': '$0.00',\n",
       " 'minimum_nights': 1,\n",
       " 'maximum_nights': 1125,\n",
       " 'minimum_minimum_nights': 1,\n",
       " 'maximum_minimum_nights': 1,\n",
       " 'minimum_maximum_nights': 1125,\n",
       " 'maximum_maximum_nights': 1125,\n",
       " 'minimum_nights_avg_ntm': 1.0,\n",
       " 'maximum_nights_avg_ntm': 1125.0,\n",
       " 'calendar_updated': 'today',\n",
       " 'has_availability': 't',\n",
       " 'availability_30': 3,\n",
       " 'availability_60': 25,\n",
       " 'availability_90': 55,\n",
       " 'availability_365': 55,\n",
       " 'calendar_last_scraped': '2019-03-18',\n",
       " 'number_of_reviews': 85,\n",
       " 'number_of_reviews_ltm': 42,\n",
       " 'first_review': '2013-10-21',\n",
       " 'last_review': '2019-02-22',\n",
       " 'review_scores_rating': 90.0,\n",
       " 'review_scores_accuracy': 9.0,\n",
       " 'review_scores_cleanliness': 9.0,\n",
       " 'review_scores_checkin': 10.0,\n",
       " 'review_scores_communication': 9.0,\n",
       " 'review_scores_location': 10.0,\n",
       " 'review_scores_value': 9.0,\n",
       " 'requires_license': 'f',\n",
       " 'license': nan,\n",
       " 'jurisdiction_names': nan,\n",
       " 'instant_bookable': 'f',\n",
       " 'is_business_travel_ready': 'f',\n",
       " 'cancellation_policy': 'moderate',\n",
       " 'require_guest_profile_picture': 'f',\n",
       " 'require_guest_phone_verification': 'f',\n",
       " 'calculated_host_listings_count': 1,\n",
       " 'calculated_host_listings_count_entire_homes': 0,\n",
       " 'calculated_host_listings_count_private_rooms': 1,\n",
       " 'calculated_host_listings_count_shared_rooms': 0,\n",
       " 'reviews_per_month': 1.29}"
      ]
     },
     "execution_count": 10,
     "metadata": {},
     "output_type": "execute_result"
    }
   ],
   "source": [
    "dict(zip(df_listings.iloc[15].T.index.to_list(), df_listings.iloc[15].to_list()))"
   ]
  },
  {
   "cell_type": "markdown",
   "metadata": {},
   "source": [
    "https://www.linkedin.com/pulse/segmenting-clustering-airbnb-listings-zurich-georgios-chatzis\n",
    "https://towardsdatascience.com/airbnb-rental-listings-dataset-mining-f972ed08ddec\n",
    "http://www.columbia.edu/~sg3637/airbnb_final_analysis.html\n",
    "https://public.opendatasoft.com/explore/dataset/airbnb-listings/table/?disjunctive.host_verifications&disjunctive.amenities&disjunctive.features\n"
   ]
  },
  {
   "cell_type": "code",
   "execution_count": 11,
   "metadata": {
    "ExecuteTime": {
     "end_time": "2020-08-01T14:50:43.525861Z",
     "start_time": "2020-08-01T14:50:43.502797Z"
    }
   },
   "outputs": [
    {
     "data": {
      "text/plain": [
       "host_id\n",
       "59498         3\n",
       "228867       10\n",
       "229339       25\n",
       "367042        9\n",
       "646629       16\n",
       "             ..\n",
       "243216499     5\n",
       "244037446     4\n",
       "245738052     4\n",
       "248196938    14\n",
       "248361661    79\n",
       "Length: 468, dtype: int64"
      ]
     },
     "execution_count": 11,
     "metadata": {},
     "output_type": "execute_result"
    }
   ],
   "source": [
    "df_listings.groupby('host_id').size() [df_listings.groupby('host_id').size() > 2]"
   ]
  },
  {
   "cell_type": "code",
   "execution_count": 12,
   "metadata": {
    "ExecuteTime": {
     "end_time": "2020-08-01T14:50:44.338602Z",
     "start_time": "2020-08-01T14:50:44.323088Z"
    }
   },
   "outputs": [],
   "source": [
    "data = df_listings[['property_type', 'room_type', 'accommodates', 'bathrooms', 'bedrooms', 'beds', \n",
    "            'bed_type', 'amenities', 'price', 'monthly_price', 'minimum_nights', \n",
    "            'maximum_nights', 'is_business_travel_ready', 'instant_bookable',\n",
    "            'neighborhood_overview']]"
   ]
  },
  {
   "cell_type": "markdown",
   "metadata": {
    "ExecuteTime": {
     "end_time": "2020-08-01T12:30:08.681430Z",
     "start_time": "2020-08-01T12:30:08.668541Z"
    }
   },
   "source": [
    "features: property_type\n",
    "room_type\n",
    "accommodates\n",
    "bathrooms\n",
    "bedrooms\n",
    "beds\n",
    "ed_type\n",
    "amenities\n",
    "price\n",
    "minimum_nights\n",
    "maximum_nights\n",
    "is_business_travel_ready\n",
    "instant_bookable\n",
    "neighborhood_overview\n",
    "experiences_offered"
   ]
  },
  {
   "cell_type": "code",
   "execution_count": 13,
   "metadata": {
    "ExecuteTime": {
     "end_time": "2020-08-01T14:50:46.253022Z",
     "start_time": "2020-08-01T14:50:46.242957Z"
    }
   },
   "outputs": [
    {
     "data": {
      "text/plain": [
       "array(['Apartment', 'Villa', 'House', 'Townhouse', 'Other', 'Condominium',\n",
       "       'Bed and breakfast', 'Loft', 'Serviced apartment', 'Bungalow',\n",
       "       'Guest suite', 'Aparthotel', 'Hostel', 'Chalet', 'Hotel',\n",
       "       'Guesthouse', 'Boat', 'Boutique hotel', 'Cabin', 'Tent', 'Cottage',\n",
       "       'Campsite', 'Farm stay', 'Camper/RV', 'Treehouse', 'Tiny house'],\n",
       "      dtype=object)"
      ]
     },
     "execution_count": 13,
     "metadata": {},
     "output_type": "execute_result"
    }
   ],
   "source": [
    "data['property_type'].unique()"
   ]
  },
  {
   "cell_type": "code",
   "execution_count": 14,
   "metadata": {
    "ExecuteTime": {
     "end_time": "2020-08-01T14:50:48.473356Z",
     "start_time": "2020-08-01T14:50:48.463223Z"
    }
   },
   "outputs": [
    {
     "data": {
      "text/plain": [
       "array(['Private room', 'Entire home/apt', 'Shared room'], dtype=object)"
      ]
     },
     "execution_count": 14,
     "metadata": {},
     "output_type": "execute_result"
    }
   ],
   "source": [
    "data['room_type'].unique()"
   ]
  },
  {
   "cell_type": "code",
   "execution_count": 15,
   "metadata": {
    "ExecuteTime": {
     "end_time": "2020-08-01T14:50:48.713655Z",
     "start_time": "2020-08-01T14:50:48.704128Z"
    }
   },
   "outputs": [
    {
     "data": {
      "text/plain": [
       "array([ 1,  2,  6,  3,  8,  5,  4, 10,  9, 14, 16,  7, 12, 15, 13, 11])"
      ]
     },
     "execution_count": 15,
     "metadata": {},
     "output_type": "execute_result"
    }
   ],
   "source": [
    "data['accommodates'].unique()"
   ]
  },
  {
   "cell_type": "code",
   "execution_count": 22,
   "metadata": {
    "ExecuteTime": {
     "end_time": "2020-08-01T14:51:00.653466Z",
     "start_time": "2020-08-01T14:51:00.643093Z"
    }
   },
   "outputs": [
    {
     "data": {
      "text/plain": [
       "array([ 1. ,  0.5,  0. ,  2. ,  4. ,  3.5,  3. ,  1.5,  2.5,  8. ,  6. ,\n",
       "        4.5,  5. ,  7. ,  8.5,  5.5,  7.5,  9. , 20. ,  6.5, 10. , 21. ])"
      ]
     },
     "execution_count": 22,
     "metadata": {},
     "output_type": "execute_result"
    }
   ],
   "source": [
    "data['bathrooms'].unique()"
   ]
  },
  {
   "cell_type": "code",
   "execution_count": 23,
   "metadata": {
    "ExecuteTime": {
     "end_time": "2020-08-01T14:51:01.121871Z",
     "start_time": "2020-08-01T14:51:01.114708Z"
    }
   },
   "outputs": [],
   "source": [
    "data['bathrooms'].replace(np.nan, 0, inplace=True)"
   ]
  },
  {
   "cell_type": "code",
   "execution_count": 24,
   "metadata": {
    "ExecuteTime": {
     "end_time": "2020-08-01T14:51:01.772206Z",
     "start_time": "2020-08-01T14:51:01.762499Z"
    }
   },
   "outputs": [
    {
     "data": {
      "text/plain": [
       "array([ 1.,  2.,  3.,  0.,  4.,  5.,  6.,  8.,  7., 10.])"
      ]
     },
     "execution_count": 24,
     "metadata": {},
     "output_type": "execute_result"
    }
   ],
   "source": [
    "data['bedrooms'].unique()"
   ]
  },
  {
   "cell_type": "code",
   "execution_count": 25,
   "metadata": {
    "ExecuteTime": {
     "end_time": "2020-08-01T14:51:02.159428Z",
     "start_time": "2020-08-01T14:51:02.152254Z"
    }
   },
   "outputs": [],
   "source": [
    "data['bedrooms'].replace(np.nan, 0, inplace=True)"
   ]
  },
  {
   "cell_type": "code",
   "execution_count": 26,
   "metadata": {
    "ExecuteTime": {
     "end_time": "2020-08-01T14:51:02.656586Z",
     "start_time": "2020-08-01T14:51:02.646812Z"
    }
   },
   "outputs": [
    {
     "data": {
      "text/plain": [
       "array([ 1.,  3.,  2.,  7.,  4.,  0.,  5., 12.,  6.,  8., 10., 16., 15.,\n",
       "        9., 13., 14., 18., 30., 36.])"
      ]
     },
     "execution_count": 26,
     "metadata": {},
     "output_type": "execute_result"
    }
   ],
   "source": [
    "data['beds'].unique()"
   ]
  },
  {
   "cell_type": "code",
   "execution_count": 27,
   "metadata": {
    "ExecuteTime": {
     "end_time": "2020-08-01T14:51:02.990139Z",
     "start_time": "2020-08-01T14:51:02.982719Z"
    }
   },
   "outputs": [],
   "source": [
    "data['beds'].replace(np.nan, 0, inplace=True)"
   ]
  },
  {
   "cell_type": "code",
   "execution_count": 28,
   "metadata": {
    "ExecuteTime": {
     "end_time": "2020-08-01T14:51:03.553198Z",
     "start_time": "2020-08-01T14:51:03.542729Z"
    }
   },
   "outputs": [
    {
     "data": {
      "text/plain": [
       "array(['Real Bed', 'Pull-out Sofa', 'Futon', 'Couch', 'Airbed'],\n",
       "      dtype=object)"
      ]
     },
     "execution_count": 28,
     "metadata": {},
     "output_type": "execute_result"
    }
   ],
   "source": [
    "data['bed_type'].unique()"
   ]
  },
  {
   "cell_type": "code",
   "execution_count": 29,
   "metadata": {
    "ExecuteTime": {
     "end_time": "2020-08-01T14:51:04.174676Z",
     "start_time": "2020-08-01T14:51:04.082956Z"
    }
   },
   "outputs": [],
   "source": [
    "stripped = [string.strip('{').strip('}').split(',') for string in list(data['amenities'].values)]\n",
    "stripped_1 = []\n",
    "for group in stripped:\n",
    "        stripped_1.append([word.strip('''\"''').strip(\"'\") for word in group])"
   ]
  },
  {
   "cell_type": "code",
   "execution_count": 32,
   "metadata": {
    "ExecuteTime": {
     "end_time": "2020-08-01T14:51:07.840208Z",
     "start_time": "2020-08-01T14:51:07.532662Z"
    }
   },
   "outputs": [],
   "source": [
    "data['amenities'].replace(stripped_1, inplace=True)"
   ]
  },
  {
   "cell_type": "code",
   "execution_count": 33,
   "metadata": {
    "ExecuteTime": {
     "end_time": "2020-08-01T14:51:08.318727Z",
     "start_time": "2020-08-01T14:51:08.302997Z"
    }
   },
   "outputs": [
    {
     "data": {
      "text/plain": [
       "1651    {TV,Wifi,Kitchen,\"Free parking on premises\",Wa...\n",
       "5644    {TV,Wifi,\"Air conditioning\",Pool,Kitchen,\"Free...\n",
       "6310    {TV,Wifi,\"Air conditioning\",Pool,Kitchen,\"Smok...\n",
       "7364    {Wifi,\"Air conditioning\",Kitchen,\"Paid parking...\n",
       "190     {TV,\"Cable TV\",Internet,Wifi,\"Air conditioning...\n",
       "Name: amenities, dtype: object"
      ]
     },
     "execution_count": 33,
     "metadata": {},
     "output_type": "execute_result"
    }
   ],
   "source": [
    "data['amenities'].sample(5)"
   ]
  },
  {
   "cell_type": "code",
   "execution_count": 34,
   "metadata": {
    "ExecuteTime": {
     "end_time": "2020-08-01T14:51:08.845968Z",
     "start_time": "2020-08-01T14:51:08.742713Z"
    }
   },
   "outputs": [],
   "source": [
    "def to_bow(docs):\n",
    "    my_list = [dict(Counter(doc.lower().split())) for doc in docs]\n",
    "    df = pd.DataFrame(my_list).fillna(0)\n",
    "    return df.reindex(sorted(df.columns), axis=1)"
   ]
  },
  {
   "cell_type": "code",
   "execution_count": 35,
   "metadata": {
    "ExecuteTime": {
     "end_time": "2020-08-01T14:51:30.499458Z",
     "start_time": "2020-08-01T14:51:09.142698Z"
    }
   },
   "outputs": [],
   "source": [
    "bow_list = []\n",
    "for group in stripped_1:\n",
    "    bow_list.append(to_bow(group).sum())"
   ]
  },
  {
   "cell_type": "code",
   "execution_count": 36,
   "metadata": {
    "ExecuteTime": {
     "end_time": "2020-08-01T14:51:32.367903Z",
     "start_time": "2020-08-01T14:51:30.501832Z"
    }
   },
   "outputs": [],
   "source": [
    "cat = pd.concat(bow_list, axis=1)"
   ]
  },
  {
   "cell_type": "code",
   "execution_count": null,
   "metadata": {
    "ExecuteTime": {
     "end_time": "2020-08-03T00:12:55.881384Z",
     "start_time": "2020-08-03T00:12:55.836638Z"
    }
   },
   "outputs": [],
   "source": []
  },
  {
   "cell_type": "code",
   "execution_count": 37,
   "metadata": {
    "ExecuteTime": {
     "end_time": "2020-08-01T14:51:32.400793Z",
     "start_time": "2020-08-01T14:51:32.373167Z"
    }
   },
   "outputs": [],
   "source": [
    "cat.T.fillna(0, inplace=True)"
   ]
  },
  {
   "cell_type": "code",
   "execution_count": 38,
   "metadata": {
    "ExecuteTime": {
     "end_time": "2020-08-01T14:51:58.060863Z",
     "start_time": "2020-08-01T14:51:58.055972Z"
    }
   },
   "outputs": [
    {
     "data": {
      "text/plain": [
       "197"
      ]
     },
     "execution_count": 38,
     "metadata": {},
     "output_type": "execute_result"
    }
   ],
   "source": [
    "len(cat)"
   ]
  },
  {
   "cell_type": "code",
   "execution_count": 39,
   "metadata": {
    "ExecuteTime": {
     "end_time": "2020-08-01T14:51:59.451669Z",
     "start_time": "2020-08-01T14:51:59.442775Z"
    }
   },
   "outputs": [],
   "source": [
    "catT = cat.T"
   ]
  },
  {
   "cell_type": "code",
   "execution_count": 40,
   "metadata": {
    "ExecuteTime": {
     "end_time": "2020-08-01T14:52:00.115070Z",
     "start_time": "2020-08-01T14:52:00.107823Z"
    }
   },
   "outputs": [],
   "source": [
    "# len(data)\n",
    "catT.columns = ['amenities_'+name for name in catT.columns.to_list()]\n",
    "# catT"
   ]
  },
  {
   "cell_type": "code",
   "execution_count": 41,
   "metadata": {
    "ExecuteTime": {
     "end_time": "2020-08-01T14:52:00.733527Z",
     "start_time": "2020-08-01T14:52:00.707834Z"
    }
   },
   "outputs": [],
   "source": [
    "data_1 = pd.concat([data, catT], axis=1)"
   ]
  },
  {
   "cell_type": "code",
   "execution_count": 42,
   "metadata": {
    "ExecuteTime": {
     "end_time": "2020-08-01T14:52:01.312599Z",
     "start_time": "2020-08-01T14:52:01.272793Z"
    }
   },
   "outputs": [],
   "source": [
    "def convert(x):\n",
    "    try:\n",
    "        return int(x.strip('$').split('.')[0].split(',')[0])*1000+int(x.strip('$').split('.')[0].split(',')[1])\n",
    "    except IndexError:\n",
    "        return int(x.strip('$').split('.')[0])\n",
    "\n",
    "data_1['price'] = data_1['price'].apply(lambda x: convert(x))"
   ]
  },
  {
   "cell_type": "code",
   "execution_count": 43,
   "metadata": {
    "ExecuteTime": {
     "end_time": "2020-08-01T14:52:02.644766Z",
     "start_time": "2020-08-01T14:52:02.612881Z"
    }
   },
   "outputs": [],
   "source": [
    "data_1.drop(columns=['monthly_price'], inplace=True)"
   ]
  },
  {
   "cell_type": "code",
   "execution_count": 44,
   "metadata": {
    "ExecuteTime": {
     "end_time": "2020-08-01T14:52:02.801260Z",
     "start_time": "2020-08-01T14:52:02.797093Z"
    }
   },
   "outputs": [],
   "source": [
    "# data_1['monthly_price'].isna().sum()"
   ]
  },
  {
   "cell_type": "code",
   "execution_count": 45,
   "metadata": {
    "ExecuteTime": {
     "end_time": "2020-08-01T14:52:03.016430Z",
     "start_time": "2020-08-01T14:52:03.012088Z"
    }
   },
   "outputs": [],
   "source": [
    "# data_1['monthly_price'][data_1['monthly_price'].isna()].index\n",
    "# for label in data_1['monthly_price'][data_1['monthly_price'].isna()].index:\n",
    "#     data_1.loc[label]['monthly_price'] = data_1.loc[label]['price']*30"
   ]
  },
  {
   "cell_type": "code",
   "execution_count": 46,
   "metadata": {
    "ExecuteTime": {
     "end_time": "2020-08-01T14:52:03.182114Z",
     "start_time": "2020-08-01T14:52:03.172136Z"
    }
   },
   "outputs": [
    {
     "data": {
      "text/plain": [
       "array([ 180,   90,    6,    1,    7,   30,   15,    2,  120,    3,    4,\n",
       "          5,   18,  365,   20,   60,    9,   21,  108,   14,  183,  100,\n",
       "         10,   13,   28,  360,   91,   12,   25,   84,   29,    8,  150,\n",
       "         80,   50,  200,  300,  190,   45,   92,  500,   17,   93,  188,\n",
       "         26,   88,  185,  240,   85,   75,  210,   59,   31,   89, 1000,\n",
       "        186,   48,  181,   40,   22,   24,   11,  700,  179,   96,   55,\n",
       "        168,   65,   35,   32])"
      ]
     },
     "execution_count": 46,
     "metadata": {},
     "output_type": "execute_result"
    }
   ],
   "source": [
    "data_1['minimum_nights'].unique()"
   ]
  },
  {
   "cell_type": "code",
   "execution_count": 47,
   "metadata": {
    "ExecuteTime": {
     "end_time": "2020-08-01T14:52:04.041111Z",
     "start_time": "2020-08-01T14:52:04.022808Z"
    }
   },
   "outputs": [
    {
     "data": {
      "text/plain": [
       "array([   360,    730,     14,   1125,    365,   1000,    180,    100,\n",
       "          720,     90,     11,    330,   1123,   1124,     30,      1,\n",
       "           60,    270,      7,     45,    800,     70,    999,     21,\n",
       "           40,    150,    200,    160,  10000,   9001,     28,    380,\n",
       "         1095,     10,    233,     20,   1120,    900,     31,     15,\n",
       "           12,    366,    400,     50,    250,     29,      5,    120,\n",
       "            3,      2,    500,     35,   2000,  99999,      6,   1100,\n",
       "           80,    300,      4,     53,    265,     32,   1111,    488,\n",
       "          700,     25,     18,    356,    210,    182,    546,     65,\n",
       "           22, 100000,    600,     19,      9,     13,     16,     86,\n",
       "          111,      8,    364,    240,     58,     99,   1059,    118,\n",
       "          181,    243,    650,   9999,    888,     62,     36,     95,\n",
       "           69,    397,    185,    555,   1080,    540,    320,    112,\n",
       "          750,     54,     23,     91,    130,     39,    178,    183,\n",
       "           33,    110,     52,    105])"
      ]
     },
     "execution_count": 47,
     "metadata": {},
     "output_type": "execute_result"
    }
   ],
   "source": [
    "data_1['maximum_nights'].unique()"
   ]
  },
  {
   "cell_type": "code",
   "execution_count": 48,
   "metadata": {
    "ExecuteTime": {
     "end_time": "2020-08-01T14:52:04.864492Z",
     "start_time": "2020-08-01T14:52:04.846021Z"
    }
   },
   "outputs": [
    {
     "data": {
      "text/plain": [
       "array(['f'], dtype=object)"
      ]
     },
     "execution_count": 48,
     "metadata": {},
     "output_type": "execute_result"
    }
   ],
   "source": [
    "data_1['is_business_travel_ready'].unique()"
   ]
  },
  {
   "cell_type": "code",
   "execution_count": 49,
   "metadata": {
    "ExecuteTime": {
     "end_time": "2020-08-01T14:52:05.448315Z",
     "start_time": "2020-08-01T14:52:05.414107Z"
    }
   },
   "outputs": [
    {
     "data": {
      "text/html": [
       "<div>\n",
       "<style scoped>\n",
       "    .dataframe tbody tr th:only-of-type {\n",
       "        vertical-align: middle;\n",
       "    }\n",
       "\n",
       "    .dataframe tbody tr th {\n",
       "        vertical-align: top;\n",
       "    }\n",
       "\n",
       "    .dataframe thead th {\n",
       "        text-align: right;\n",
       "    }\n",
       "</style>\n",
       "<table border=\"1\" class=\"dataframe\">\n",
       "  <thead>\n",
       "    <tr style=\"text-align: right;\">\n",
       "      <th></th>\n",
       "      <th>property_type</th>\n",
       "      <th>room_type</th>\n",
       "      <th>accommodates</th>\n",
       "      <th>bathrooms</th>\n",
       "      <th>bedrooms</th>\n",
       "      <th>beds</th>\n",
       "      <th>bed_type</th>\n",
       "      <th>amenities</th>\n",
       "      <th>price</th>\n",
       "      <th>minimum_nights</th>\n",
       "      <th>...</th>\n",
       "      <th>amenities_bars</th>\n",
       "      <th>amenities_fixed</th>\n",
       "      <th>amenities_grab</th>\n",
       "      <th>amenities_gates</th>\n",
       "      <th>amenities_stair</th>\n",
       "      <th>amenities_mobile</th>\n",
       "      <th>amenities_ski-in/ski-out</th>\n",
       "      <th>amenities_electric</th>\n",
       "      <th>amenities_profiling</th>\n",
       "      <th>amenities_kitchenette</th>\n",
       "    </tr>\n",
       "  </thead>\n",
       "  <tbody>\n",
       "  </tbody>\n",
       "</table>\n",
       "<p>0 rows × 211 columns</p>\n",
       "</div>"
      ],
      "text/plain": [
       "Empty DataFrame\n",
       "Columns: [property_type, room_type, accommodates, bathrooms, bedrooms, beds, bed_type, amenities, price, minimum_nights, maximum_nights, is_business_travel_ready, instant_bookable, neighborhood_overview, amenities_air, amenities_cable, amenities_cat(s), amenities_conditioning, amenities_elevator, amenities_internet, amenities_live, amenities_on, amenities_pets, amenities_property, amenities_this, amenities_tv, amenities_washer, amenities_wifi, amenities_essentials, amenities_family/kid, amenities_friendly, amenities_gym, amenities_kitchen, amenities_pool, amenities_shampoo, amenities_dryer, amenities_allowed, amenities_and, amenities_bedroom, amenities_books, amenities_check-in, amenities_children’s, amenities_detector, amenities_door, amenities_dropoff, amenities_entrance, amenities_extinguisher, amenities_fire, amenities_free, amenities_hair, amenities_hangers, amenities_hot, amenities_iron, amenities_keypad, amenities_laptop, amenities_lock, amenities_long, amenities_luggage, amenities_parking, amenities_private, amenities_self, amenities_smoke, amenities_stays, amenities_street, amenities_term, amenities_toys, amenities_tub, amenities_water, amenities_workspace, amenities_dog(s), amenities_paid, amenities_premises, amenities_heating, amenities_aid, amenities_first, amenities_kit, amenities_buzzer/wireless, amenities_doorman, amenities_intercom, amenities_backyard, amenities_balcony, amenities_basics, amenities_bbq, amenities_bed, amenities_blankets, amenities_coffee, amenities_cooking, amenities_dishes, amenities_en.hosting_amenity_50, amenities_extra, amenities_garden, amenities_greets, amenities_grill, amenities_host, amenities_linens, amenities_maker, amenities_microwave, amenities_missing:, amenities_off, amenities_or, ...]\n",
       "Index: []\n",
       "\n",
       "[0 rows x 211 columns]"
      ]
     },
     "execution_count": 49,
     "metadata": {},
     "output_type": "execute_result"
    }
   ],
   "source": [
    "data_1[data_1['is_business_travel_ready'] == 't']"
   ]
  },
  {
   "cell_type": "code",
   "execution_count": 50,
   "metadata": {
    "ExecuteTime": {
     "end_time": "2020-08-01T14:52:06.073707Z",
     "start_time": "2020-08-01T14:52:06.052196Z"
    }
   },
   "outputs": [],
   "source": [
    "data_1.drop(columns='is_business_travel_ready', inplace=True)"
   ]
  },
  {
   "cell_type": "code",
   "execution_count": 51,
   "metadata": {
    "ExecuteTime": {
     "end_time": "2020-08-01T14:52:06.601257Z",
     "start_time": "2020-08-01T14:52:06.590345Z"
    }
   },
   "outputs": [
    {
     "data": {
      "text/plain": [
       "array(['f', 't'], dtype=object)"
      ]
     },
     "execution_count": 51,
     "metadata": {},
     "output_type": "execute_result"
    }
   ],
   "source": [
    "data_1['instant_bookable'].unique()"
   ]
  },
  {
   "cell_type": "code",
   "execution_count": 52,
   "metadata": {
    "ExecuteTime": {
     "end_time": "2020-08-01T14:52:06.976079Z",
     "start_time": "2020-08-01T14:52:06.962970Z"
    }
   },
   "outputs": [],
   "source": [
    "data_1['instant_bookable'] = data_1['instant_bookable'].map({'f': 0, 't':1})"
   ]
  },
  {
   "cell_type": "code",
   "execution_count": 53,
   "metadata": {
    "ExecuteTime": {
     "end_time": "2020-08-01T14:52:07.453875Z",
     "start_time": "2020-08-01T14:52:07.442583Z"
    }
   },
   "outputs": [
    {
     "data": {
      "text/plain": [
       "3234"
      ]
     },
     "execution_count": 53,
     "metadata": {},
     "output_type": "execute_result"
    }
   ],
   "source": [
    "data_1['neighborhood_overview'].isna().sum()"
   ]
  },
  {
   "cell_type": "code",
   "execution_count": 54,
   "metadata": {
    "ExecuteTime": {
     "end_time": "2020-08-01T14:52:08.642296Z",
     "start_time": "2020-08-01T14:52:08.632823Z"
    }
   },
   "outputs": [],
   "source": [
    "data_1['neighborhood_overview'].replace(np.nan, '', inplace=True)"
   ]
  },
  {
   "cell_type": "code",
   "execution_count": null,
   "metadata": {},
   "outputs": [],
   "source": []
  },
  {
   "cell_type": "code",
   "execution_count": 55,
   "metadata": {
    "ExecuteTime": {
     "end_time": "2020-08-01T14:52:35.686626Z",
     "start_time": "2020-08-01T14:52:08.822598Z"
    }
   },
   "outputs": [],
   "source": [
    "stripped_2 = data_1['neighborhood_overview'].to_list()\n"
   ]
  },
  {
   "cell_type": "code",
   "execution_count": 245,
   "metadata": {
    "ExecuteTime": {
     "end_time": "2020-08-03T00:24:45.753621Z",
     "start_time": "2020-08-03T00:24:45.527673Z"
    }
   },
   "outputs": [],
   "source": [
    "text_list = [text.split(' ') for text in stripped_2]\n",
    "group_list = []\n",
    "for group in text_list:\n",
    "    group_list.append([word.strip().strip(\"'\").strip('''\"''').strip('.').strip('(').strip(')').strip('!') for word in group])"
   ]
  },
  {
   "cell_type": "code",
   "execution_count": 247,
   "metadata": {
    "ExecuteTime": {
     "end_time": "2020-08-03T00:26:05.350291Z",
     "start_time": "2020-08-03T00:25:41.362489Z"
    }
   },
   "outputs": [],
   "source": [
    "bow_list_2 = []\n",
    "for group in group_list:\n",
    "    bow_list_2.append(to_bow(group).sum())"
   ]
  },
  {
   "cell_type": "code",
   "execution_count": 248,
   "metadata": {
    "ExecuteTime": {
     "end_time": "2020-08-03T00:26:18.429429Z",
     "start_time": "2020-08-03T00:26:11.766894Z"
    }
   },
   "outputs": [],
   "source": [
    "cat_2 = pd.concat(bow_list_2, axis=1)"
   ]
  },
  {
   "cell_type": "code",
   "execution_count": null,
   "metadata": {
    "ExecuteTime": {
     "end_time": "2020-08-03T00:26:20.096913Z",
     "start_time": "2020-08-03T00:26:20.055970Z"
    }
   },
   "outputs": [],
   "source": []
  },
  {
   "cell_type": "code",
   "execution_count": 250,
   "metadata": {
    "ExecuteTime": {
     "end_time": "2020-08-03T00:26:27.572525Z",
     "start_time": "2020-08-03T00:26:27.556221Z"
    }
   },
   "outputs": [],
   "source": [
    "cat2T = cat_2.T\n",
    "cat2T.columns = ['neighborhood_overview_'+name for name in cat2T.columns.to_list()]"
   ]
  },
  {
   "cell_type": "code",
   "execution_count": 251,
   "metadata": {
    "ExecuteTime": {
     "end_time": "2020-08-03T00:26:30.100811Z",
     "start_time": "2020-08-03T00:26:29.765880Z"
    }
   },
   "outputs": [],
   "source": [
    "data_2 = pd.concat([data_1, cat2T], axis=1)"
   ]
  },
  {
   "cell_type": "code",
   "execution_count": 252,
   "metadata": {
    "ExecuteTime": {
     "end_time": "2020-08-03T00:26:45.064369Z",
     "start_time": "2020-08-03T00:26:44.426077Z"
    }
   },
   "outputs": [],
   "source": [
    "data_2.drop(columns=['neighborhood_overview', 'amenities'], inplace=True)"
   ]
  },
  {
   "cell_type": "code",
   "execution_count": 253,
   "metadata": {
    "ExecuteTime": {
     "end_time": "2020-08-03T00:26:46.798360Z",
     "start_time": "2020-08-03T00:26:46.666045Z"
    }
   },
   "outputs": [],
   "source": [
    "data_2.fillna(0, inplace=True)"
   ]
  },
  {
   "cell_type": "code",
   "execution_count": 79,
   "metadata": {
    "ExecuteTime": {
     "end_time": "2020-08-01T14:55:06.005305Z",
     "start_time": "2020-08-01T14:55:05.922972Z"
    }
   },
   "outputs": [],
   "source": [
    "X = pd.get_dummies(data_2)"
   ]
  },
  {
   "cell_type": "code",
   "execution_count": 80,
   "metadata": {
    "ExecuteTime": {
     "end_time": "2020-08-01T14:55:06.581395Z",
     "start_time": "2020-08-01T14:55:06.482725Z"
    }
   },
   "outputs": [
    {
     "data": {
      "text/plain": [
       "0"
      ]
     },
     "execution_count": 80,
     "metadata": {},
     "output_type": "execute_result"
    }
   ],
   "source": [
    "X.isna().sum().sum()"
   ]
  },
  {
   "cell_type": "code",
   "execution_count": 81,
   "metadata": {
    "ExecuteTime": {
     "end_time": "2020-08-01T14:55:08.799596Z",
     "start_time": "2020-08-01T14:55:08.496374Z"
    }
   },
   "outputs": [],
   "source": [
    "X_scaled = StandardScaler().fit_transform(X)"
   ]
  },
  {
   "cell_type": "code",
   "execution_count": 113,
   "metadata": {
    "ExecuteTime": {
     "end_time": "2020-08-02T13:12:06.220193Z",
     "start_time": "2020-08-02T13:11:13.856419Z"
    }
   },
   "outputs": [],
   "source": [
    "inertia_list = []\n",
    "for n in range(1, 10):\n",
    "    km = KMeans(n_clusters=n, max_iter=300, tol=1e-4, n_jobs=-1)\n",
    "    km.fit(X_scaled)\n",
    "    inertia_list.append(km.inertia_)"
   ]
  },
  {
   "cell_type": "code",
   "execution_count": 114,
   "metadata": {
    "ExecuteTime": {
     "end_time": "2020-08-02T13:12:06.410034Z",
     "start_time": "2020-08-02T13:12:06.226814Z"
    }
   },
   "outputs": [
    {
     "data": {
      "text/plain": [
       "<matplotlib.axes._subplots.AxesSubplot at 0x7f1475a15ed0>"
      ]
     },
     "execution_count": 114,
     "metadata": {},
     "output_type": "execute_result"
    },
    {
     "data": {
      "image/png": "[encoded data removed]",
      "text/plain": [
       "<Figure size 432x288 with 1 Axes>"
      ]
     },
     "metadata": {
      "needs_background": "light"
     },
     "output_type": "display_data"
    }
   ],
   "source": [
    "pd.DataFrame(inertia_list).plot(kind='line')"
   ]
  },
  {
   "cell_type": "code",
   "execution_count": 110,
   "metadata": {
    "ExecuteTime": {
     "end_time": "2020-08-02T13:03:53.337859Z",
     "start_time": "2020-08-02T13:03:53.332345Z"
    }
   },
   "outputs": [],
   "source": [
    "from sklearn.cluster import AgglomerativeClustering"
   ]
  },
  {
   "cell_type": "code",
   "execution_count": 115,
   "metadata": {
    "ExecuteTime": {
     "end_time": "2020-08-02T13:14:56.189026Z",
     "start_time": "2020-08-02T13:12:39.526818Z"
    }
   },
   "outputs": [],
   "source": [
    "inertia_list_2 = []\n",
    "for n in range(10, 20):\n",
    "    km = KMeans(n_clusters=n, max_iter=300, tol=1e-4, n_jobs=-1)\n",
    "    km.fit(X_scaled)\n",
    "    inertia_list_2.append(km.inertia_)"
   ]
  },
  {
   "cell_type": "code",
   "execution_count": 116,
   "metadata": {
    "ExecuteTime": {
     "end_time": "2020-08-02T13:14:56.345913Z",
     "start_time": "2020-08-02T13:14:56.195273Z"
    }
   },
   "outputs": [
    {
     "data": {
      "text/plain": [
       "<matplotlib.axes._subplots.AxesSubplot at 0x7f14759781d0>"
      ]
     },
     "execution_count": 116,
     "metadata": {},
     "output_type": "execute_result"
    },
    {
     "data": {
      "image/png": "[encoded data removed]",
      "text/plain": [
       "<Figure size 432x288 with 1 Axes>"
      ]
     },
     "metadata": {
      "needs_background": "light"
     },
     "output_type": "display_data"
    }
   ],
   "source": [
    "pd.DataFrame(inertia_list + inertia_list_2).plot(kind='line')"
   ]
  },
  {
   "cell_type": "code",
   "execution_count": 118,
   "metadata": {
    "ExecuteTime": {
     "end_time": "2020-08-02T13:19:08.636506Z",
     "start_time": "2020-08-02T13:15:38.549617Z"
    }
   },
   "outputs": [],
   "source": [
    "inertia_list_3 = []\n",
    "for n in range(20, 30):\n",
    "    km = KMeans(n_clusters=n, max_iter=300, tol=1e-4, n_jobs=-1)\n",
    "    km.fit(X_scaled)\n",
    "    inertia_list_3.append(km.inertia_)"
   ]
  },
  {
   "cell_type": "code",
   "execution_count": 119,
   "metadata": {
    "ExecuteTime": {
     "end_time": "2020-08-02T13:19:08.798238Z",
     "start_time": "2020-08-02T13:19:08.641229Z"
    }
   },
   "outputs": [
    {
     "data": {
      "text/plain": [
       "<matplotlib.axes._subplots.AxesSubplot at 0x7f1475881f10>"
      ]
     },
     "execution_count": 119,
     "metadata": {},
     "output_type": "execute_result"
    },
    {
     "data": {
      "image/png": "[encoded data removed]",
      "text/plain": [
       "<Figure size 432x288 with 1 Axes>"
      ]
     },
     "metadata": {
      "needs_background": "light"
     },
     "output_type": "display_data"
    }
   ],
   "source": [
    "pd.DataFrame(inertia_list + inertia_list_2 + inertia_list_3).plot(kind='line')"
   ]
  },
  {
   "cell_type": "code",
   "execution_count": 120,
   "metadata": {
    "ExecuteTime": {
     "end_time": "2020-08-02T13:25:10.326057Z",
     "start_time": "2020-08-02T13:20:21.040942Z"
    }
   },
   "outputs": [],
   "source": [
    "inertia_list_4 = []\n",
    "for n in range(30, 40):\n",
    "    km = KMeans(n_clusters=n, max_iter=300, tol=1e-4, n_jobs=-1)\n",
    "    km.fit(X_scaled)\n",
    "    inertia_list_4.append(km.inertia_)"
   ]
  },
  {
   "cell_type": "code",
   "execution_count": 121,
   "metadata": {
    "ExecuteTime": {
     "end_time": "2020-08-02T13:25:10.482892Z",
     "start_time": "2020-08-02T13:25:10.332361Z"
    }
   },
   "outputs": [
    {
     "data": {
      "text/plain": [
       "<matplotlib.axes._subplots.AxesSubplot at 0x7f147570add0>"
      ]
     },
     "execution_count": 121,
     "metadata": {},
     "output_type": "execute_result"
    },
    {
     "data": {
      "image/png": "[encoded data removed]",
      "text/plain": [
       "<Figure size 432x288 with 1 Axes>"
      ]
     },
     "metadata": {
      "needs_background": "light"
     },
     "output_type": "display_data"
    }
   ],
   "source": [
    "pd.DataFrame(inertia_list + inertia_list_2 + inertia_list_3 + inertia_list_4).plot(kind='line')"
   ]
  },
  {
   "cell_type": "code",
   "execution_count": 122,
   "metadata": {
    "ExecuteTime": {
     "end_time": "2020-08-02T13:29:12.072934Z",
     "start_time": "2020-08-02T13:29:11.010026Z"
    }
   },
   "outputs": [],
   "source": [
    "from sklearn.decomposition import PCA, TruncatedSVD\n",
    "X_new = (TruncatedSVD(n_components=2, random_state=1337)\n",
    "                .fit_transform(X_scaled))"
   ]
  },
  {
   "cell_type": "code",
   "execution_count": 127,
   "metadata": {
    "ExecuteTime": {
     "end_time": "2020-08-02T13:31:04.280786Z",
     "start_time": "2020-08-02T13:31:04.138972Z"
    }
   },
   "outputs": [
    {
     "data": {
      "text/plain": [
       "<matplotlib.collections.PathCollection at 0x7f147561e410>"
      ]
     },
     "execution_count": 127,
     "metadata": {},
     "output_type": "execute_result"
    },
    {
     "data": {
      "image/png": "[encoded data removed]",
      "text/plain": [
       "<Figure size 432x288 with 1 Axes>"
      ]
     },
     "metadata": {
      "needs_background": "light"
     },
     "output_type": "display_data"
    }
   ],
   "source": [
    "plt.scatter(X_new[:, 0], X_new[:, 1])"
   ]
  },
  {
   "cell_type": "code",
   "execution_count": 129,
   "metadata": {
    "ExecuteTime": {
     "end_time": "2020-08-02T13:32:35.625143Z",
     "start_time": "2020-08-02T13:32:35.442670Z"
    }
   },
   "outputs": [],
   "source": [
    "y_pred = km.predict(X_scaled)"
   ]
  },
  {
   "cell_type": "code",
   "execution_count": 130,
   "metadata": {
    "ExecuteTime": {
     "end_time": "2020-08-02T13:32:46.584557Z",
     "start_time": "2020-08-02T13:32:46.307363Z"
    }
   },
   "outputs": [
    {
     "data": {
      "text/plain": [
       "<matplotlib.collections.PathCollection at 0x7f1475425450>"
      ]
     },
     "execution_count": 130,
     "metadata": {},
     "output_type": "execute_result"
    },
    {
     "data": {
      "image/png": "[encoded data removed]",
      "text/plain": [
       "<Figure size 432x288 with 1 Axes>"
      ]
     },
     "metadata": {
      "needs_background": "light"
     },
     "output_type": "display_data"
    }
   ],
   "source": [
    "plt.scatter(X_new[:, 0], X_new[:, 1], c=y_pred)"
   ]
  },
  {
   "cell_type": "code",
   "execution_count": 136,
   "metadata": {
    "ExecuteTime": {
     "end_time": "2020-08-02T13:35:19.176410Z",
     "start_time": "2020-08-02T13:35:19.166471Z"
    }
   },
   "outputs": [
    {
     "data": {
      "text/plain": [
       "array([740.69670894])"
      ]
     },
     "execution_count": 136,
     "metadata": {},
     "output_type": "execute_result"
    }
   ],
   "source": [
    "X_new[:, 0][X_new[:, 0] >400]"
   ]
  },
  {
   "cell_type": "code",
   "execution_count": 138,
   "metadata": {
    "ExecuteTime": {
     "end_time": "2020-08-02T13:36:16.245222Z",
     "start_time": "2020-08-02T13:36:16.236059Z"
    }
   },
   "outputs": [
    {
     "data": {
      "text/plain": [
       "(array([5239]),)"
      ]
     },
     "execution_count": 138,
     "metadata": {},
     "output_type": "execute_result"
    }
   ],
   "source": [
    "np.where(X_new[:, 0] > 500)"
   ]
  },
  {
   "cell_type": "code",
   "execution_count": 140,
   "metadata": {
    "ExecuteTime": {
     "end_time": "2020-08-02T13:36:51.454869Z",
     "start_time": "2020-08-02T13:36:51.445989Z"
    }
   },
   "outputs": [
    {
     "data": {
      "text/plain": [
       "array([ 740.69670894, -408.64753519])"
      ]
     },
     "execution_count": 140,
     "metadata": {},
     "output_type": "execute_result"
    }
   ],
   "source": [
    "X_new[5239]"
   ]
  },
  {
   "cell_type": "code",
   "execution_count": 145,
   "metadata": {
    "ExecuteTime": {
     "end_time": "2020-08-02T13:39:16.494915Z",
     "start_time": "2020-08-02T13:39:16.357079Z"
    }
   },
   "outputs": [],
   "source": [
    "X = pd.get_dummies(data_2.drop(index=5239))"
   ]
  },
  {
   "cell_type": "code",
   "execution_count": 146,
   "metadata": {
    "ExecuteTime": {
     "end_time": "2020-08-02T13:39:33.474109Z",
     "start_time": "2020-08-02T13:39:33.115794Z"
    }
   },
   "outputs": [],
   "source": [
    "X_scaled = StandardScaler().fit_transform(X)"
   ]
  },
  {
   "cell_type": "code",
   "execution_count": 147,
   "metadata": {
    "ExecuteTime": {
     "end_time": "2020-08-02T13:39:45.577667Z",
     "start_time": "2020-08-02T13:39:44.475211Z"
    }
   },
   "outputs": [],
   "source": [
    "X_new = (TruncatedSVD(n_components=2, random_state=1337)\n",
    "                .fit_transform(X_scaled))"
   ]
  },
  {
   "cell_type": "code",
   "execution_count": 148,
   "metadata": {
    "ExecuteTime": {
     "end_time": "2020-08-02T13:40:01.737046Z",
     "start_time": "2020-08-02T13:40:01.574816Z"
    }
   },
   "outputs": [
    {
     "data": {
      "text/plain": [
       "<matplotlib.collections.PathCollection at 0x7f14753dfe50>"
      ]
     },
     "execution_count": 148,
     "metadata": {},
     "output_type": "execute_result"
    },
    {
     "data": {
      "image/png": "[encoded data removed]",
      "text/plain": [
       "<Figure size 432x288 with 1 Axes>"
      ]
     },
     "metadata": {
      "needs_background": "light"
     },
     "output_type": "display_data"
    }
   ],
   "source": [
    "plt.scatter(X_new[:,0], X_new[:,1])"
   ]
  },
  {
   "cell_type": "code",
   "execution_count": 150,
   "metadata": {
    "ExecuteTime": {
     "end_time": "2020-08-02T13:55:30.280438Z",
     "start_time": "2020-08-02T13:55:30.276055Z"
    }
   },
   "outputs": [],
   "source": [
    "# np.where(X_new[:,1] > 100)"
   ]
  },
  {
   "cell_type": "code",
   "execution_count": 151,
   "metadata": {
    "ExecuteTime": {
     "end_time": "2020-08-02T13:55:31.581422Z",
     "start_time": "2020-08-02T13:55:31.555752Z"
    }
   },
   "outputs": [],
   "source": [
    "from sklearn.ensemble import IsolationForest"
   ]
  },
  {
   "cell_type": "code",
   "execution_count": 153,
   "metadata": {
    "ExecuteTime": {
     "end_time": "2020-08-02T13:55:55.320230Z",
     "start_time": "2020-08-02T13:55:55.316009Z"
    }
   },
   "outputs": [],
   "source": [
    "# data_2"
   ]
  },
  {
   "cell_type": "code",
   "execution_count": 157,
   "metadata": {
    "ExecuteTime": {
     "end_time": "2020-08-02T13:59:31.987109Z",
     "start_time": "2020-08-02T13:59:23.306899Z"
    }
   },
   "outputs": [
    {
     "data": {
      "text/plain": [
       "array([1, 1, 1, ..., 1, 1, 1])"
      ]
     },
     "execution_count": 157,
     "metadata": {},
     "output_type": "execute_result"
    }
   ],
   "source": [
    "isolate = IsolationForest(n_jobs=-1)\n",
    "isolate.fit(pd.get_dummies(data_2))\n"
   ]
  },
  {
   "cell_type": "code",
   "execution_count": 158,
   "metadata": {
    "ExecuteTime": {
     "end_time": "2020-08-02T14:00:08.862579Z",
     "start_time": "2020-08-02T14:00:03.476987Z"
    }
   },
   "outputs": [],
   "source": [
    "anomaly = isolate.predict(pd.get_dummies(data_2))\n",
    "scores = isolate.decision_function(pd.get_dummies(data_2))\n",
    "data_2['anomaly'] = anomaly\n",
    "data_3 = data_2[data_2['anomaly'] == 1].copy()\n",
    "data_3.drop(columns='anomaly', inplace=True)"
   ]
  },
  {
   "cell_type": "code",
   "execution_count": 159,
   "metadata": {
    "ExecuteTime": {
     "end_time": "2020-08-02T14:00:34.914241Z",
     "start_time": "2020-08-02T14:00:29.576284Z"
    }
   },
   "outputs": [],
   "source": []
  },
  {
   "cell_type": "code",
   "execution_count": 160,
   "metadata": {
    "ExecuteTime": {
     "end_time": "2020-08-02T14:01:10.546671Z",
     "start_time": "2020-08-02T14:01:10.535197Z"
    }
   },
   "outputs": [],
   "source": []
  },
  {
   "cell_type": "code",
   "execution_count": 161,
   "metadata": {
    "ExecuteTime": {
     "end_time": "2020-08-02T14:01:22.240670Z",
     "start_time": "2020-08-02T14:01:22.223300Z"
    }
   },
   "outputs": [
    {
     "data": {
      "text/plain": [
       "anomaly\n",
       "-1     272\n",
       " 1    7703\n",
       "dtype: int64"
      ]
     },
     "execution_count": 161,
     "metadata": {},
     "output_type": "execute_result"
    }
   ],
   "source": [
    "data_2.groupby('anomaly').size()"
   ]
  },
  {
   "cell_type": "code",
   "execution_count": 164,
   "metadata": {
    "ExecuteTime": {
     "end_time": "2020-08-02T14:02:14.315599Z",
     "start_time": "2020-08-02T14:02:14.211323Z"
    }
   },
   "outputs": [],
   "source": []
  },
  {
   "cell_type": "code",
   "execution_count": 165,
   "metadata": {
    "ExecuteTime": {
     "end_time": "2020-08-02T14:02:34.224060Z",
     "start_time": "2020-08-02T14:02:34.150131Z"
    }
   },
   "outputs": [],
   "source": [
    "X = pd.get_dummies(data_3)"
   ]
  },
  {
   "cell_type": "code",
   "execution_count": 166,
   "metadata": {
    "ExecuteTime": {
     "end_time": "2020-08-02T14:02:53.688354Z",
     "start_time": "2020-08-02T14:02:53.349612Z"
    }
   },
   "outputs": [],
   "source": [
    "X_scaled = StandardScaler().fit_transform(X)"
   ]
  },
  {
   "cell_type": "code",
   "execution_count": 167,
   "metadata": {
    "ExecuteTime": {
     "end_time": "2020-08-02T14:03:02.474077Z",
     "start_time": "2020-08-02T14:03:01.409264Z"
    }
   },
   "outputs": [],
   "source": [
    "X_new = (TruncatedSVD(n_components=2, random_state=1337)\n",
    "                .fit_transform(X_scaled))"
   ]
  },
  {
   "cell_type": "code",
   "execution_count": 168,
   "metadata": {
    "ExecuteTime": {
     "end_time": "2020-08-02T14:03:10.381587Z",
     "start_time": "2020-08-02T14:03:10.228870Z"
    }
   },
   "outputs": [
    {
     "data": {
      "text/plain": [
       "<matplotlib.collections.PathCollection at 0x7f1474f4fe50>"
      ]
     },
     "execution_count": 168,
     "metadata": {},
     "output_type": "execute_result"
    },
    {
     "data": {
      "image/png": "[encoded data removed]",
      "text/plain": [
       "<Figure size 432x288 with 1 Axes>"
      ]
     },
     "metadata": {
      "needs_background": "light"
     },
     "output_type": "display_data"
    }
   ],
   "source": [
    "plt.scatter(X_new[:,0], X_new[:,1])"
   ]
  },
  {
   "cell_type": "code",
   "execution_count": 169,
   "metadata": {
    "ExecuteTime": {
     "end_time": "2020-08-02T14:15:44.799434Z",
     "start_time": "2020-08-02T14:04:22.986619Z"
    }
   },
   "outputs": [],
   "source": [
    "inertia_list_5 = []\n",
    "for n in range(1, 40):\n",
    "    km = KMeans(n_clusters=n, max_iter=300, tol=1e-4, n_jobs=-1)\n",
    "    km.fit(X_scaled)\n",
    "    inertia_list_5.append(km.inertia_)"
   ]
  },
  {
   "cell_type": "code",
   "execution_count": 170,
   "metadata": {
    "ExecuteTime": {
     "end_time": "2020-08-02T14:18:05.992338Z",
     "start_time": "2020-08-02T14:18:05.813534Z"
    }
   },
   "outputs": [
    {
     "data": {
      "text/plain": [
       "<matplotlib.axes._subplots.AxesSubplot at 0x7f1474dc9e50>"
      ]
     },
     "execution_count": 170,
     "metadata": {},
     "output_type": "execute_result"
    },
    {
     "data": {
      "image/png": "[encoded data removed]",
      "text/plain": [
       "<Figure size 432x288 with 1 Axes>"
      ]
     },
     "metadata": {
      "needs_background": "light"
     },
     "output_type": "display_data"
    }
   ],
   "source": [
    "pd.DataFrame(inertia_list_5).plot(kind='line')"
   ]
  },
  {
   "cell_type": "code",
   "execution_count": 174,
   "metadata": {
    "ExecuteTime": {
     "end_time": "2020-08-02T23:42:03.583179Z",
     "start_time": "2020-08-02T23:42:03.544561Z"
    }
   },
   "outputs": [
    {
     "data": {
      "text/plain": [
       "0"
      ]
     },
     "execution_count": 174,
     "metadata": {},
     "output_type": "execute_result"
    }
   ],
   "source": [
    "data_2.isna().sum().sum()"
   ]
  },
  {
   "cell_type": "code",
   "execution_count": 254,
   "metadata": {
    "ExecuteTime": {
     "end_time": "2020-08-03T00:27:17.324427Z",
     "start_time": "2020-08-03T00:27:12.385217Z"
    },
    "scrolled": false
   },
   "outputs": [],
   "source": [
    "df = pd.get_dummies(data_2).drop(columns=(pd.get_dummies(data_2).sum()[pd.get_dummies(data_2).sum() <= 10]).index.to_list())"
   ]
  },
  {
   "cell_type": "code",
   "execution_count": 255,
   "metadata": {
    "ExecuteTime": {
     "end_time": "2020-08-03T00:27:18.484080Z",
     "start_time": "2020-08-03T00:27:18.025472Z"
    }
   },
   "outputs": [
    {
     "data": {
      "text/plain": [
       "<matplotlib.axes._subplots.AxesSubplot at 0x7f1469374f50>"
      ]
     },
     "execution_count": 255,
     "metadata": {},
     "output_type": "execute_result"
    },
    {
     "data": {
      "image/png": "[encoded data removed]",
      "text/plain": [
       "<Figure size 432x288 with 1 Axes>"
      ]
     },
     "metadata": {
      "needs_background": "light"
     },
     "output_type": "display_data"
    }
   ],
   "source": [
    "df['accommodates'].plot(kind='density')"
   ]
  },
  {
   "cell_type": "code",
   "execution_count": 256,
   "metadata": {
    "ExecuteTime": {
     "end_time": "2020-08-03T00:27:20.335444Z",
     "start_time": "2020-08-03T00:27:20.325364Z"
    }
   },
   "outputs": [],
   "source": [
    "df['log_accommodates'] = (df['accommodates']+1).transform(np.log)"
   ]
  },
  {
   "cell_type": "code",
   "execution_count": 257,
   "metadata": {
    "ExecuteTime": {
     "end_time": "2020-08-03T00:27:20.826241Z",
     "start_time": "2020-08-03T00:27:20.815442Z"
    }
   },
   "outputs": [
    {
     "data": {
      "text/plain": [
       "0"
      ]
     },
     "execution_count": 257,
     "metadata": {},
     "output_type": "execute_result"
    }
   ],
   "source": [
    "(df['log_accommodates'] <0).sum()"
   ]
  },
  {
   "cell_type": "code",
   "execution_count": 258,
   "metadata": {
    "ExecuteTime": {
     "end_time": "2020-08-03T00:27:22.385842Z",
     "start_time": "2020-08-03T00:27:21.940478Z"
    }
   },
   "outputs": [
    {
     "data": {
      "text/plain": [
       "<matplotlib.axes._subplots.AxesSubplot at 0x7f1469330790>"
      ]
     },
     "execution_count": 258,
     "metadata": {},
     "output_type": "execute_result"
    },
    {
     "data": {
      "image/png": "[encoded data removed]",
      "text/plain": [
       "<Figure size 432x288 with 1 Axes>"
      ]
     },
     "metadata": {
      "needs_background": "light"
     },
     "output_type": "display_data"
    }
   ],
   "source": [
    "df['price'].plot(kind='density')"
   ]
  },
  {
   "cell_type": "code",
   "execution_count": 259,
   "metadata": {
    "ExecuteTime": {
     "end_time": "2020-08-03T00:27:23.135474Z",
     "start_time": "2020-08-03T00:27:23.125598Z"
    }
   },
   "outputs": [],
   "source": [
    "df['log_price'] = (df['price']+1).transform(np.log)"
   ]
  },
  {
   "cell_type": "code",
   "execution_count": 260,
   "metadata": {
    "ExecuteTime": {
     "end_time": "2020-08-03T00:27:24.157663Z",
     "start_time": "2020-08-03T00:27:23.675257Z"
    }
   },
   "outputs": [
    {
     "data": {
      "text/plain": [
       "<matplotlib.axes._subplots.AxesSubplot at 0x7f14691e59d0>"
      ]
     },
     "execution_count": 260,
     "metadata": {},
     "output_type": "execute_result"
    },
    {
     "data": {
      "image/png": "[encoded data removed]",
      "text/plain": [
       "<Figure size 432x288 with 1 Axes>"
      ]
     },
     "metadata": {
      "needs_background": "light"
     },
     "output_type": "display_data"
    }
   ],
   "source": [
    "df['minimum_nights'].plot(kind='density')"
   ]
  },
  {
   "cell_type": "code",
   "execution_count": 261,
   "metadata": {
    "ExecuteTime": {
     "end_time": "2020-08-03T00:27:24.875789Z",
     "start_time": "2020-08-03T00:27:24.865702Z"
    }
   },
   "outputs": [],
   "source": [
    "df['log_minimum_nights'] = (df['minimum_nights']+1).transform(np.log)"
   ]
  },
  {
   "cell_type": "code",
   "execution_count": 262,
   "metadata": {
    "ExecuteTime": {
     "end_time": "2020-08-03T00:27:26.032252Z",
     "start_time": "2020-08-03T00:27:25.545335Z"
    }
   },
   "outputs": [
    {
     "data": {
      "text/plain": [
       "<matplotlib.axes._subplots.AxesSubplot at 0x7f146917edd0>"
      ]
     },
     "execution_count": 262,
     "metadata": {},
     "output_type": "execute_result"
    },
    {
     "data": {
      "image/png": "[encoded data removed]",
      "text/plain": [
       "<Figure size 432x288 with 1 Axes>"
      ]
     },
     "metadata": {
      "needs_background": "light"
     },
     "output_type": "display_data"
    }
   ],
   "source": [
    "df['maximum_nights'].plot(kind='density')"
   ]
  },
  {
   "cell_type": "code",
   "execution_count": 263,
   "metadata": {
    "ExecuteTime": {
     "end_time": "2020-08-03T00:27:27.215609Z",
     "start_time": "2020-08-03T00:27:27.205476Z"
    }
   },
   "outputs": [],
   "source": [
    "df['log_maximum_nights'] = (df['maximum_nights']+1).transform(np.log)"
   ]
  },
  {
   "cell_type": "code",
   "execution_count": 264,
   "metadata": {
    "ExecuteTime": {
     "end_time": "2020-08-03T00:27:28.606849Z",
     "start_time": "2020-08-03T00:27:28.420593Z"
    }
   },
   "outputs": [],
   "source": [
    "df_1 = df.drop(columns=['accommodates', 'price', 'minimum_nights', 'maximum_nights'])"
   ]
  },
  {
   "cell_type": "code",
   "execution_count": 267,
   "metadata": {
    "ExecuteTime": {
     "end_time": "2020-08-03T00:28:35.760177Z",
     "start_time": "2020-08-03T00:28:35.720202Z"
    }
   },
   "outputs": [
    {
     "data": {
      "text/html": [
       "<div>\n",
       "<style scoped>\n",
       "    .dataframe tbody tr th:only-of-type {\n",
       "        vertical-align: middle;\n",
       "    }\n",
       "\n",
       "    .dataframe tbody tr th {\n",
       "        vertical-align: top;\n",
       "    }\n",
       "\n",
       "    .dataframe thead th {\n",
       "        text-align: right;\n",
       "    }\n",
       "</style>\n",
       "<table border=\"1\" class=\"dataframe\">\n",
       "  <thead>\n",
       "    <tr style=\"text-align: right;\">\n",
       "      <th></th>\n",
       "      <th>bathrooms</th>\n",
       "      <th>bedrooms</th>\n",
       "      <th>beds</th>\n",
       "      <th>instant_bookable</th>\n",
       "      <th>amenities_air</th>\n",
       "      <th>amenities_cable</th>\n",
       "      <th>amenities_cat(s)</th>\n",
       "      <th>amenities_conditioning</th>\n",
       "      <th>amenities_elevator</th>\n",
       "      <th>amenities_internet</th>\n",
       "      <th>...</th>\n",
       "      <th>room_type_Entire home/apt</th>\n",
       "      <th>room_type_Private room</th>\n",
       "      <th>room_type_Shared room</th>\n",
       "      <th>bed_type_Futon</th>\n",
       "      <th>bed_type_Pull-out Sofa</th>\n",
       "      <th>bed_type_Real Bed</th>\n",
       "      <th>log_accommodates</th>\n",
       "      <th>log_price</th>\n",
       "      <th>log_minimum_nights</th>\n",
       "      <th>log_maximum_nights</th>\n",
       "    </tr>\n",
       "  </thead>\n",
       "  <tbody>\n",
       "    <tr>\n",
       "      <th>0</th>\n",
       "      <td>1.0</td>\n",
       "      <td>1.0</td>\n",
       "      <td>1.0</td>\n",
       "      <td>0</td>\n",
       "      <td>1.0</td>\n",
       "      <td>1.0</td>\n",
       "      <td>1.0</td>\n",
       "      <td>1.0</td>\n",
       "      <td>1.0</td>\n",
       "      <td>1.0</td>\n",
       "      <td>...</td>\n",
       "      <td>0</td>\n",
       "      <td>1</td>\n",
       "      <td>0</td>\n",
       "      <td>0</td>\n",
       "      <td>0</td>\n",
       "      <td>1</td>\n",
       "      <td>0.693147</td>\n",
       "      <td>4.406719</td>\n",
       "      <td>5.198497</td>\n",
       "      <td>5.888878</td>\n",
       "    </tr>\n",
       "    <tr>\n",
       "      <th>1</th>\n",
       "      <td>1.0</td>\n",
       "      <td>1.0</td>\n",
       "      <td>1.0</td>\n",
       "      <td>0</td>\n",
       "      <td>1.0</td>\n",
       "      <td>1.0</td>\n",
       "      <td>0.0</td>\n",
       "      <td>1.0</td>\n",
       "      <td>1.0</td>\n",
       "      <td>1.0</td>\n",
       "      <td>...</td>\n",
       "      <td>0</td>\n",
       "      <td>1</td>\n",
       "      <td>0</td>\n",
       "      <td>0</td>\n",
       "      <td>0</td>\n",
       "      <td>1</td>\n",
       "      <td>1.098612</td>\n",
       "      <td>4.394449</td>\n",
       "      <td>4.510860</td>\n",
       "      <td>6.594413</td>\n",
       "    </tr>\n",
       "    <tr>\n",
       "      <th>2</th>\n",
       "      <td>1.0</td>\n",
       "      <td>1.0</td>\n",
       "      <td>1.0</td>\n",
       "      <td>0</td>\n",
       "      <td>1.0</td>\n",
       "      <td>1.0</td>\n",
       "      <td>1.0</td>\n",
       "      <td>1.0</td>\n",
       "      <td>1.0</td>\n",
       "      <td>0.0</td>\n",
       "      <td>...</td>\n",
       "      <td>0</td>\n",
       "      <td>1</td>\n",
       "      <td>0</td>\n",
       "      <td>0</td>\n",
       "      <td>0</td>\n",
       "      <td>1</td>\n",
       "      <td>0.693147</td>\n",
       "      <td>4.234107</td>\n",
       "      <td>1.945910</td>\n",
       "      <td>2.708050</td>\n",
       "    </tr>\n",
       "    <tr>\n",
       "      <th>3</th>\n",
       "      <td>1.0</td>\n",
       "      <td>2.0</td>\n",
       "      <td>3.0</td>\n",
       "      <td>1</td>\n",
       "      <td>1.0</td>\n",
       "      <td>0.0</td>\n",
       "      <td>0.0</td>\n",
       "      <td>1.0</td>\n",
       "      <td>0.0</td>\n",
       "      <td>0.0</td>\n",
       "      <td>...</td>\n",
       "      <td>0</td>\n",
       "      <td>1</td>\n",
       "      <td>0</td>\n",
       "      <td>0</td>\n",
       "      <td>0</td>\n",
       "      <td>1</td>\n",
       "      <td>1.945910</td>\n",
       "      <td>5.303305</td>\n",
       "      <td>0.693147</td>\n",
       "      <td>7.026427</td>\n",
       "    </tr>\n",
       "    <tr>\n",
       "      <th>4</th>\n",
       "      <td>0.5</td>\n",
       "      <td>1.0</td>\n",
       "      <td>1.0</td>\n",
       "      <td>1</td>\n",
       "      <td>1.0</td>\n",
       "      <td>0.0</td>\n",
       "      <td>0.0</td>\n",
       "      <td>1.0</td>\n",
       "      <td>0.0</td>\n",
       "      <td>1.0</td>\n",
       "      <td>...</td>\n",
       "      <td>0</td>\n",
       "      <td>1</td>\n",
       "      <td>0</td>\n",
       "      <td>0</td>\n",
       "      <td>0</td>\n",
       "      <td>1</td>\n",
       "      <td>1.386294</td>\n",
       "      <td>4.532599</td>\n",
       "      <td>0.693147</td>\n",
       "      <td>7.026427</td>\n",
       "    </tr>\n",
       "  </tbody>\n",
       "</table>\n",
       "<p>5 rows × 2825 columns</p>\n",
       "</div>"
      ],
      "text/plain": [
       "   bathrooms  bedrooms  beds  instant_bookable  amenities_air  \\\n",
       "0        1.0       1.0   1.0                 0            1.0   \n",
       "1        1.0       1.0   1.0                 0            1.0   \n",
       "2        1.0       1.0   1.0                 0            1.0   \n",
       "3        1.0       2.0   3.0                 1            1.0   \n",
       "4        0.5       1.0   1.0                 1            1.0   \n",
       "\n",
       "   amenities_cable  amenities_cat(s)  amenities_conditioning  \\\n",
       "0              1.0               1.0                     1.0   \n",
       "1              1.0               0.0                     1.0   \n",
       "2              1.0               1.0                     1.0   \n",
       "3              0.0               0.0                     1.0   \n",
       "4              0.0               0.0                     1.0   \n",
       "\n",
       "   amenities_elevator  amenities_internet  ...  room_type_Entire home/apt  \\\n",
       "0                 1.0                 1.0  ...                          0   \n",
       "1                 1.0                 1.0  ...                          0   \n",
       "2                 1.0                 0.0  ...                          0   \n",
       "3                 0.0                 0.0  ...                          0   \n",
       "4                 0.0                 1.0  ...                          0   \n",
       "\n",
       "   room_type_Private room  room_type_Shared room  bed_type_Futon  \\\n",
       "0                       1                      0               0   \n",
       "1                       1                      0               0   \n",
       "2                       1                      0               0   \n",
       "3                       1                      0               0   \n",
       "4                       1                      0               0   \n",
       "\n",
       "   bed_type_Pull-out Sofa  bed_type_Real Bed  log_accommodates  log_price  \\\n",
       "0                       0                  1          0.693147   4.406719   \n",
       "1                       0                  1          1.098612   4.394449   \n",
       "2                       0                  1          0.693147   4.234107   \n",
       "3                       0                  1          1.945910   5.303305   \n",
       "4                       0                  1          1.386294   4.532599   \n",
       "\n",
       "   log_minimum_nights  log_maximum_nights  \n",
       "0            5.198497            5.888878  \n",
       "1            4.510860            6.594413  \n",
       "2            1.945910            2.708050  \n",
       "3            0.693147            7.026427  \n",
       "4            0.693147            7.026427  \n",
       "\n",
       "[5 rows x 2825 columns]"
      ]
     },
     "execution_count": 267,
     "metadata": {},
     "output_type": "execute_result"
    }
   ],
   "source": [
    "df_1.head()"
   ]
  },
  {
   "cell_type": "code",
   "execution_count": 266,
   "metadata": {
    "ExecuteTime": {
     "end_time": "2020-08-03T00:27:57.990623Z",
     "start_time": "2020-08-03T00:27:51.665052Z"
    }
   },
   "outputs": [
    {
     "data": {
      "text/plain": [
       "IsolationForest(behaviour='deprecated', bootstrap=False, contamination='auto',\n",
       "                max_features=1.0, max_samples='auto', n_estimators=100,\n",
       "                n_jobs=-1, random_state=None, verbose=0, warm_start=False)"
      ]
     },
     "execution_count": 266,
     "metadata": {},
     "output_type": "execute_result"
    }
   ],
   "source": [
    "isolate = IsolationForest(n_jobs=-1)\n",
    "isolate.fit(df_1)"
   ]
  },
  {
   "cell_type": "code",
   "execution_count": 268,
   "metadata": {
    "ExecuteTime": {
     "end_time": "2020-08-03T00:32:21.914046Z",
     "start_time": "2020-08-03T00:32:00.758183Z"
    }
   },
   "outputs": [],
   "source": [
    "anomaly = isolate.predict(df_1)\n",
    "scores = isolate.decision_function(df_1)\n",
    "df_1['anomaly'] = anomaly\n",
    "df_1_1 = df_1[df_1['anomaly'] == 1].copy()\n",
    "df_1_1.drop(columns='anomaly', inplace=True)"
   ]
  },
  {
   "cell_type": "code",
   "execution_count": 269,
   "metadata": {
    "ExecuteTime": {
     "end_time": "2020-08-03T00:32:24.443986Z",
     "start_time": "2020-08-03T00:32:24.433243Z"
    }
   },
   "outputs": [
    {
     "data": {
      "text/plain": [
       "1.0"
      ]
     },
     "execution_count": 269,
     "metadata": {},
     "output_type": "execute_result"
    }
   ],
   "source": [
    "len(anomaly)/len(df_1)"
   ]
  },
  {
   "cell_type": "code",
   "execution_count": 271,
   "metadata": {
    "ExecuteTime": {
     "end_time": "2020-08-03T00:32:38.190974Z",
     "start_time": "2020-08-03T00:32:38.182253Z"
    }
   },
   "outputs": [
    {
     "data": {
      "text/plain": [
       "7975"
      ]
     },
     "execution_count": 271,
     "metadata": {},
     "output_type": "execute_result"
    }
   ],
   "source": [
    "len(anomaly)"
   ]
  },
  {
   "cell_type": "code",
   "execution_count": 275,
   "metadata": {
    "ExecuteTime": {
     "end_time": "2020-08-03T00:33:12.736901Z",
     "start_time": "2020-08-03T00:33:12.697154Z"
    }
   },
   "outputs": [
    {
     "data": {
      "text/plain": [
       "0"
      ]
     },
     "execution_count": 275,
     "metadata": {},
     "output_type": "execute_result"
    }
   ],
   "source": [
    "sum(anomaly == -1)"
   ]
  },
  {
   "cell_type": "code",
   "execution_count": 277,
   "metadata": {
    "ExecuteTime": {
     "end_time": "2020-08-03T00:33:24.709566Z",
     "start_time": "2020-08-03T00:33:24.701847Z"
    }
   },
   "outputs": [
    {
     "data": {
      "text/plain": [
       "7975"
      ]
     },
     "execution_count": 277,
     "metadata": {},
     "output_type": "execute_result"
    }
   ],
   "source": [
    "len(df_1_1)"
   ]
  },
  {
   "cell_type": "code",
   "execution_count": 278,
   "metadata": {
    "ExecuteTime": {
     "end_time": "2020-08-03T00:34:44.827743Z",
     "start_time": "2020-08-03T00:34:44.221603Z"
    }
   },
   "outputs": [],
   "source": [
    "X_scaled = StandardScaler().fit_transform(df_1_1)"
   ]
  },
  {
   "cell_type": "code",
   "execution_count": 279,
   "metadata": {
    "ExecuteTime": {
     "end_time": "2020-08-03T00:35:05.238241Z",
     "start_time": "2020-08-03T00:35:03.296500Z"
    }
   },
   "outputs": [],
   "source": [
    "X_new = (TruncatedSVD(n_components=2, random_state=1337)\n",
    "                .fit_transform(X_scaled))"
   ]
  },
  {
   "cell_type": "code",
   "execution_count": 281,
   "metadata": {
    "ExecuteTime": {
     "end_time": "2020-08-03T00:35:23.903168Z",
     "start_time": "2020-08-03T00:35:23.761408Z"
    }
   },
   "outputs": [
    {
     "data": {
      "text/plain": [
       "<matplotlib.collections.PathCollection at 0x7f1468f4a790>"
      ]
     },
     "execution_count": 281,
     "metadata": {},
     "output_type": "execute_result"
    },
    {
     "data": {
      "image/png": "[encoded data removed]",
      "text/plain": [
       "<Figure size 432x288 with 1 Axes>"
      ]
     },
     "metadata": {
      "needs_background": "light"
     },
     "output_type": "display_data"
    }
   ],
   "source": [
    "plt.scatter(X_new[:,0], X_new[:,1])"
   ]
  },
  {
   "cell_type": "code",
   "execution_count": 282,
   "metadata": {
    "ExecuteTime": {
     "end_time": "2020-08-03T00:36:34.840354Z",
     "start_time": "2020-08-03T00:36:32.440828Z"
    }
   },
   "outputs": [],
   "source": [
    "X_new_pca = PCA(n_components=2, random_state=1337).fit_transform(X_scaled)"
   ]
  },
  {
   "cell_type": "code",
   "execution_count": 283,
   "metadata": {
    "ExecuteTime": {
     "end_time": "2020-08-03T00:36:45.464638Z",
     "start_time": "2020-08-03T00:36:45.300184Z"
    }
   },
   "outputs": [
    {
     "data": {
      "text/plain": [
       "<matplotlib.collections.PathCollection at 0x7f1468ef3890>"
      ]
     },
     "execution_count": 283,
     "metadata": {},
     "output_type": "execute_result"
    },
    {
     "data": {
      "image/png": "[encoded data removed]",
      "text/plain": [
       "<Figure size 432x288 with 1 Axes>"
      ]
     },
     "metadata": {
      "needs_background": "light"
     },
     "output_type": "display_data"
    }
   ],
   "source": [
    "plt.scatter(X_new_pca[:,0], X_new_pca[:,1])"
   ]
  },
  {
   "cell_type": "code",
   "execution_count": 300,
   "metadata": {
    "ExecuteTime": {
     "end_time": "2020-08-03T01:06:54.139465Z",
     "start_time": "2020-08-03T01:06:54.123379Z"
    }
   },
   "outputs": [],
   "source": [
    "def gap_statistic(X, y, centroids, dist, b, clusterer, random_state=None):\n",
    "    \"\"\"Compute the gap statistic\n",
    "    \n",
    "    Parameters\n",
    "    ----------\n",
    "    X : array\n",
    "        Design matrix with each row corresponding to a point\n",
    "    y : array\n",
    "        Class label of each point\n",
    "    centroids : array\n",
    "        Number of pairs to sample\n",
    "    dist : callable\n",
    "        Distance between two points. It should accept two arrays, each \n",
    "        corresponding to the coordinates of each point\n",
    "    b : int\n",
    "        Number of realizations for the reference distribution\n",
    "    clusterer : KMeans\n",
    "        Clusterer object that will be used for clustering the reference \n",
    "        realizations\n",
    "    random_state : int, default=None\n",
    "        Determines random number generation for realizations\n",
    "        \n",
    "    Returns\n",
    "    -------\n",
    "    gs : float\n",
    "        Gap statistic\n",
    "    gs_std : float\n",
    "        Standard deviation of gap statistic\n",
    "    \"\"\"\n",
    "    rng = np.random.default_rng(random_state)\n",
    "    W_ki = []\n",
    "    for i in range(b):\n",
    "        distribution = rng.uniform(X.min(0), X.max(0), X.shape)\n",
    "        realizations = clusterer.fit_predict(distribution)\n",
    "        W_ki.append(np.log(pooled_within_ssd(distribution, realizations, \n",
    "                                             clusterer.cluster_centers_, \n",
    "                                             dist)))\n",
    "    E_logWk = np.mean(W_ki)\n",
    "    Gap = E_logWk - np.log(pooled_within_ssd(X, y, centroids, dist))\n",
    "    return Gap, np.std(W_ki)"
   ]
  },
  {
   "cell_type": "code",
   "execution_count": 305,
   "metadata": {
    "ExecuteTime": {
     "end_time": "2020-08-03T01:12:50.600551Z",
     "start_time": "2020-08-03T01:11:06.160858Z"
    }
   },
   "outputs": [],
   "source": [
    "from sklearn.metrics import calinski_harabasz_score\n",
    "from sklearn.metrics import silhouette_score\n",
    "from scipy.spatial.distance import euclidean, cityblock\n",
    "\n",
    "inertia_list_6 = []\n",
    "CH = []\n",
    "SC= []\n",
    "GS = []\n",
    "for n in range(2, 6):\n",
    "    km = KMeans(n_clusters=n, max_iter=300, tol=1e-4, n_jobs=-1)\n",
    "    km.fit(X_scaled)\n",
    "    inertia_list_6.append(km.inertia_)\n",
    "    CH.append(calinski_harabasz_score(X_scaled, km.predict(X_scaled)))\n",
    "    SC.append(silhouette_score(X_scaled, km.predict(X_scaled)))\n",
    "#     GS.append(gap_statistic(X_scaled, km.predict(X_scaled), km.cluster_centers_, euclidean, n, KMeans))"
   ]
  },
  {
   "cell_type": "code",
   "execution_count": 308,
   "metadata": {
    "ExecuteTime": {
     "end_time": "2020-08-03T01:13:41.868450Z",
     "start_time": "2020-08-03T01:13:41.722232Z"
    }
   },
   "outputs": [
    {
     "data": {
      "text/plain": [
       "<matplotlib.axes._subplots.AxesSubplot at 0x7f1475ead090>"
      ]
     },
     "execution_count": 308,
     "metadata": {},
     "output_type": "execute_result"
    },
    {
     "data": {
      "image/png": "[encoded data removed]",
      "text/plain": [
       "<Figure size 432x288 with 1 Axes>"
      ]
     },
     "metadata": {
      "needs_background": "light"
     },
     "output_type": "display_data"
    }
   ],
   "source": [
    "pd.DataFrame(inertia_list_6).plot(kind='line')"
   ]
  },
  {
   "cell_type": "code",
   "execution_count": 309,
   "metadata": {
    "ExecuteTime": {
     "end_time": "2020-08-03T01:14:04.133015Z",
     "start_time": "2020-08-03T01:14:03.976701Z"
    }
   },
   "outputs": [
    {
     "data": {
      "text/plain": [
       "<matplotlib.axes._subplots.AxesSubplot at 0x7f1468a09210>"
      ]
     },
     "execution_count": 309,
     "metadata": {},
     "output_type": "execute_result"
    },
    {
     "data": {
      "image/png": "[encoded data removed]",
      "text/plain": [
       "<Figure size 432x288 with 1 Axes>"
      ]
     },
     "metadata": {
      "needs_background": "light"
     },
     "output_type": "display_data"
    }
   ],
   "source": [
    "pd.DataFrame(CH).plot(kind='line')"
   ]
  },
  {
   "cell_type": "code",
   "execution_count": 310,
   "metadata": {
    "ExecuteTime": {
     "end_time": "2020-08-03T01:14:24.174658Z",
     "start_time": "2020-08-03T01:14:24.019342Z"
    }
   },
   "outputs": [
    {
     "data": {
      "text/plain": [
       "<matplotlib.axes._subplots.AxesSubplot at 0x7f14684e9090>"
      ]
     },
     "execution_count": 310,
     "metadata": {},
     "output_type": "execute_result"
    },
    {
     "data": {
      "image/png": "[encoded data removed]",
      "text/plain": [
       "<Figure size 432x288 with 1 Axes>"
      ]
     },
     "metadata": {
      "needs_background": "light"
     },
     "output_type": "display_data"
    }
   ],
   "source": [
    "pd.DataFrame(SC).plot(kind='line')"
   ]
  },
  {
   "cell_type": "code",
   "execution_count": 313,
   "metadata": {
    "ExecuteTime": {
     "end_time": "2020-08-03T01:22:28.928792Z",
     "start_time": "2020-08-03T01:20:13.226748Z"
    }
   },
   "outputs": [],
   "source": [
    "inertia_list_7 = []\n",
    "CH_7 = []\n",
    "SC_7= []\n",
    "# GS = []\n",
    "for n in range(6, 10):\n",
    "    km = KMeans(n_clusters=n, max_iter=300, tol=1e-4, n_jobs=-1)\n",
    "    km.fit(X_scaled)\n",
    "    inertia_list_7.append(km.inertia_)\n",
    "    CH_7.append(calinski_harabasz_score(X_scaled, km.predict(X_scaled)))\n",
    "    SC_7.append(silhouette_score(X_scaled, km.predict(X_scaled)))"
   ]
  },
  {
   "cell_type": "code",
   "execution_count": 316,
   "metadata": {
    "ExecuteTime": {
     "end_time": "2020-08-03T01:24:16.679185Z",
     "start_time": "2020-08-03T01:24:16.519527Z"
    }
   },
   "outputs": [
    {
     "data": {
      "text/plain": [
       "<matplotlib.axes._subplots.AxesSubplot at 0x7f14691b5b90>"
      ]
     },
     "execution_count": 316,
     "metadata": {},
     "output_type": "execute_result"
    },
    {
     "data": {
      "image/png": "[encoded data removed]",
      "text/plain": [
       "<Figure size 432x288 with 1 Axes>"
      ]
     },
     "metadata": {
      "needs_background": "light"
     },
     "output_type": "display_data"
    }
   ],
   "source": [
    "pd.DataFrame(inertia_list_6+inertia_list_7).plot(kind='line')"
   ]
  },
  {
   "cell_type": "code",
   "execution_count": 318,
   "metadata": {
    "ExecuteTime": {
     "end_time": "2020-08-03T01:24:41.374553Z",
     "start_time": "2020-08-03T01:24:41.234127Z"
    }
   },
   "outputs": [
    {
     "data": {
      "text/plain": [
       "<matplotlib.axes._subplots.AxesSubplot at 0x7f14691f8710>"
      ]
     },
     "execution_count": 318,
     "metadata": {},
     "output_type": "execute_result"
    },
    {
     "data": {
      "image/png": "[encoded data removed]",
      "text/plain": [
       "<Figure size 432x288 with 1 Axes>"
      ]
     },
     "metadata": {
      "needs_background": "light"
     },
     "output_type": "display_data"
    }
   ],
   "source": [
    "pd.DataFrame(CH+CH_7).plot(kind='line')"
   ]
  },
  {
   "cell_type": "code",
   "execution_count": 319,
   "metadata": {
    "ExecuteTime": {
     "end_time": "2020-08-03T01:25:10.047159Z",
     "start_time": "2020-08-03T01:25:09.898193Z"
    }
   },
   "outputs": [
    {
     "data": {
      "text/plain": [
       "<matplotlib.axes._subplots.AxesSubplot at 0x7f14690b9cd0>"
      ]
     },
     "execution_count": 319,
     "metadata": {},
     "output_type": "execute_result"
    },
    {
     "data": {
      "image/png": "[encoded data removed]",
      "text/plain": [
       "<Figure size 432x288 with 1 Axes>"
      ]
     },
     "metadata": {
      "needs_background": "light"
     },
     "output_type": "display_data"
    }
   ],
   "source": [
    "pd.DataFrame(SC+SC_7).plot(kind='line')"
   ]
  },
  {
   "cell_type": "code",
   "execution_count": 295,
   "metadata": {
    "ExecuteTime": {
     "end_time": "2020-08-03T00:48:43.779644Z",
     "start_time": "2020-08-03T00:48:36.127298Z"
    }
   },
   "outputs": [],
   "source": [
    "km_4 = KMeans(n_clusters=3, max_iter=300, tol=1e-4, n_jobs=-1)\n",
    "y_pred_km4 = km_4.fit_predict(X_scaled)"
   ]
  },
  {
   "cell_type": "code",
   "execution_count": 296,
   "metadata": {
    "ExecuteTime": {
     "end_time": "2020-08-03T00:48:44.038648Z",
     "start_time": "2020-08-03T00:48:43.784362Z"
    }
   },
   "outputs": [
    {
     "data": {
      "text/plain": [
       "<matplotlib.collections.PathCollection at 0x7f14689aa4d0>"
      ]
     },
     "execution_count": 296,
     "metadata": {},
     "output_type": "execute_result"
    },
    {
     "data": {
      "image/png": "[encoded data removed]",
      "text/plain": [
       "<Figure size 432x288 with 1 Axes>"
      ]
     },
     "metadata": {
      "needs_background": "light"
     },
     "output_type": "display_data"
    }
   ],
   "source": [
    "plt.scatter(X_new[:,0], X_new[:,1], c=y_pred_km4)"
   ]
  },
  {
   "cell_type": "code",
   "execution_count": 339,
   "metadata": {
    "ExecuteTime": {
     "end_time": "2020-08-03T01:44:41.683278Z",
     "start_time": "2020-08-03T01:43:26.190896Z"
    }
   },
   "outputs": [
    {
     "data": {
      "text/plain": [
       "<matplotlib.collections.PathCollection at 0x7f1455c67290>"
      ]
     },
     "execution_count": 339,
     "metadata": {},
     "output_type": "execute_result"
    },
    {
     "data": {
      "image/png": "[encoded data removed]",
      "text/plain": [
       "<Figure size 432x288 with 1 Axes>"
      ]
     },
     "metadata": {
      "needs_background": "light"
     },
     "output_type": "display_data"
    }
   ],
   "source": [
    "agc = AgglomerativeClustering(n_clusters=3, linkage='ward')\n",
    "y_pred_agc = agc.fit_predict(X_scaled)\n",
    "plt.scatter(X_new[:,0], X_new[:,1], c=y_pred_agc)"
   ]
  },
  {
   "cell_type": "code",
   "execution_count": 340,
   "metadata": {
    "ExecuteTime": {
     "end_time": "2020-08-03T01:45:54.131716Z",
     "start_time": "2020-08-03T01:44:41.685561Z"
    }
   },
   "outputs": [],
   "source": [
    "agc = AgglomerativeClustering(n_clusters=4, linkage='average', affinity='cosine')\n",
    "y_pred_agc = agc.fit_predict(X_scaled)\n",
    "# plt.scatter(X_new[:,0], X_new[:,1], y_pred_agc)"
   ]
  },
  {
   "cell_type": "code",
   "execution_count": 341,
   "metadata": {
    "ExecuteTime": {
     "end_time": "2020-08-03T01:45:54.366928Z",
     "start_time": "2020-08-03T01:45:54.134301Z"
    }
   },
   "outputs": [
    {
     "data": {
      "text/plain": [
       "<matplotlib.collections.PathCollection at 0x7f1455dbac10>"
      ]
     },
     "execution_count": 341,
     "metadata": {},
     "output_type": "execute_result"
    },
    {
     "data": {
      "image/png": "[encoded data removed]",
      "text/plain": [
       "<Figure size 432x288 with 1 Axes>"
      ]
     },
     "metadata": {
      "needs_background": "light"
     },
     "output_type": "display_data"
    }
   ],
   "source": [
    "plt.scatter(X_new[:,0], X_new[:,1], c=y_pred_agc)"
   ]
  },
  {
   "cell_type": "code",
   "execution_count": 337,
   "metadata": {
    "ExecuteTime": {
     "end_time": "2020-08-03T01:43:25.944399Z",
     "start_time": "2020-08-03T01:42:12.086493Z"
    }
   },
   "outputs": [],
   "source": [
    "agc = AgglomerativeClustering(n_clusters=3, linkage='single', affinity='cosine')\n",
    "y_pred_agc = agc.fit_predict(X_scaled)"
   ]
  },
  {
   "cell_type": "code",
   "execution_count": 338,
   "metadata": {
    "ExecuteTime": {
     "end_time": "2020-08-03T01:43:26.189537Z",
     "start_time": "2020-08-03T01:43:25.947535Z"
    }
   },
   "outputs": [
    {
     "data": {
      "text/plain": [
       "<matplotlib.collections.PathCollection at 0x7f1455cfcf10>"
      ]
     },
     "execution_count": 338,
     "metadata": {},
     "output_type": "execute_result"
    },
    {
     "data": {
      "image/png": "[encoded data removed]",
      "text/plain": [
       "<Figure size 432x288 with 1 Axes>"
      ]
     },
     "metadata": {
      "needs_background": "light"
     },
     "output_type": "display_data"
    }
   ],
   "source": [
    "plt.scatter(X_new[:,0], X_new[:,1], c=y_pred_agc)"
   ]
  },
  {
   "cell_type": "code",
   "execution_count": 324,
   "metadata": {
    "ExecuteTime": {
     "end_time": "2020-08-03T01:33:30.957841Z",
     "start_time": "2020-08-03T01:33:30.952759Z"
    }
   },
   "outputs": [],
   "source": [
    "from sklearn.cluster import DBSCAN"
   ]
  },
  {
   "cell_type": "code",
   "execution_count": 325,
   "metadata": {
    "ExecuteTime": {
     "end_time": "2020-08-03T01:35:38.404974Z",
     "start_time": "2020-08-03T01:35:11.197979Z"
    }
   },
   "outputs": [],
   "source": [
    "db = DBSCAN(eps=0.5, min_samples=5, metric='cosine', algorithm='auto', n_jobs=-1)\n",
    "y_pred_db = db.fit_predict(X_scaled)"
   ]
  },
  {
   "cell_type": "code",
   "execution_count": 329,
   "metadata": {
    "ExecuteTime": {
     "end_time": "2020-08-03T01:36:12.339149Z",
     "start_time": "2020-08-03T01:36:12.091841Z"
    }
   },
   "outputs": [
    {
     "data": {
      "text/plain": [
       "<matplotlib.collections.PathCollection at 0x7f1455f8f910>"
      ]
     },
     "execution_count": 329,
     "metadata": {},
     "output_type": "execute_result"
    },
    {
     "data": {
      "image/png": "[encoded data removed]",
      "text/plain": [
       "<Figure size 432x288 with 1 Axes>"
      ]
     },
     "metadata": {
      "needs_background": "light"
     },
     "output_type": "display_data"
    }
   ],
   "source": [
    "plt.scatter(X_new[:,0], X_new[:,1], c=y_pred_db)"
   ]
  },
  {
   "cell_type": "code",
   "execution_count": 342,
   "metadata": {
    "ExecuteTime": {
     "end_time": "2020-08-03T01:47:57.968049Z",
     "start_time": "2020-08-03T01:46:44.586955Z"
    }
   },
   "outputs": [],
   "source": [
    "agc = AgglomerativeClustering(n_clusters=3, linkage='average', affinity='cosine')\n",
    "y_pred_agc = agc.fit_predict(X_scaled)\n",
    "# plt.scatter(X_new[:,0], X_new[:,1], y_pred_agc)"
   ]
  },
  {
   "cell_type": "code",
   "execution_count": 352,
   "metadata": {
    "ExecuteTime": {
     "end_time": "2020-08-03T01:50:17.923128Z",
     "start_time": "2020-08-03T01:50:17.908372Z"
    }
   },
   "outputs": [],
   "source": [
    "data_copy = data.copy()\n",
    "data_copy['pred_label'] = y_pred_agc"
   ]
  },
  {
   "cell_type": "code",
   "execution_count": 344,
   "metadata": {
    "ExecuteTime": {
     "end_time": "2020-08-03T01:48:23.123488Z",
     "start_time": "2020-08-03T01:48:23.113244Z"
    }
   },
   "outputs": [
    {
     "data": {
      "text/plain": [
       "array([0, 1, 2])"
      ]
     },
     "execution_count": 344,
     "metadata": {},
     "output_type": "execute_result"
    }
   ],
   "source": [
    "np.unique(y_pred_agc)"
   ]
  },
  {
   "cell_type": "code",
   "execution_count": 359,
   "metadata": {
    "ExecuteTime": {
     "end_time": "2020-08-03T01:52:16.133230Z",
     "start_time": "2020-08-03T01:52:15.918433Z"
    }
   },
   "outputs": [
    {
     "data": {
      "text/plain": [
       "<matplotlib.axes._subplots.AxesSubplot at 0x7f1455c56050>"
      ]
     },
     "execution_count": 359,
     "metadata": {},
     "output_type": "execute_result"
    },
    {
     "data": {
      "image/png": "[encoded data removed]",
      "text/plain": [
       "<Figure size 432x288 with 1 Axes>"
      ]
     },
     "metadata": {
      "needs_background": "light"
     },
     "output_type": "display_data"
    }
   ],
   "source": [
    "data_copy[data_copy['pred_label']==0].groupby('property_type').size().plot(kind='bar')"
   ]
  },
  {
   "cell_type": "code",
   "execution_count": 361,
   "metadata": {
    "ExecuteTime": {
     "end_time": "2020-08-03T01:52:23.491033Z",
     "start_time": "2020-08-03T01:52:23.258846Z"
    }
   },
   "outputs": [
    {
     "data": {
      "text/plain": [
       "<matplotlib.axes._subplots.AxesSubplot at 0x7f1455b48cd0>"
      ]
     },
     "execution_count": 361,
     "metadata": {},
     "output_type": "execute_result"
    },
    {
     "data": {
      "image/png": "[encoded data removed]",
      "text/plain": [
       "<Figure size 432x288 with 1 Axes>"
      ]
     },
     "metadata": {
      "needs_background": "light"
     },
     "output_type": "display_data"
    }
   ],
   "source": [
    "data_copy[data_copy['pred_label']==1].groupby('property_type').size().plot(kind='bar')"
   ]
  },
  {
   "cell_type": "code",
   "execution_count": 362,
   "metadata": {
    "ExecuteTime": {
     "end_time": "2020-08-03T01:52:44.972248Z",
     "start_time": "2020-08-03T01:52:44.843406Z"
    }
   },
   "outputs": [
    {
     "data": {
      "text/plain": [
       "<matplotlib.axes._subplots.AxesSubplot at 0x7f1455a90750>"
      ]
     },
     "execution_count": 362,
     "metadata": {},
     "output_type": "execute_result"
    },
    {
     "data": {
      "image/png": "[encoded data removed]",
      "text/plain": [
       "<Figure size 432x288 with 1 Axes>"
      ]
     },
     "metadata": {
      "needs_background": "light"
     },
     "output_type": "display_data"
    }
   ],
   "source": [
    "data_copy[data_copy['pred_label']==2].groupby('property_type').size().plot(kind='bar')"
   ]
  },
  {
   "cell_type": "code",
   "execution_count": 366,
   "metadata": {
    "ExecuteTime": {
     "end_time": "2020-08-03T01:53:18.195622Z",
     "start_time": "2020-08-03T01:53:18.178603Z"
    }
   },
   "outputs": [
    {
     "data": {
      "text/plain": [
       "room_type\n",
       "Entire home/apt    2047\n",
       "Private room       1239\n",
       "Shared room         172\n",
       "dtype: int64"
      ]
     },
     "execution_count": 366,
     "metadata": {},
     "output_type": "execute_result"
    }
   ],
   "source": [
    "data_copy[data_copy['pred_label']==0].groupby('room_type').size()"
   ]
  },
  {
   "cell_type": "code",
   "execution_count": 367,
   "metadata": {
    "ExecuteTime": {
     "end_time": "2020-08-03T01:53:24.542300Z",
     "start_time": "2020-08-03T01:53:24.524274Z"
    }
   },
   "outputs": [
    {
     "data": {
      "text/plain": [
       "room_type\n",
       "Entire home/apt    1956\n",
       "Private room       2055\n",
       "Shared room         249\n",
       "dtype: int64"
      ]
     },
     "execution_count": 367,
     "metadata": {},
     "output_type": "execute_result"
    }
   ],
   "source": [
    "data_copy[data_copy['pred_label']==1].groupby('room_type').size()"
   ]
  },
  {
   "cell_type": "code",
   "execution_count": 383,
   "metadata": {
    "ExecuteTime": {
     "end_time": "2020-08-03T01:56:25.664041Z",
     "start_time": "2020-08-03T01:56:25.398951Z"
    }
   },
   "outputs": [
    {
     "data": {
      "text/plain": [
       "<matplotlib.axes._subplots.AxesSubplot at 0x7f14381e4910>"
      ]
     },
     "execution_count": 383,
     "metadata": {},
     "output_type": "execute_result"
    },
    {
     "data": {
      "image/png": "[encoded data removed]",
      "text/plain": [
       "<Figure size 432x288 with 1 Axes>"
      ]
     },
     "metadata": {
      "needs_background": "light"
     },
     "output_type": "display_data"
    }
   ],
   "source": [
    "data_2[data_2['pred_label']==0].groupby('price').size().plot(kind='hist')"
   ]
  },
  {
   "cell_type": "code",
   "execution_count": 381,
   "metadata": {
    "ExecuteTime": {
     "end_time": "2020-08-03T01:56:16.179825Z",
     "start_time": "2020-08-03T01:56:15.898943Z"
    }
   },
   "outputs": [
    {
     "data": {
      "text/plain": [
       "<matplotlib.axes._subplots.AxesSubplot at 0x7f1448128690>"
      ]
     },
     "execution_count": 381,
     "metadata": {},
     "output_type": "execute_result"
    },
    {
     "data": {
      "image/png": "[encoded data removed]",
      "text/plain": [
       "<Figure size 432x288 with 1 Axes>"
      ]
     },
     "metadata": {
      "needs_background": "light"
     },
     "output_type": "display_data"
    }
   ],
   "source": [
    "data_2[data_2['pred_label']==1].groupby('price').size().plot(kind='hist')"
   ]
  },
  {
   "cell_type": "code",
   "execution_count": 382,
   "metadata": {
    "ExecuteTime": {
     "end_time": "2020-08-03T01:56:20.505318Z",
     "start_time": "2020-08-03T01:56:20.339268Z"
    }
   },
   "outputs": [
    {
     "data": {
      "text/plain": [
       "<matplotlib.axes._subplots.AxesSubplot at 0x7f14381bdb90>"
      ]
     },
     "execution_count": 382,
     "metadata": {},
     "output_type": "execute_result"
    },
    {
     "data": {
      "image/png": "[encoded data removed]",
      "text/plain": [
       "<Figure size 432x288 with 1 Axes>"
      ]
     },
     "metadata": {
      "needs_background": "light"
     },
     "output_type": "display_data"
    }
   ],
   "source": [
    "data_2[data_2['pred_label']==2].groupby('price').size().plot(kind='hist')"
   ]
  },
  {
   "cell_type": "code",
   "execution_count": null,
   "metadata": {
    "ExecuteTime": {
     "end_time": "2020-08-03T02:00:57.033130Z",
     "start_time": "2020-08-03T02:00:33.470Z"
    }
   },
   "outputs": [],
   "source": [
    "# data_2[data_2['pred_label']==1].sum()"
   ]
  },
  {
   "cell_type": "code",
   "execution_count": null,
   "metadata": {
    "ExecuteTime": {
     "start_time": "2020-08-03T02:00:58.778Z"
    }
   },
   "outputs": [],
   "source": [
    "data_2[data_2['pred_label']==1].sum()"
   ]
  },
  {
   "cell_type": "code",
   "execution_count": null,
   "metadata": {},
   "outputs": [],
   "source": []
  }
 ],
 "metadata": {
  "kernelspec": {
   "display_name": "Python 3",
   "language": "python",
   "name": "python3"
  },
  "language_info": {
   "codemirror_mode": {
    "name": "ipython",
    "version": 3
   },
   "file_extension": ".py",
   "mimetype": "text/x-python",
   "name": "python",
   "nbconvert_exporter": "python",
   "pygments_lexer": "ipython3",
   "version": "3.7.6"
  }
 },
 "nbformat": 4,
 "nbformat_minor": 4
}
