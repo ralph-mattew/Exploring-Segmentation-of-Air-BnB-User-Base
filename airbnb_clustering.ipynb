{
 "cells": [
  {
   "cell_type": "code",
   "execution_count": 216,
   "metadata": {
    "ExecuteTime": {
     "end_time": "2020-08-01T14:04:38.609667Z",
     "start_time": "2020-08-01T14:04:38.546701Z"
    }
   },
   "outputs": [],
   "source": [
    "import pandas as pd\n",
    "import numpy as np\n",
    "import gzip\n",
    "from collections import Counter\n",
    "import matplotlib.pyplot as plt\n",
    "from sklearn.preprocessing import StandardScaler\n",
    "from sklearn.cluster import KMeans"
   ]
  },
  {
   "cell_type": "code",
   "execution_count": 4,
   "metadata": {
    "ExecuteTime": {
     "end_time": "2020-07-23T05:36:48.894849Z",
     "start_time": "2020-07-23T05:36:48.182691Z"
    }
   },
   "outputs": [
    {
     "name": "stdout",
     "output_type": "stream",
     "text": [
      "cp: missing destination file operand after '/mnt/data/public/insideairbnb/data.insideairbnb.com/singapore/sg/singapore/2019-03-18/data/calendar.csv.gz'\r\n",
      "Try 'cp --help' for more information.\r\n"
     ]
    }
   ],
   "source": [
    "!cp /mnt/data/public/insideairbnb/data.insideairbnb.com/singapore/sg/singapore/2019-03-18/data/calendar.csv.gz >> "
   ]
  },
  {
   "cell_type": "code",
   "execution_count": 22,
   "metadata": {
    "ExecuteTime": {
     "end_time": "2020-08-01T12:02:49.582394Z",
     "start_time": "2020-08-01T12:02:47.602716Z"
    }
   },
   "outputs": [],
   "source": [
    "f_path = '/mnt/data/public/insideairbnb/data.insideairbnb.com/singapore/sg/singapore/2019-03-18/data/calendar.csv.gz'\n",
    "with gzip.open(f_path, 'r') as f:\n",
    "    df = pd.read_csv(f)"
   ]
  },
  {
   "cell_type": "code",
   "execution_count": 39,
   "metadata": {
    "ExecuteTime": {
     "end_time": "2020-08-01T12:22:14.138964Z",
     "start_time": "2020-08-01T12:22:14.002733Z"
    }
   },
   "outputs": [
    {
     "data": {
      "text/html": [
       "<div>\n",
       "<style scoped>\n",
       "    .dataframe tbody tr th:only-of-type {\n",
       "        vertical-align: middle;\n",
       "    }\n",
       "\n",
       "    .dataframe tbody tr th {\n",
       "        vertical-align: top;\n",
       "    }\n",
       "\n",
       "    .dataframe thead th {\n",
       "        text-align: right;\n",
       "    }\n",
       "</style>\n",
       "<table border=\"1\" class=\"dataframe\">\n",
       "  <thead>\n",
       "    <tr style=\"text-align: right;\">\n",
       "      <th></th>\n",
       "      <th>listing_id</th>\n",
       "      <th>date</th>\n",
       "      <th>available</th>\n",
       "      <th>price</th>\n",
       "      <th>adjusted_price</th>\n",
       "      <th>minimum_nights</th>\n",
       "      <th>maximum_nights</th>\n",
       "    </tr>\n",
       "  </thead>\n",
       "  <tbody>\n",
       "    <tr>\n",
       "      <th>452646</th>\n",
       "      <td>16636855</td>\n",
       "      <td>2019-05-03</td>\n",
       "      <td>t</td>\n",
       "      <td>$29.00</td>\n",
       "      <td>$29.00</td>\n",
       "      <td>25.0</td>\n",
       "      <td>180.0</td>\n",
       "    </tr>\n",
       "    <tr>\n",
       "      <th>1263006</th>\n",
       "      <td>24781937</td>\n",
       "      <td>2019-07-02</td>\n",
       "      <td>f</td>\n",
       "      <td>$100.00</td>\n",
       "      <td>$100.00</td>\n",
       "      <td>3.0</td>\n",
       "      <td>30.0</td>\n",
       "    </tr>\n",
       "    <tr>\n",
       "      <th>644385</th>\n",
       "      <td>18934811</td>\n",
       "      <td>2019-08-25</td>\n",
       "      <td>t</td>\n",
       "      <td>$200.00</td>\n",
       "      <td>$200.00</td>\n",
       "      <td>7.0</td>\n",
       "      <td>1125.0</td>\n",
       "    </tr>\n",
       "    <tr>\n",
       "      <th>1536350</th>\n",
       "      <td>27915805</td>\n",
       "      <td>2019-05-22</td>\n",
       "      <td>t</td>\n",
       "      <td>$188.00</td>\n",
       "      <td>$188.00</td>\n",
       "      <td>10.0</td>\n",
       "      <td>888.0</td>\n",
       "    </tr>\n",
       "    <tr>\n",
       "      <th>1461615</th>\n",
       "      <td>27140686</td>\n",
       "      <td>2019-08-20</td>\n",
       "      <td>f</td>\n",
       "      <td>$70.00</td>\n",
       "      <td>$70.00</td>\n",
       "      <td>10.0</td>\n",
       "      <td>1125.0</td>\n",
       "    </tr>\n",
       "  </tbody>\n",
       "</table>\n",
       "</div>"
      ],
      "text/plain": [
       "         listing_id        date available    price adjusted_price  \\\n",
       "452646     16636855  2019-05-03         t   $29.00         $29.00   \n",
       "1263006    24781937  2019-07-02         f  $100.00        $100.00   \n",
       "644385     18934811  2019-08-25         t  $200.00        $200.00   \n",
       "1536350    27915805  2019-05-22         t  $188.00        $188.00   \n",
       "1461615    27140686  2019-08-20         f   $70.00         $70.00   \n",
       "\n",
       "         minimum_nights  maximum_nights  \n",
       "452646             25.0           180.0  \n",
       "1263006             3.0            30.0  \n",
       "644385              7.0          1125.0  \n",
       "1536350            10.0           888.0  \n",
       "1461615            10.0          1125.0  "
      ]
     },
     "execution_count": 39,
     "metadata": {},
     "output_type": "execute_result"
    }
   ],
   "source": [
    "df.sample(5)"
   ]
  },
  {
   "cell_type": "code",
   "execution_count": 24,
   "metadata": {
    "ExecuteTime": {
     "end_time": "2020-08-01T12:02:50.131520Z",
     "start_time": "2020-08-01T12:02:49.601321Z"
    }
   },
   "outputs": [],
   "source": [
    "f_path = '/mnt/data/public/insideairbnb/data.insideairbnb.com/singapore/sg/singapore/2019-03-18/data/listings.csv.gz'\n",
    "with gzip.open(f_path, 'r') as f:\n",
    "    df_listings = pd.read_csv(f)"
   ]
  },
  {
   "cell_type": "code",
   "execution_count": 25,
   "metadata": {
    "ExecuteTime": {
     "end_time": "2020-08-01T12:02:50.474309Z",
     "start_time": "2020-08-01T12:02:50.134296Z"
    },
    "scrolled": false
   },
   "outputs": [
    {
     "data": {
      "text/plain": [
       "<matplotlib.axes._subplots.AxesSubplot at 0x7f40e939ab50>"
      ]
     },
     "execution_count": 25,
     "metadata": {},
     "output_type": "execute_result"
    },
    {
     "data": {
      "image/png": "[encoded data removed]",
      "text/plain": [
       "<Figure size 432x288 with 1 Axes>"
      ]
     },
     "metadata": {
      "needs_background": "light"
     },
     "output_type": "display_data"
    }
   ],
   "source": [
    "df_listings['review_scores_rating'].plot(kind='density')"
   ]
  },
  {
   "cell_type": "code",
   "execution_count": 26,
   "metadata": {
    "ExecuteTime": {
     "end_time": "2020-08-01T12:02:51.052947Z",
     "start_time": "2020-08-01T12:02:50.477295Z"
    }
   },
   "outputs": [],
   "source": [
    "f_path = '/mnt/data/public/insideairbnb/data.insideairbnb.com/singapore/sg/singapore/2019-03-18/data/reviews.csv.gz'\n",
    "with gzip.open(f_path, 'r') as f:\n",
    "    df_reviews = pd.read_csv(f)"
   ]
  },
  {
   "cell_type": "code",
   "execution_count": 27,
   "metadata": {
    "ExecuteTime": {
     "end_time": "2020-08-01T12:02:51.067727Z",
     "start_time": "2020-08-01T12:02:51.055275Z"
    }
   },
   "outputs": [
    {
     "data": {
      "text/html": [
       "<div>\n",
       "<style scoped>\n",
       "    .dataframe tbody tr th:only-of-type {\n",
       "        vertical-align: middle;\n",
       "    }\n",
       "\n",
       "    .dataframe tbody tr th {\n",
       "        vertical-align: top;\n",
       "    }\n",
       "\n",
       "    .dataframe thead th {\n",
       "        text-align: right;\n",
       "    }\n",
       "</style>\n",
       "<table border=\"1\" class=\"dataframe\">\n",
       "  <thead>\n",
       "    <tr style=\"text-align: right;\">\n",
       "      <th></th>\n",
       "      <th>listing_id</th>\n",
       "      <th>id</th>\n",
       "      <th>date</th>\n",
       "      <th>reviewer_id</th>\n",
       "      <th>reviewer_name</th>\n",
       "      <th>comments</th>\n",
       "    </tr>\n",
       "  </thead>\n",
       "  <tbody>\n",
       "    <tr>\n",
       "      <th>0</th>\n",
       "      <td>49091</td>\n",
       "      <td>8243238</td>\n",
       "      <td>2013-10-21</td>\n",
       "      <td>8557223</td>\n",
       "      <td>Jared</td>\n",
       "      <td>Fran was absolutely gracious and welcoming. Ma...</td>\n",
       "    </tr>\n",
       "    <tr>\n",
       "      <th>1</th>\n",
       "      <td>50646</td>\n",
       "      <td>11909864</td>\n",
       "      <td>2014-04-18</td>\n",
       "      <td>1356099</td>\n",
       "      <td>James</td>\n",
       "      <td>A comfortable room in a smart condo developmen...</td>\n",
       "    </tr>\n",
       "    <tr>\n",
       "      <th>2</th>\n",
       "      <td>50646</td>\n",
       "      <td>13823948</td>\n",
       "      <td>2014-06-05</td>\n",
       "      <td>15222393</td>\n",
       "      <td>Welli</td>\n",
       "      <td>Stayed over at Sujatha's house for 3 good nigh...</td>\n",
       "    </tr>\n",
       "    <tr>\n",
       "      <th>3</th>\n",
       "      <td>50646</td>\n",
       "      <td>15117222</td>\n",
       "      <td>2014-07-02</td>\n",
       "      <td>5543172</td>\n",
       "      <td>Cyril</td>\n",
       "      <td>It's been a lovely stay at Sujatha's. The room...</td>\n",
       "    </tr>\n",
       "    <tr>\n",
       "      <th>4</th>\n",
       "      <td>50646</td>\n",
       "      <td>15426462</td>\n",
       "      <td>2014-07-08</td>\n",
       "      <td>817532</td>\n",
       "      <td>Jake</td>\n",
       "      <td>We had a great experience. A nice place, an am...</td>\n",
       "    </tr>\n",
       "  </tbody>\n",
       "</table>\n",
       "</div>"
      ],
      "text/plain": [
       "   listing_id        id        date  reviewer_id reviewer_name  \\\n",
       "0       49091   8243238  2013-10-21      8557223         Jared   \n",
       "1       50646  11909864  2014-04-18      1356099         James   \n",
       "2       50646  13823948  2014-06-05     15222393         Welli   \n",
       "3       50646  15117222  2014-07-02      5543172         Cyril   \n",
       "4       50646  15426462  2014-07-08       817532          Jake   \n",
       "\n",
       "                                            comments  \n",
       "0  Fran was absolutely gracious and welcoming. Ma...  \n",
       "1  A comfortable room in a smart condo developmen...  \n",
       "2  Stayed over at Sujatha's house for 3 good nigh...  \n",
       "3  It's been a lovely stay at Sujatha's. The room...  \n",
       "4  We had a great experience. A nice place, an am...  "
      ]
     },
     "execution_count": 27,
     "metadata": {},
     "output_type": "execute_result"
    }
   ],
   "source": [
    "df_reviews.head()"
   ]
  },
  {
   "cell_type": "code",
   "execution_count": 28,
   "metadata": {
    "ExecuteTime": {
     "end_time": "2020-08-01T12:02:51.083441Z",
     "start_time": "2020-08-01T12:02:51.071429Z"
    },
    "scrolled": false
   },
   "outputs": [
    {
     "data": {
      "text/plain": [
       "['id',\n",
       " 'listing_url',\n",
       " 'scrape_id',\n",
       " 'last_scraped',\n",
       " 'name',\n",
       " 'summary',\n",
       " 'space',\n",
       " 'description',\n",
       " 'experiences_offered',\n",
       " 'neighborhood_overview',\n",
       " 'notes',\n",
       " 'transit',\n",
       " 'access',\n",
       " 'interaction',\n",
       " 'house_rules',\n",
       " 'thumbnail_url',\n",
       " 'medium_url',\n",
       " 'picture_url',\n",
       " 'xl_picture_url',\n",
       " 'host_id',\n",
       " 'host_url',\n",
       " 'host_name',\n",
       " 'host_since',\n",
       " 'host_location',\n",
       " 'host_about',\n",
       " 'host_response_time',\n",
       " 'host_response_rate',\n",
       " 'host_acceptance_rate',\n",
       " 'host_is_superhost',\n",
       " 'host_thumbnail_url',\n",
       " 'host_picture_url',\n",
       " 'host_neighbourhood',\n",
       " 'host_listings_count',\n",
       " 'host_total_listings_count',\n",
       " 'host_verifications',\n",
       " 'host_has_profile_pic',\n",
       " 'host_identity_verified',\n",
       " 'street',\n",
       " 'neighbourhood',\n",
       " 'neighbourhood_cleansed',\n",
       " 'neighbourhood_group_cleansed',\n",
       " 'city',\n",
       " 'state',\n",
       " 'zipcode',\n",
       " 'market',\n",
       " 'smart_location',\n",
       " 'country_code',\n",
       " 'country',\n",
       " 'latitude',\n",
       " 'longitude',\n",
       " 'is_location_exact',\n",
       " 'property_type',\n",
       " 'room_type',\n",
       " 'accommodates',\n",
       " 'bathrooms',\n",
       " 'bedrooms',\n",
       " 'beds',\n",
       " 'bed_type',\n",
       " 'amenities',\n",
       " 'square_feet',\n",
       " 'price',\n",
       " 'weekly_price',\n",
       " 'monthly_price',\n",
       " 'security_deposit',\n",
       " 'cleaning_fee',\n",
       " 'guests_included',\n",
       " 'extra_people',\n",
       " 'minimum_nights',\n",
       " 'maximum_nights',\n",
       " 'minimum_minimum_nights',\n",
       " 'maximum_minimum_nights',\n",
       " 'minimum_maximum_nights',\n",
       " 'maximum_maximum_nights',\n",
       " 'minimum_nights_avg_ntm',\n",
       " 'maximum_nights_avg_ntm',\n",
       " 'calendar_updated',\n",
       " 'has_availability',\n",
       " 'availability_30',\n",
       " 'availability_60',\n",
       " 'availability_90',\n",
       " 'availability_365',\n",
       " 'calendar_last_scraped',\n",
       " 'number_of_reviews',\n",
       " 'number_of_reviews_ltm',\n",
       " 'first_review',\n",
       " 'last_review',\n",
       " 'review_scores_rating',\n",
       " 'review_scores_accuracy',\n",
       " 'review_scores_cleanliness',\n",
       " 'review_scores_checkin',\n",
       " 'review_scores_communication',\n",
       " 'review_scores_location',\n",
       " 'review_scores_value',\n",
       " 'requires_license',\n",
       " 'license',\n",
       " 'jurisdiction_names',\n",
       " 'instant_bookable',\n",
       " 'is_business_travel_ready',\n",
       " 'cancellation_policy',\n",
       " 'require_guest_profile_picture',\n",
       " 'require_guest_phone_verification',\n",
       " 'calculated_host_listings_count',\n",
       " 'calculated_host_listings_count_entire_homes',\n",
       " 'calculated_host_listings_count_private_rooms',\n",
       " 'calculated_host_listings_count_shared_rooms',\n",
       " 'reviews_per_month']"
      ]
     },
     "execution_count": 28,
     "metadata": {},
     "output_type": "execute_result"
    }
   ],
   "source": [
    "df_listings.columns.to_list()"
   ]
  },
  {
   "cell_type": "code",
   "execution_count": 29,
   "metadata": {
    "ExecuteTime": {
     "end_time": "2020-08-01T12:02:51.116578Z",
     "start_time": "2020-08-01T12:02:51.086544Z"
    }
   },
   "outputs": [
    {
     "data": {
      "text/html": [
       "<div>\n",
       "<style scoped>\n",
       "    .dataframe tbody tr th:only-of-type {\n",
       "        vertical-align: middle;\n",
       "    }\n",
       "\n",
       "    .dataframe tbody tr th {\n",
       "        vertical-align: top;\n",
       "    }\n",
       "\n",
       "    .dataframe thead th {\n",
       "        text-align: right;\n",
       "    }\n",
       "</style>\n",
       "<table border=\"1\" class=\"dataframe\">\n",
       "  <thead>\n",
       "    <tr style=\"text-align: right;\">\n",
       "      <th></th>\n",
       "      <th>id</th>\n",
       "      <th>listing_url</th>\n",
       "      <th>scrape_id</th>\n",
       "      <th>last_scraped</th>\n",
       "      <th>name</th>\n",
       "      <th>summary</th>\n",
       "      <th>space</th>\n",
       "      <th>description</th>\n",
       "      <th>experiences_offered</th>\n",
       "      <th>neighborhood_overview</th>\n",
       "      <th>...</th>\n",
       "      <th>instant_bookable</th>\n",
       "      <th>is_business_travel_ready</th>\n",
       "      <th>cancellation_policy</th>\n",
       "      <th>require_guest_profile_picture</th>\n",
       "      <th>require_guest_phone_verification</th>\n",
       "      <th>calculated_host_listings_count</th>\n",
       "      <th>calculated_host_listings_count_entire_homes</th>\n",
       "      <th>calculated_host_listings_count_private_rooms</th>\n",
       "      <th>calculated_host_listings_count_shared_rooms</th>\n",
       "      <th>reviews_per_month</th>\n",
       "    </tr>\n",
       "  </thead>\n",
       "  <tbody>\n",
       "    <tr>\n",
       "      <th>0</th>\n",
       "      <td>49091</td>\n",
       "      <td>https://www.airbnb.com/rooms/49091</td>\n",
       "      <td>20190318042744</td>\n",
       "      <td>2019-03-18</td>\n",
       "      <td>COZICOMFORT LONG TERM STAY ROOM 2</td>\n",
       "      <td>NaN</td>\n",
       "      <td>This is Room No. 2.(available after Jan 15 201...</td>\n",
       "      <td>This is Room No. 2.(available after Jan 15 201...</td>\n",
       "      <td>none</td>\n",
       "      <td>NaN</td>\n",
       "      <td>...</td>\n",
       "      <td>f</td>\n",
       "      <td>f</td>\n",
       "      <td>flexible</td>\n",
       "      <td>t</td>\n",
       "      <td>t</td>\n",
       "      <td>2</td>\n",
       "      <td>0</td>\n",
       "      <td>2</td>\n",
       "      <td>0</td>\n",
       "      <td>0.02</td>\n",
       "    </tr>\n",
       "    <tr>\n",
       "      <th>1</th>\n",
       "      <td>50646</td>\n",
       "      <td>https://www.airbnb.com/rooms/50646</td>\n",
       "      <td>20190318042744</td>\n",
       "      <td>2019-03-18</td>\n",
       "      <td>Pleasant Room along Bukit Timah</td>\n",
       "      <td>Fully furnished bedroom with a nice view on th...</td>\n",
       "      <td>Good Condition room, bright &amp; windy. Comes wit...</td>\n",
       "      <td>Fully furnished bedroom with a nice view on th...</td>\n",
       "      <td>none</td>\n",
       "      <td>The serenity &amp; quiet surrounding makes it an i...</td>\n",
       "      <td>...</td>\n",
       "      <td>f</td>\n",
       "      <td>f</td>\n",
       "      <td>moderate</td>\n",
       "      <td>f</td>\n",
       "      <td>t</td>\n",
       "      <td>1</td>\n",
       "      <td>0</td>\n",
       "      <td>1</td>\n",
       "      <td>0</td>\n",
       "      <td>0.30</td>\n",
       "    </tr>\n",
       "    <tr>\n",
       "      <th>2</th>\n",
       "      <td>56334</td>\n",
       "      <td>https://www.airbnb.com/rooms/56334</td>\n",
       "      <td>20190318042744</td>\n",
       "      <td>2019-03-18</td>\n",
       "      <td>COZICOMFORT</td>\n",
       "      <td>NaN</td>\n",
       "      <td>This is Room no. 1. USD700 per month On the fa...</td>\n",
       "      <td>This is Room no. 1. USD700 per month On the fa...</td>\n",
       "      <td>none</td>\n",
       "      <td>NaN</td>\n",
       "      <td>...</td>\n",
       "      <td>f</td>\n",
       "      <td>f</td>\n",
       "      <td>flexible</td>\n",
       "      <td>t</td>\n",
       "      <td>t</td>\n",
       "      <td>2</td>\n",
       "      <td>0</td>\n",
       "      <td>2</td>\n",
       "      <td>0</td>\n",
       "      <td>0.21</td>\n",
       "    </tr>\n",
       "    <tr>\n",
       "      <th>3</th>\n",
       "      <td>71609</td>\n",
       "      <td>https://www.airbnb.com/rooms/71609</td>\n",
       "      <td>20190318042744</td>\n",
       "      <td>2019-03-18</td>\n",
       "      <td>Ensuite Room (Room 1 &amp; 2) near EXPO</td>\n",
       "      <td>For 3 (Website hidden by Airbnb) room 1&amp;2 and ...</td>\n",
       "      <td>Landed Homestay Room for Rental. Between Simei...</td>\n",
       "      <td>For 3 (Website hidden by Airbnb) room 1&amp;2 and ...</td>\n",
       "      <td>none</td>\n",
       "      <td>NaN</td>\n",
       "      <td>...</td>\n",
       "      <td>t</td>\n",
       "      <td>f</td>\n",
       "      <td>moderate</td>\n",
       "      <td>f</td>\n",
       "      <td>t</td>\n",
       "      <td>9</td>\n",
       "      <td>0</td>\n",
       "      <td>9</td>\n",
       "      <td>0</td>\n",
       "      <td>0.14</td>\n",
       "    </tr>\n",
       "    <tr>\n",
       "      <th>4</th>\n",
       "      <td>71896</td>\n",
       "      <td>https://www.airbnb.com/rooms/71896</td>\n",
       "      <td>20190318042744</td>\n",
       "      <td>2019-03-18</td>\n",
       "      <td>B&amp;B  Room 1 near Airport &amp; EXPO</td>\n",
       "      <td>NaN</td>\n",
       "      <td>Vocational Stay Deluxe Bedroom in Singapore.(N...</td>\n",
       "      <td>Vocational Stay Deluxe Bedroom in Singapore.(N...</td>\n",
       "      <td>none</td>\n",
       "      <td>NaN</td>\n",
       "      <td>...</td>\n",
       "      <td>t</td>\n",
       "      <td>f</td>\n",
       "      <td>moderate</td>\n",
       "      <td>f</td>\n",
       "      <td>t</td>\n",
       "      <td>9</td>\n",
       "      <td>0</td>\n",
       "      <td>9</td>\n",
       "      <td>0</td>\n",
       "      <td>0.22</td>\n",
       "    </tr>\n",
       "  </tbody>\n",
       "</table>\n",
       "<p>5 rows × 106 columns</p>\n",
       "</div>"
      ],
      "text/plain": [
       "      id                         listing_url       scrape_id last_scraped  \\\n",
       "0  49091  https://www.airbnb.com/rooms/49091  20190318042744   2019-03-18   \n",
       "1  50646  https://www.airbnb.com/rooms/50646  20190318042744   2019-03-18   \n",
       "2  56334  https://www.airbnb.com/rooms/56334  20190318042744   2019-03-18   \n",
       "3  71609  https://www.airbnb.com/rooms/71609  20190318042744   2019-03-18   \n",
       "4  71896  https://www.airbnb.com/rooms/71896  20190318042744   2019-03-18   \n",
       "\n",
       "                                  name  \\\n",
       "0    COZICOMFORT LONG TERM STAY ROOM 2   \n",
       "1      Pleasant Room along Bukit Timah   \n",
       "2                          COZICOMFORT   \n",
       "3  Ensuite Room (Room 1 & 2) near EXPO   \n",
       "4      B&B  Room 1 near Airport & EXPO   \n",
       "\n",
       "                                             summary  \\\n",
       "0                                                NaN   \n",
       "1  Fully furnished bedroom with a nice view on th...   \n",
       "2                                                NaN   \n",
       "3  For 3 (Website hidden by Airbnb) room 1&2 and ...   \n",
       "4                                                NaN   \n",
       "\n",
       "                                               space  \\\n",
       "0  This is Room No. 2.(available after Jan 15 201...   \n",
       "1  Good Condition room, bright & windy. Comes wit...   \n",
       "2  This is Room no. 1. USD700 per month On the fa...   \n",
       "3  Landed Homestay Room for Rental. Between Simei...   \n",
       "4  Vocational Stay Deluxe Bedroom in Singapore.(N...   \n",
       "\n",
       "                                         description experiences_offered  \\\n",
       "0  This is Room No. 2.(available after Jan 15 201...                none   \n",
       "1  Fully furnished bedroom with a nice view on th...                none   \n",
       "2  This is Room no. 1. USD700 per month On the fa...                none   \n",
       "3  For 3 (Website hidden by Airbnb) room 1&2 and ...                none   \n",
       "4  Vocational Stay Deluxe Bedroom in Singapore.(N...                none   \n",
       "\n",
       "                               neighborhood_overview  ... instant_bookable  \\\n",
       "0                                                NaN  ...                f   \n",
       "1  The serenity & quiet surrounding makes it an i...  ...                f   \n",
       "2                                                NaN  ...                f   \n",
       "3                                                NaN  ...                t   \n",
       "4                                                NaN  ...                t   \n",
       "\n",
       "  is_business_travel_ready cancellation_policy require_guest_profile_picture  \\\n",
       "0                        f            flexible                             t   \n",
       "1                        f            moderate                             f   \n",
       "2                        f            flexible                             t   \n",
       "3                        f            moderate                             f   \n",
       "4                        f            moderate                             f   \n",
       "\n",
       "  require_guest_phone_verification  calculated_host_listings_count  \\\n",
       "0                                t                               2   \n",
       "1                                t                               1   \n",
       "2                                t                               2   \n",
       "3                                t                               9   \n",
       "4                                t                               9   \n",
       "\n",
       "   calculated_host_listings_count_entire_homes  \\\n",
       "0                                            0   \n",
       "1                                            0   \n",
       "2                                            0   \n",
       "3                                            0   \n",
       "4                                            0   \n",
       "\n",
       "  calculated_host_listings_count_private_rooms  \\\n",
       "0                                            2   \n",
       "1                                            1   \n",
       "2                                            2   \n",
       "3                                            9   \n",
       "4                                            9   \n",
       "\n",
       "   calculated_host_listings_count_shared_rooms  reviews_per_month  \n",
       "0                                            0               0.02  \n",
       "1                                            0               0.30  \n",
       "2                                            0               0.21  \n",
       "3                                            0               0.14  \n",
       "4                                            0               0.22  \n",
       "\n",
       "[5 rows x 106 columns]"
      ]
     },
     "execution_count": 29,
     "metadata": {},
     "output_type": "execute_result"
    }
   ],
   "source": [
    "df_listings.head()"
   ]
  },
  {
   "cell_type": "markdown",
   "metadata": {},
   "source": [
    "listings - Detailed listings data showing 96 attributes for each of the listings. Some of the attributes used in the analysis are price(continuous), longitude (continuous), latitude (continuous), listing_type (categorical), is_superhost (categorical), neighbourhood (categorical), ratings (continuous) among others.\n",
    "reviews - Detailed reviews given by the guests with 6 attributes. Key attributes include date (datetime), listing_id (discrete), reviewer_id (discrete) and comment (textual).\n",
    "calendar - Provides details about booking for the next year by listing. Four attributes in total including listing_id (discrete), date(datetime), available (categorical) and price (continuous).\n",
    "A quick glance at the data shows that there are:\n",
    "50,968 unique listing in NYC in total. The first rental in NYC was up in April, 2008 in Harlem, Manhattan.\n",
    "Over 1 million reviews have been written by guests since then.\n",
    "The price for a listing ranges from $10 per night to $10,000(!) per night. Listing with $10,000 price tag are in Greenpoint, Brooklyn; Astoria, Queens and Upper West Side, Manhattan."
   ]
  },
  {
   "cell_type": "code",
   "execution_count": 42,
   "metadata": {
    "ExecuteTime": {
     "end_time": "2020-08-01T12:26:42.412948Z",
     "start_time": "2020-08-01T12:26:42.393665Z"
    },
    "scrolled": false
   },
   "outputs": [
    {
     "data": {
      "text/plain": [
       "{'id': 301247,\n",
       " 'listing_url': 'https://www.airbnb.com/rooms/301247',\n",
       " 'scrape_id': 20190318042744,\n",
       " 'last_scraped': '2019-03-18',\n",
       " 'name': 'Nice room with private bath beside train station',\n",
       " 'summary': 'Located just beside the PayaLebar train station which is equidistant from both Changi International Airport, as well downtown area with only 10-15 mins train ride. Private bathroom with no additional charges/fees for cleaning or using washing machine. Please see the room pictures before booking.',\n",
       " 'space': 'Nice cozy room with a study table, bed, closet, aircon and private toilet in a spacious condo with swimming pool and gym facilities. Condo exit is connected to Paya Lebar MRT station. This is a room with no-frills features as follows:  - Single-bed (mattress without frame),  - Private bathroom  - Air-con,  - Table,  - Chair,  - Closet / Hangers,  - Bed sheet and Blanket  - 24-hr Free Accessibility (no night curfew). We provide you these during your stay:  - Free WiFi  - Iron and ironing board  - Washing machine - Key card access (Required $20 refundable deposit) - 24/7 CCTV monitoring the common area  Located very near to downtown. It takes 10 mins by train to City Hall MRT station and about 15 mins by train to reach the Changi International Airport. The apartment exit is connected to the train station / metro.',\n",
       " 'description': 'Located just beside the PayaLebar train station which is equidistant from both Changi International Airport, as well downtown area with only 10-15 mins train ride. Private bathroom with no additional charges/fees for cleaning or using washing machine. Please see the room pictures before booking. Nice cozy room with a study table, bed, closet, aircon and private toilet in a spacious condo with swimming pool and gym facilities. Condo exit is connected to Paya Lebar MRT station. This is a room with no-frills features as follows:  - Single-bed (mattress without frame),  - Private bathroom  - Air-con,  - Table,  - Chair,  - Closet / Hangers,  - Bed sheet and Blanket  - 24-hr Free Accessibility (no night curfew). We provide you these during your stay:  - Free WiFi  - Iron and ironing board  - Washing machine - Key card access (Required $20 refundable deposit) - 24/7 CCTV monitoring the common area  Located very near to downtown. It takes 10 mins by train to City Hall MRT station and about 15',\n",
       " 'experiences_offered': 'none',\n",
       " 'neighborhood_overview': nan,\n",
       " 'notes': nan,\n",
       " 'transit': nan,\n",
       " 'access': nan,\n",
       " 'interaction': nan,\n",
       " 'house_rules': nan,\n",
       " 'thumbnail_url': nan,\n",
       " 'medium_url': nan,\n",
       " 'picture_url': 'https://a0.muscache.com/im/pictures/107631887/bc634ba9_original.jpg?aki_policy=large',\n",
       " 'xl_picture_url': nan,\n",
       " 'host_id': 1552002,\n",
       " 'host_url': 'https://www.airbnb.com/users/show/1552002',\n",
       " 'host_name': 'Rahul',\n",
       " 'host_since': '2011-12-31',\n",
       " 'host_location': 'Singapore',\n",
       " 'host_about': 'Airbnb is built on relationships. ',\n",
       " 'host_response_time': 'within a day',\n",
       " 'host_response_rate': '70%',\n",
       " 'host_acceptance_rate': nan,\n",
       " 'host_is_superhost': 'f',\n",
       " 'host_thumbnail_url': 'https://a0.muscache.com/im/users/1552002/profile_pic/1381587393/original.jpg?aki_policy=profile_small',\n",
       " 'host_picture_url': 'https://a0.muscache.com/im/users/1552002/profile_pic/1381587393/original.jpg?aki_policy=profile_x_medium',\n",
       " 'host_neighbourhood': 'Geylang',\n",
       " 'host_listings_count': 1,\n",
       " 'host_total_listings_count': 1,\n",
       " 'host_verifications': \"['email', 'phone', 'reviews', 'jumio', 'government_id']\",\n",
       " 'host_has_profile_pic': 't',\n",
       " 'host_identity_verified': 't',\n",
       " 'street': 'Singapore, Singapore',\n",
       " 'neighbourhood': 'Geylang',\n",
       " 'neighbourhood_cleansed': 'Geylang',\n",
       " 'neighbourhood_group_cleansed': 'Central Region',\n",
       " 'city': 'Singapore',\n",
       " 'state': nan,\n",
       " 'zipcode': '307821',\n",
       " 'market': 'Singapore',\n",
       " 'smart_location': 'Singapore',\n",
       " 'country_code': 'SG',\n",
       " 'country': 'Singapore',\n",
       " 'latitude': 1.31724,\n",
       " 'longitude': 103.88958000000001,\n",
       " 'is_location_exact': 't',\n",
       " 'property_type': 'Apartment',\n",
       " 'room_type': 'Private room',\n",
       " 'accommodates': 1,\n",
       " 'bathrooms': 1.0,\n",
       " 'bedrooms': 1.0,\n",
       " 'beds': 1.0,\n",
       " 'bed_type': 'Real Bed',\n",
       " 'amenities': '{\"Cable TV\",Internet,Wifi,\"Air conditioning\",Pool,Kitchen,\"Free parking on premises\",Gym,Elevator,Washer,\"Lock on bedroom door\",\"Hair dryer\",\"Laptop friendly workspace\",\"Hot water\",Microwave,Refrigerator}',\n",
       " 'square_feet': nan,\n",
       " 'price': '$41.00',\n",
       " 'weekly_price': '$365.00',\n",
       " 'monthly_price': '$1,500.00',\n",
       " 'security_deposit': '$150.00',\n",
       " 'cleaning_fee': '$0.00',\n",
       " 'guests_included': 1,\n",
       " 'extra_people': '$0.00',\n",
       " 'minimum_nights': 1,\n",
       " 'maximum_nights': 1125,\n",
       " 'minimum_minimum_nights': 1,\n",
       " 'maximum_minimum_nights': 1,\n",
       " 'minimum_maximum_nights': 1125,\n",
       " 'maximum_maximum_nights': 1125,\n",
       " 'minimum_nights_avg_ntm': 1.0,\n",
       " 'maximum_nights_avg_ntm': 1125.0,\n",
       " 'calendar_updated': 'today',\n",
       " 'has_availability': 't',\n",
       " 'availability_30': 3,\n",
       " 'availability_60': 25,\n",
       " 'availability_90': 55,\n",
       " 'availability_365': 55,\n",
       " 'calendar_last_scraped': '2019-03-18',\n",
       " 'number_of_reviews': 85,\n",
       " 'number_of_reviews_ltm': 42,\n",
       " 'first_review': '2013-10-21',\n",
       " 'last_review': '2019-02-22',\n",
       " 'review_scores_rating': 90.0,\n",
       " 'review_scores_accuracy': 9.0,\n",
       " 'review_scores_cleanliness': 9.0,\n",
       " 'review_scores_checkin': 10.0,\n",
       " 'review_scores_communication': 9.0,\n",
       " 'review_scores_location': 10.0,\n",
       " 'review_scores_value': 9.0,\n",
       " 'requires_license': 'f',\n",
       " 'license': nan,\n",
       " 'jurisdiction_names': nan,\n",
       " 'instant_bookable': 'f',\n",
       " 'is_business_travel_ready': 'f',\n",
       " 'cancellation_policy': 'moderate',\n",
       " 'require_guest_profile_picture': 'f',\n",
       " 'require_guest_phone_verification': 'f',\n",
       " 'calculated_host_listings_count': 1,\n",
       " 'calculated_host_listings_count_entire_homes': 0,\n",
       " 'calculated_host_listings_count_private_rooms': 1,\n",
       " 'calculated_host_listings_count_shared_rooms': 0,\n",
       " 'reviews_per_month': 1.29}"
      ]
     },
     "execution_count": 42,
     "metadata": {},
     "output_type": "execute_result"
    }
   ],
   "source": [
    "dict(zip(df_listings.iloc[15].T.index.to_list(), df_listings.iloc[15].to_list()))"
   ]
  },
  {
   "cell_type": "markdown",
   "metadata": {},
   "source": [
    "https://www.linkedin.com/pulse/segmenting-clustering-airbnb-listings-zurich-georgios-chatzis\n",
    "https://towardsdatascience.com/airbnb-rental-listings-dataset-mining-f972ed08ddec\n",
    "http://www.columbia.edu/~sg3637/airbnb_final_analysis.html\n",
    "https://public.opendatasoft.com/explore/dataset/airbnb-listings/table/?disjunctive.host_verifications&disjunctive.amenities&disjunctive.features\n"
   ]
  },
  {
   "cell_type": "code",
   "execution_count": 40,
   "metadata": {
    "ExecuteTime": {
     "end_time": "2020-08-01T12:23:03.284360Z",
     "start_time": "2020-08-01T12:23:03.262624Z"
    }
   },
   "outputs": [
    {
     "data": {
      "text/plain": [
       "host_id\n",
       "59498         3\n",
       "228867       10\n",
       "229339       25\n",
       "367042        9\n",
       "646629       16\n",
       "             ..\n",
       "243216499     5\n",
       "244037446     4\n",
       "245738052     4\n",
       "248196938    14\n",
       "248361661    79\n",
       "Length: 468, dtype: int64"
      ]
     },
     "execution_count": 40,
     "metadata": {},
     "output_type": "execute_result"
    }
   ],
   "source": [
    "df_listings.groupby('host_id').size() [df_listings.groupby('host_id').size() > 2]"
   ]
  },
  {
   "cell_type": "code",
   "execution_count": 48,
   "metadata": {
    "ExecuteTime": {
     "end_time": "2020-08-01T12:31:19.402342Z",
     "start_time": "2020-08-01T12:31:19.387492Z"
    }
   },
   "outputs": [],
   "source": [
    "data = df_listings[['property_type', 'room_type', 'accommodates', 'bathrooms', 'bedrooms', 'beds', \n",
    "            'bed_type', 'amenities', 'price', 'monthly_price', 'minimum_nights', \n",
    "            'maximum_nights', 'is_business_travel_ready', 'instant_bookable',\n",
    "            'neighborhood_overview']]"
   ]
  },
  {
   "cell_type": "markdown",
   "metadata": {
    "ExecuteTime": {
     "end_time": "2020-08-01T12:30:08.681430Z",
     "start_time": "2020-08-01T12:30:08.668541Z"
    }
   },
   "source": [
    "features: property_type\n",
    "room_type\n",
    "accommodates\n",
    "bathrooms\n",
    "bedrooms\n",
    "beds\n",
    "ed_type\n",
    "amenities\n",
    "price\n",
    "minimum_nights\n",
    "maximum_nights\n",
    "is_business_travel_ready\n",
    "instant_bookable\n",
    "neighborhood_overview\n",
    "experiences_offered"
   ]
  },
  {
   "cell_type": "code",
   "execution_count": 50,
   "metadata": {
    "ExecuteTime": {
     "end_time": "2020-08-01T12:31:58.697846Z",
     "start_time": "2020-08-01T12:31:58.687760Z"
    }
   },
   "outputs": [
    {
     "data": {
      "text/plain": [
       "array(['Apartment', 'Villa', 'House', 'Townhouse', 'Other', 'Condominium',\n",
       "       'Bed and breakfast', 'Loft', 'Serviced apartment', 'Bungalow',\n",
       "       'Guest suite', 'Aparthotel', 'Hostel', 'Chalet', 'Hotel',\n",
       "       'Guesthouse', 'Boat', 'Boutique hotel', 'Cabin', 'Tent', 'Cottage',\n",
       "       'Campsite', 'Farm stay', 'Camper/RV', 'Treehouse', 'Tiny house'],\n",
       "      dtype=object)"
      ]
     },
     "execution_count": 50,
     "metadata": {},
     "output_type": "execute_result"
    }
   ],
   "source": [
    "data['property_type'].unique()"
   ]
  },
  {
   "cell_type": "code",
   "execution_count": 51,
   "metadata": {
    "ExecuteTime": {
     "end_time": "2020-08-01T12:32:05.908997Z",
     "start_time": "2020-08-01T12:32:05.898718Z"
    }
   },
   "outputs": [
    {
     "data": {
      "text/plain": [
       "array(['Private room', 'Entire home/apt', 'Shared room'], dtype=object)"
      ]
     },
     "execution_count": 51,
     "metadata": {},
     "output_type": "execute_result"
    }
   ],
   "source": [
    "data['room_type'].unique()"
   ]
  },
  {
   "cell_type": "code",
   "execution_count": 53,
   "metadata": {
    "ExecuteTime": {
     "end_time": "2020-08-01T12:32:21.852690Z",
     "start_time": "2020-08-01T12:32:21.842295Z"
    }
   },
   "outputs": [
    {
     "data": {
      "text/plain": [
       "array([ 1,  2,  6,  3,  8,  5,  4, 10,  9, 14, 16,  7, 12, 15, 13, 11])"
      ]
     },
     "execution_count": 53,
     "metadata": {},
     "output_type": "execute_result"
    }
   ],
   "source": [
    "data['accommodates'].unique()"
   ]
  },
  {
   "cell_type": "code",
   "execution_count": 54,
   "metadata": {
    "ExecuteTime": {
     "end_time": "2020-08-01T12:32:30.393047Z",
     "start_time": "2020-08-01T12:32:30.382382Z"
    }
   },
   "outputs": [
    {
     "data": {
      "text/plain": [
       "array([ 1. ,  0.5,  nan,  0. ,  2. ,  4. ,  3.5,  3. ,  1.5,  2.5,  8. ,\n",
       "        6. ,  4.5,  5. ,  7. ,  8.5,  5.5,  7.5,  9. , 20. ,  6.5, 10. ,\n",
       "       21. ])"
      ]
     },
     "execution_count": 54,
     "metadata": {},
     "output_type": "execute_result"
    }
   ],
   "source": [
    "data['bathrooms'].unique()"
   ]
  },
  {
   "cell_type": "code",
   "execution_count": 59,
   "metadata": {
    "ExecuteTime": {
     "end_time": "2020-08-01T12:34:06.115779Z",
     "start_time": "2020-08-01T12:34:06.100165Z"
    }
   },
   "outputs": [],
   "source": [
    "data['bathrooms'].replace(np.nan, 0, inplace=True)"
   ]
  },
  {
   "cell_type": "code",
   "execution_count": 60,
   "metadata": {
    "ExecuteTime": {
     "end_time": "2020-08-01T12:34:17.809851Z",
     "start_time": "2020-08-01T12:34:17.799814Z"
    }
   },
   "outputs": [
    {
     "data": {
      "text/plain": [
       "array([ 1.,  2.,  3.,  0.,  4.,  5.,  6.,  8.,  7., 10., nan])"
      ]
     },
     "execution_count": 60,
     "metadata": {},
     "output_type": "execute_result"
    }
   ],
   "source": [
    "data['bedrooms'].unique()"
   ]
  },
  {
   "cell_type": "code",
   "execution_count": 61,
   "metadata": {
    "ExecuteTime": {
     "end_time": "2020-08-01T12:35:02.747169Z",
     "start_time": "2020-08-01T12:35:02.739369Z"
    }
   },
   "outputs": [],
   "source": [
    "data['bedrooms'].replace(np.nan, 0, inplace=True)"
   ]
  },
  {
   "cell_type": "code",
   "execution_count": 62,
   "metadata": {
    "ExecuteTime": {
     "end_time": "2020-08-01T12:35:13.069633Z",
     "start_time": "2020-08-01T12:35:13.058963Z"
    }
   },
   "outputs": [
    {
     "data": {
      "text/plain": [
       "array([ 1.,  3.,  2.,  7.,  4., nan,  5., 12.,  6.,  8., 10., 16., 15.,\n",
       "        9., 13., 14., 18., 30., 36.])"
      ]
     },
     "execution_count": 62,
     "metadata": {},
     "output_type": "execute_result"
    }
   ],
   "source": [
    "data['beds'].unique()"
   ]
  },
  {
   "cell_type": "code",
   "execution_count": 63,
   "metadata": {
    "ExecuteTime": {
     "end_time": "2020-08-01T12:35:28.235432Z",
     "start_time": "2020-08-01T12:35:28.227998Z"
    }
   },
   "outputs": [],
   "source": [
    "data['beds'].replace(np.nan, 0, inplace=True)"
   ]
  },
  {
   "cell_type": "code",
   "execution_count": 64,
   "metadata": {
    "ExecuteTime": {
     "end_time": "2020-08-01T12:35:44.891935Z",
     "start_time": "2020-08-01T12:35:44.881511Z"
    }
   },
   "outputs": [
    {
     "data": {
      "text/plain": [
       "array(['Real Bed', 'Pull-out Sofa', 'Futon', 'Couch', 'Airbed'],\n",
       "      dtype=object)"
      ]
     },
     "execution_count": 64,
     "metadata": {},
     "output_type": "execute_result"
    }
   ],
   "source": [
    "data['bed_type'].unique()"
   ]
  },
  {
   "cell_type": "code",
   "execution_count": 90,
   "metadata": {
    "ExecuteTime": {
     "end_time": "2020-08-01T12:51:12.409648Z",
     "start_time": "2020-08-01T12:51:12.190505Z"
    }
   },
   "outputs": [],
   "source": [
    "stripped = [string.strip('{').strip('}').split(',') for string in list(data['amenities'].values)]\n",
    "stripped_1 = []\n",
    "for group in stripped:\n",
    "        stripped_1.append([word.strip('''\"''').strip(\"'\") for word in group])"
   ]
  },
  {
   "cell_type": "code",
   "execution_count": 94,
   "metadata": {
    "ExecuteTime": {
     "end_time": "2020-08-01T12:53:02.667554Z",
     "start_time": "2020-08-01T12:53:02.361248Z"
    }
   },
   "outputs": [],
   "source": [
    "data['amenities'].replace(stripped_1, inplace=True)"
   ]
  },
  {
   "cell_type": "code",
   "execution_count": 96,
   "metadata": {
    "ExecuteTime": {
     "end_time": "2020-08-01T12:53:21.854239Z",
     "start_time": "2020-08-01T12:53:21.838982Z"
    }
   },
   "outputs": [
    {
     "data": {
      "text/plain": [
       "6617    [TV, Air conditioning, Pool, Kitchen, Smoking ...\n",
       "2868    [TV, Wifi, Air conditioning, Pool, Kitchen, Fr...\n",
       "2531    [TV, Cable TV, Internet, Wifi, Air conditionin...\n",
       "5538    [TV, Air conditioning, Kitchen, Free parking o...\n",
       "4590    [TV, Wifi, Air conditioning, Kitchen, Paid par...\n",
       "Name: amenities, dtype: object"
      ]
     },
     "execution_count": 96,
     "metadata": {},
     "output_type": "execute_result"
    }
   ],
   "source": [
    "data['amenities'].sample(5)"
   ]
  },
  {
   "cell_type": "code",
   "execution_count": 100,
   "metadata": {
    "ExecuteTime": {
     "end_time": "2020-08-01T12:57:39.457928Z",
     "start_time": "2020-08-01T12:57:39.447804Z"
    }
   },
   "outputs": [],
   "source": [
    "def to_bow(docs):\n",
    "    my_list = [dict(Counter(doc.lower().split())) for doc in docs]\n",
    "    df = pd.DataFrame(my_list).fillna(0)\n",
    "    return df.reindex(sorted(df.columns), axis=1)"
   ]
  },
  {
   "cell_type": "code",
   "execution_count": 113,
   "metadata": {
    "ExecuteTime": {
     "end_time": "2020-08-01T13:03:08.332025Z",
     "start_time": "2020-08-01T13:02:46.532327Z"
    }
   },
   "outputs": [],
   "source": [
    "bow_list = []\n",
    "for group in stripped_1:\n",
    "    bow_list.append(to_bow(group).sum())"
   ]
  },
  {
   "cell_type": "code",
   "execution_count": 118,
   "metadata": {
    "ExecuteTime": {
     "end_time": "2020-08-01T13:04:17.219399Z",
     "start_time": "2020-08-01T13:04:15.352571Z"
    }
   },
   "outputs": [],
   "source": [
    "cat = pd.concat(bow_list, axis=1)"
   ]
  },
  {
   "cell_type": "code",
   "execution_count": 122,
   "metadata": {
    "ExecuteTime": {
     "end_time": "2020-08-01T13:06:13.044304Z",
     "start_time": "2020-08-01T13:06:13.011562Z"
    }
   },
   "outputs": [],
   "source": [
    "cat.T.fillna(0, inplace=True)"
   ]
  },
  {
   "cell_type": "code",
   "execution_count": 125,
   "metadata": {
    "ExecuteTime": {
     "end_time": "2020-08-01T13:06:27.551529Z",
     "start_time": "2020-08-01T13:06:27.543604Z"
    }
   },
   "outputs": [
    {
     "data": {
      "text/plain": [
       "197"
      ]
     },
     "execution_count": 125,
     "metadata": {},
     "output_type": "execute_result"
    }
   ],
   "source": [
    "len(cat)"
   ]
  },
  {
   "cell_type": "code",
   "execution_count": 128,
   "metadata": {
    "ExecuteTime": {
     "end_time": "2020-08-01T13:06:59.466633Z",
     "start_time": "2020-08-01T13:06:59.458124Z"
    }
   },
   "outputs": [],
   "source": [
    "catT = cat.T"
   ]
  },
  {
   "cell_type": "code",
   "execution_count": 139,
   "metadata": {
    "ExecuteTime": {
     "end_time": "2020-08-01T13:13:21.201827Z",
     "start_time": "2020-08-01T13:13:21.194948Z"
    }
   },
   "outputs": [],
   "source": [
    "# len(data)\n",
    "catT.columns = ['amenities_'+name for name in catT.columns.to_list()]\n",
    "# catT"
   ]
  },
  {
   "cell_type": "code",
   "execution_count": 140,
   "metadata": {
    "ExecuteTime": {
     "end_time": "2020-08-01T13:13:32.227826Z",
     "start_time": "2020-08-01T13:13:32.204970Z"
    }
   },
   "outputs": [],
   "source": [
    "data_1 = pd.concat([data, catT], axis=1)"
   ]
  },
  {
   "cell_type": "code",
   "execution_count": 155,
   "metadata": {
    "ExecuteTime": {
     "end_time": "2020-08-01T13:18:59.678477Z",
     "start_time": "2020-08-01T13:18:59.635964Z"
    }
   },
   "outputs": [],
   "source": [
    "def convert(x):\n",
    "    try:\n",
    "        return int(x.strip('$').split('.')[0].split(',')[0])*1000+int(x.strip('$').split('.')[0].split(',')[1])\n",
    "    except IndexError:\n",
    "        return int(x.strip('$').split('.')[0])\n",
    "\n",
    "data_1['price'] = data_1['price'].apply(lambda x: convert(x))"
   ]
  },
  {
   "cell_type": "code",
   "execution_count": 181,
   "metadata": {
    "ExecuteTime": {
     "end_time": "2020-08-01T13:35:27.469947Z",
     "start_time": "2020-08-01T13:35:27.449390Z"
    }
   },
   "outputs": [],
   "source": [
    "data_1.drop(columns=['monthly_price'], inplace=True)"
   ]
  },
  {
   "cell_type": "code",
   "execution_count": 182,
   "metadata": {
    "ExecuteTime": {
     "end_time": "2020-08-01T13:35:29.888317Z",
     "start_time": "2020-08-01T13:35:29.884066Z"
    }
   },
   "outputs": [],
   "source": [
    "# data_1['monthly_price'].isna().sum()"
   ]
  },
  {
   "cell_type": "code",
   "execution_count": 183,
   "metadata": {
    "ExecuteTime": {
     "end_time": "2020-08-01T13:35:30.027150Z",
     "start_time": "2020-08-01T13:35:30.023416Z"
    }
   },
   "outputs": [],
   "source": [
    "# data_1['monthly_price'][data_1['monthly_price'].isna()].index\n",
    "# for label in data_1['monthly_price'][data_1['monthly_price'].isna()].index:\n",
    "#     data_1.loc[label]['monthly_price'] = data_1.loc[label]['price']*30"
   ]
  },
  {
   "cell_type": "code",
   "execution_count": 186,
   "metadata": {
    "ExecuteTime": {
     "end_time": "2020-08-01T13:36:22.814634Z",
     "start_time": "2020-08-01T13:36:22.804347Z"
    }
   },
   "outputs": [
    {
     "data": {
      "text/plain": [
       "array([ 180,   90,    6,    1,    7,   30,   15,    2,  120,    3,    4,\n",
       "          5,   18,  365,   20,   60,    9,   21,  108,   14,  183,  100,\n",
       "         10,   13,   28,  360,   91,   12,   25,   84,   29,    8,  150,\n",
       "         80,   50,  200,  300,  190,   45,   92,  500,   17,   93,  188,\n",
       "         26,   88,  185,  240,   85,   75,  210,   59,   31,   89, 1000,\n",
       "        186,   48,  181,   40,   22,   24,   11,  700,  179,   96,   55,\n",
       "        168,   65,   35,   32])"
      ]
     },
     "execution_count": 186,
     "metadata": {},
     "output_type": "execute_result"
    }
   ],
   "source": [
    "data_1['minimum_nights'].unique()"
   ]
  },
  {
   "cell_type": "code",
   "execution_count": 187,
   "metadata": {
    "ExecuteTime": {
     "end_time": "2020-08-01T13:36:32.338855Z",
     "start_time": "2020-08-01T13:36:32.328330Z"
    }
   },
   "outputs": [
    {
     "data": {
      "text/plain": [
       "array([   360,    730,     14,   1125,    365,   1000,    180,    100,\n",
       "          720,     90,     11,    330,   1123,   1124,     30,      1,\n",
       "           60,    270,      7,     45,    800,     70,    999,     21,\n",
       "           40,    150,    200,    160,  10000,   9001,     28,    380,\n",
       "         1095,     10,    233,     20,   1120,    900,     31,     15,\n",
       "           12,    366,    400,     50,    250,     29,      5,    120,\n",
       "            3,      2,    500,     35,   2000,  99999,      6,   1100,\n",
       "           80,    300,      4,     53,    265,     32,   1111,    488,\n",
       "          700,     25,     18,    356,    210,    182,    546,     65,\n",
       "           22, 100000,    600,     19,      9,     13,     16,     86,\n",
       "          111,      8,    364,    240,     58,     99,   1059,    118,\n",
       "          181,    243,    650,   9999,    888,     62,     36,     95,\n",
       "           69,    397,    185,    555,   1080,    540,    320,    112,\n",
       "          750,     54,     23,     91,    130,     39,    178,    183,\n",
       "           33,    110,     52,    105])"
      ]
     },
     "execution_count": 187,
     "metadata": {},
     "output_type": "execute_result"
    }
   ],
   "source": [
    "data_1['maximum_nights'].unique()"
   ]
  },
  {
   "cell_type": "code",
   "execution_count": 189,
   "metadata": {
    "ExecuteTime": {
     "end_time": "2020-08-01T13:37:32.833519Z",
     "start_time": "2020-08-01T13:37:32.823633Z"
    }
   },
   "outputs": [
    {
     "data": {
      "text/plain": [
       "array(['f'], dtype=object)"
      ]
     },
     "execution_count": 189,
     "metadata": {},
     "output_type": "execute_result"
    }
   ],
   "source": [
    "data_1['is_business_travel_ready'].unique()"
   ]
  },
  {
   "cell_type": "code",
   "execution_count": 190,
   "metadata": {
    "ExecuteTime": {
     "end_time": "2020-08-01T13:38:03.993032Z",
     "start_time": "2020-08-01T13:38:03.963706Z"
    }
   },
   "outputs": [
    {
     "data": {
      "text/html": [
       "<div>\n",
       "<style scoped>\n",
       "    .dataframe tbody tr th:only-of-type {\n",
       "        vertical-align: middle;\n",
       "    }\n",
       "\n",
       "    .dataframe tbody tr th {\n",
       "        vertical-align: top;\n",
       "    }\n",
       "\n",
       "    .dataframe thead th {\n",
       "        text-align: right;\n",
       "    }\n",
       "</style>\n",
       "<table border=\"1\" class=\"dataframe\">\n",
       "  <thead>\n",
       "    <tr style=\"text-align: right;\">\n",
       "      <th></th>\n",
       "      <th>property_type</th>\n",
       "      <th>room_type</th>\n",
       "      <th>accommodates</th>\n",
       "      <th>bathrooms</th>\n",
       "      <th>bedrooms</th>\n",
       "      <th>beds</th>\n",
       "      <th>bed_type</th>\n",
       "      <th>amenities</th>\n",
       "      <th>price</th>\n",
       "      <th>minimum_nights</th>\n",
       "      <th>...</th>\n",
       "      <th>amenities_amenities_bars</th>\n",
       "      <th>amenities_amenities_fixed</th>\n",
       "      <th>amenities_amenities_grab</th>\n",
       "      <th>amenities_amenities_gates</th>\n",
       "      <th>amenities_amenities_stair</th>\n",
       "      <th>amenities_amenities_mobile</th>\n",
       "      <th>amenities_amenities_ski-in/ski-out</th>\n",
       "      <th>amenities_amenities_electric</th>\n",
       "      <th>amenities_amenities_profiling</th>\n",
       "      <th>amenities_amenities_kitchenette</th>\n",
       "    </tr>\n",
       "  </thead>\n",
       "  <tbody>\n",
       "  </tbody>\n",
       "</table>\n",
       "<p>0 rows × 211 columns</p>\n",
       "</div>"
      ],
      "text/plain": [
       "Empty DataFrame\n",
       "Columns: [property_type, room_type, accommodates, bathrooms, bedrooms, beds, bed_type, amenities, price, minimum_nights, maximum_nights, is_business_travel_ready, instant_bookable, neighborhood_overview, amenities_amenities_air, amenities_amenities_cable, amenities_amenities_cat(s), amenities_amenities_conditioning, amenities_amenities_elevator, amenities_amenities_internet, amenities_amenities_live, amenities_amenities_on, amenities_amenities_pets, amenities_amenities_property, amenities_amenities_this, amenities_amenities_tv, amenities_amenities_washer, amenities_amenities_wifi, amenities_amenities_essentials, amenities_amenities_family/kid, amenities_amenities_friendly, amenities_amenities_gym, amenities_amenities_kitchen, amenities_amenities_pool, amenities_amenities_shampoo, amenities_amenities_dryer, amenities_amenities_allowed, amenities_amenities_and, amenities_amenities_bedroom, amenities_amenities_books, amenities_amenities_check-in, amenities_amenities_children’s, amenities_amenities_detector, amenities_amenities_door, amenities_amenities_dropoff, amenities_amenities_entrance, amenities_amenities_extinguisher, amenities_amenities_fire, amenities_amenities_free, amenities_amenities_hair, amenities_amenities_hangers, amenities_amenities_hot, amenities_amenities_iron, amenities_amenities_keypad, amenities_amenities_laptop, amenities_amenities_lock, amenities_amenities_long, amenities_amenities_luggage, amenities_amenities_parking, amenities_amenities_private, amenities_amenities_self, amenities_amenities_smoke, amenities_amenities_stays, amenities_amenities_street, amenities_amenities_term, amenities_amenities_toys, amenities_amenities_tub, amenities_amenities_water, amenities_amenities_workspace, amenities_amenities_dog(s), amenities_amenities_paid, amenities_amenities_premises, amenities_amenities_heating, amenities_amenities_aid, amenities_amenities_first, amenities_amenities_kit, amenities_amenities_buzzer/wireless, amenities_amenities_doorman, amenities_amenities_intercom, amenities_amenities_backyard, amenities_amenities_balcony, amenities_amenities_basics, amenities_amenities_bbq, amenities_amenities_bed, amenities_amenities_blankets, amenities_amenities_coffee, amenities_amenities_cooking, amenities_amenities_dishes, amenities_amenities_en.hosting_amenity_50, amenities_amenities_extra, amenities_amenities_garden, amenities_amenities_greets, amenities_amenities_grill, amenities_amenities_host, amenities_amenities_linens, amenities_amenities_maker, amenities_amenities_microwave, amenities_amenities_missing:, amenities_amenities_off, amenities_amenities_or, ...]\n",
       "Index: []\n",
       "\n",
       "[0 rows x 211 columns]"
      ]
     },
     "execution_count": 190,
     "metadata": {},
     "output_type": "execute_result"
    }
   ],
   "source": [
    "data_1[data_1['is_business_travel_ready'] == 't']"
   ]
  },
  {
   "cell_type": "code",
   "execution_count": 191,
   "metadata": {
    "ExecuteTime": {
     "end_time": "2020-08-01T13:38:36.991389Z",
     "start_time": "2020-08-01T13:38:36.973957Z"
    }
   },
   "outputs": [],
   "source": [
    "data_1.drop(columns='is_business_travel_ready', inplace=True)"
   ]
  },
  {
   "cell_type": "code",
   "execution_count": 193,
   "metadata": {
    "ExecuteTime": {
     "end_time": "2020-08-01T13:39:00.673063Z",
     "start_time": "2020-08-01T13:39:00.663274Z"
    }
   },
   "outputs": [
    {
     "data": {
      "text/plain": [
       "array(['f', 't'], dtype=object)"
      ]
     },
     "execution_count": 193,
     "metadata": {},
     "output_type": "execute_result"
    }
   ],
   "source": [
    "data_1['instant_bookable'].unique()"
   ]
  },
  {
   "cell_type": "code",
   "execution_count": 194,
   "metadata": {
    "ExecuteTime": {
     "end_time": "2020-08-01T13:39:40.480234Z",
     "start_time": "2020-08-01T13:39:40.468297Z"
    }
   },
   "outputs": [],
   "source": [
    "data_1['instant_bookable'] = data_1['instant_bookable'].map({'f': 0, 't':1})"
   ]
  },
  {
   "cell_type": "code",
   "execution_count": 199,
   "metadata": {
    "ExecuteTime": {
     "end_time": "2020-08-01T13:46:59.918841Z",
     "start_time": "2020-08-01T13:46:59.907403Z"
    }
   },
   "outputs": [
    {
     "data": {
      "text/plain": [
       "3234"
      ]
     },
     "execution_count": 199,
     "metadata": {},
     "output_type": "execute_result"
    }
   ],
   "source": [
    "data_1['neighborhood_overview'].isna().sum()"
   ]
  },
  {
   "cell_type": "code",
   "execution_count": 200,
   "metadata": {
    "ExecuteTime": {
     "end_time": "2020-08-01T13:47:24.478608Z",
     "start_time": "2020-08-01T13:47:24.468591Z"
    }
   },
   "outputs": [],
   "source": [
    "data_1['neighborhood_overview'].replace(np.nan, '', inplace=True)"
   ]
  },
  {
   "cell_type": "code",
   "execution_count": 201,
   "metadata": {
    "ExecuteTime": {
     "end_time": "2020-08-01T13:47:53.439454Z",
     "start_time": "2020-08-01T13:47:26.427886Z"
    }
   },
   "outputs": [],
   "source": [
    "stripped_2 = data_1['neighborhood_overview'].to_list()\n",
    "bow_list_2 = []\n",
    "for group in stripped_2:\n",
    "    bow_list_2.append(to_bow(group).sum())"
   ]
  },
  {
   "cell_type": "code",
   "execution_count": 203,
   "metadata": {
    "ExecuteTime": {
     "end_time": "2020-08-01T13:48:36.823753Z",
     "start_time": "2020-08-01T13:48:34.242528Z"
    }
   },
   "outputs": [],
   "source": [
    "cat_2 = pd.concat(bow_list_2, axis=1)"
   ]
  },
  {
   "cell_type": "code",
   "execution_count": 207,
   "metadata": {
    "ExecuteTime": {
     "end_time": "2020-08-01T13:50:19.664057Z",
     "start_time": "2020-08-01T13:50:19.652523Z"
    }
   },
   "outputs": [],
   "source": [
    "cat2T = cat_2.T\n",
    "cat2T.columns = ['neighborhood_overview_'+name for name in cat2T.columns.to_list()]"
   ]
  },
  {
   "cell_type": "code",
   "execution_count": 208,
   "metadata": {
    "ExecuteTime": {
     "end_time": "2020-08-01T13:50:58.479709Z",
     "start_time": "2020-08-01T13:50:58.422969Z"
    }
   },
   "outputs": [],
   "source": [
    "data_2 = pd.concat([data_1, cat2T], axis=1)"
   ]
  },
  {
   "cell_type": "code",
   "execution_count": 210,
   "metadata": {
    "ExecuteTime": {
     "end_time": "2020-08-01T13:51:44.865455Z",
     "start_time": "2020-08-01T13:51:44.762471Z"
    }
   },
   "outputs": [],
   "source": [
    "data_2.drop(columns=['neighborhood_overview', 'amenities'], inplace=True)"
   ]
  },
  {
   "cell_type": "code",
   "execution_count": 212,
   "metadata": {
    "ExecuteTime": {
     "end_time": "2020-08-01T13:52:35.049269Z",
     "start_time": "2020-08-01T13:52:34.972307Z"
    }
   },
   "outputs": [],
   "source": [
    "X = pd.get_dummies(data_2)"
   ]
  },
  {
   "cell_type": "code",
   "execution_count": 213,
   "metadata": {
    "ExecuteTime": {
     "end_time": "2020-08-01T13:52:36.288415Z",
     "start_time": "2020-08-01T13:52:36.280122Z"
    }
   },
   "outputs": [
    {
     "data": {
      "text/plain": [
       "(7975, 1345)"
      ]
     },
     "execution_count": 213,
     "metadata": {},
     "output_type": "execute_result"
    }
   ],
   "source": [
    "X.shape"
   ]
  },
  {
   "cell_type": "code",
   "execution_count": 215,
   "metadata": {
    "ExecuteTime": {
     "end_time": "2020-08-01T13:55:04.636493Z",
     "start_time": "2020-08-01T13:55:04.221994Z"
    }
   },
   "outputs": [],
   "source": [
    "X_scaled = StandardScaler().fit_transform(X)"
   ]
  },
  {
   "cell_type": "code",
   "execution_count": null,
   "metadata": {},
   "outputs": [],
   "source": []
  }
 ],
 "metadata": {
  "kernelspec": {
   "display_name": "Python 3",
   "language": "python",
   "name": "python3"
  },
  "language_info": {
   "codemirror_mode": {
    "name": "ipython",
    "version": 3
   },
   "file_extension": ".py",
   "mimetype": "text/x-python",
   "name": "python",
   "nbconvert_exporter": "python",
   "pygments_lexer": "ipython3",
   "version": "3.7.6"
  }
 },
 "nbformat": 4,
 "nbformat_minor": 4
}
