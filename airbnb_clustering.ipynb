{
 "cells": [
  {
   "cell_type": "code",
   "execution_count": 6,
   "metadata": {
    "ExecuteTime": {
     "end_time": "2020-08-01T14:50:03.969925Z",
     "start_time": "2020-08-01T14:50:03.962962Z"
    }
   },
   "outputs": [],
   "source": [
    "import pandas as pd\n",
    "import numpy as np\n",
    "import gzip\n",
    "from collections import Counter\n",
    "import matplotlib.pyplot as plt\n",
    "from sklearn.preprocessing import StandardScaler\n",
    "from sklearn.cluster import KMeans"
   ]
  },
  {
   "cell_type": "code",
   "execution_count": 4,
   "metadata": {
    "ExecuteTime": {
     "end_time": "2020-07-23T05:36:48.894849Z",
     "start_time": "2020-07-23T05:36:48.182691Z"
    }
   },
   "outputs": [
    {
     "name": "stdout",
     "output_type": "stream",
     "text": [
      "cp: missing destination file operand after '/mnt/data/public/insideairbnb/data.insideairbnb.com/singapore/sg/singapore/2019-03-18/data/calendar.csv.gz'\r\n",
      "Try 'cp --help' for more information.\r\n"
     ]
    }
   ],
   "source": [
    "!cp /mnt/data/public/insideairbnb/data.insideairbnb.com/singapore/sg/singapore/2019-03-18/data/calendar.csv.gz >> "
   ]
  },
  {
   "cell_type": "code",
   "execution_count": 22,
   "metadata": {
    "ExecuteTime": {
     "end_time": "2020-08-01T12:02:49.582394Z",
     "start_time": "2020-08-01T12:02:47.602716Z"
    }
   },
   "outputs": [],
   "source": [
    "f_path = '/mnt/data/public/insideairbnb/data.insideairbnb.com/singapore/sg/singapore/2019-03-18/data/calendar.csv.gz'\n",
    "with gzip.open(f_path, 'r') as f:\n",
    "    df = pd.read_csv(f)"
   ]
  },
  {
   "cell_type": "code",
   "execution_count": 39,
   "metadata": {
    "ExecuteTime": {
     "end_time": "2020-08-01T12:22:14.138964Z",
     "start_time": "2020-08-01T12:22:14.002733Z"
    }
   },
   "outputs": [
    {
     "data": {
      "text/html": [
       "<div>\n",
       "<style scoped>\n",
       "    .dataframe tbody tr th:only-of-type {\n",
       "        vertical-align: middle;\n",
       "    }\n",
       "\n",
       "    .dataframe tbody tr th {\n",
       "        vertical-align: top;\n",
       "    }\n",
       "\n",
       "    .dataframe thead th {\n",
       "        text-align: right;\n",
       "    }\n",
       "</style>\n",
       "<table border=\"1\" class=\"dataframe\">\n",
       "  <thead>\n",
       "    <tr style=\"text-align: right;\">\n",
       "      <th></th>\n",
       "      <th>listing_id</th>\n",
       "      <th>date</th>\n",
       "      <th>available</th>\n",
       "      <th>price</th>\n",
       "      <th>adjusted_price</th>\n",
       "      <th>minimum_nights</th>\n",
       "      <th>maximum_nights</th>\n",
       "    </tr>\n",
       "  </thead>\n",
       "  <tbody>\n",
       "    <tr>\n",
       "      <th>452646</th>\n",
       "      <td>16636855</td>\n",
       "      <td>2019-05-03</td>\n",
       "      <td>t</td>\n",
       "      <td>$29.00</td>\n",
       "      <td>$29.00</td>\n",
       "      <td>25.0</td>\n",
       "      <td>180.0</td>\n",
       "    </tr>\n",
       "    <tr>\n",
       "      <th>1263006</th>\n",
       "      <td>24781937</td>\n",
       "      <td>2019-07-02</td>\n",
       "      <td>f</td>\n",
       "      <td>$100.00</td>\n",
       "      <td>$100.00</td>\n",
       "      <td>3.0</td>\n",
       "      <td>30.0</td>\n",
       "    </tr>\n",
       "    <tr>\n",
       "      <th>644385</th>\n",
       "      <td>18934811</td>\n",
       "      <td>2019-08-25</td>\n",
       "      <td>t</td>\n",
       "      <td>$200.00</td>\n",
       "      <td>$200.00</td>\n",
       "      <td>7.0</td>\n",
       "      <td>1125.0</td>\n",
       "    </tr>\n",
       "    <tr>\n",
       "      <th>1536350</th>\n",
       "      <td>27915805</td>\n",
       "      <td>2019-05-22</td>\n",
       "      <td>t</td>\n",
       "      <td>$188.00</td>\n",
       "      <td>$188.00</td>\n",
       "      <td>10.0</td>\n",
       "      <td>888.0</td>\n",
       "    </tr>\n",
       "    <tr>\n",
       "      <th>1461615</th>\n",
       "      <td>27140686</td>\n",
       "      <td>2019-08-20</td>\n",
       "      <td>f</td>\n",
       "      <td>$70.00</td>\n",
       "      <td>$70.00</td>\n",
       "      <td>10.0</td>\n",
       "      <td>1125.0</td>\n",
       "    </tr>\n",
       "  </tbody>\n",
       "</table>\n",
       "</div>"
      ],
      "text/plain": [
       "         listing_id        date available    price adjusted_price  \\\n",
       "452646     16636855  2019-05-03         t   $29.00         $29.00   \n",
       "1263006    24781937  2019-07-02         f  $100.00        $100.00   \n",
       "644385     18934811  2019-08-25         t  $200.00        $200.00   \n",
       "1536350    27915805  2019-05-22         t  $188.00        $188.00   \n",
       "1461615    27140686  2019-08-20         f   $70.00         $70.00   \n",
       "\n",
       "         minimum_nights  maximum_nights  \n",
       "452646             25.0           180.0  \n",
       "1263006             3.0            30.0  \n",
       "644385              7.0          1125.0  \n",
       "1536350            10.0           888.0  \n",
       "1461615            10.0          1125.0  "
      ]
     },
     "execution_count": 39,
     "metadata": {},
     "output_type": "execute_result"
    }
   ],
   "source": [
    "df.sample(5)"
   ]
  },
  {
   "cell_type": "code",
   "execution_count": 7,
   "metadata": {
    "ExecuteTime": {
     "end_time": "2020-08-01T14:50:29.651531Z",
     "start_time": "2020-08-01T14:50:29.123352Z"
    }
   },
   "outputs": [],
   "source": [
    "f_path = '/mnt/data/public/insideairbnb/data.insideairbnb.com/singapore/sg/singapore/2019-03-18/data/listings.csv.gz'\n",
    "with gzip.open(f_path, 'r') as f:\n",
    "    df_listings = pd.read_csv(f)"
   ]
  },
  {
   "cell_type": "code",
   "execution_count": 8,
   "metadata": {
    "ExecuteTime": {
     "end_time": "2020-08-01T14:50:30.039950Z",
     "start_time": "2020-08-01T14:50:29.653685Z"
    },
    "scrolled": false
   },
   "outputs": [
    {
     "data": {
      "text/plain": [
       "<matplotlib.axes._subplots.AxesSubplot at 0x7f1482673e10>"
      ]
     },
     "execution_count": 8,
     "metadata": {},
     "output_type": "execute_result"
    },
    {
     "data": {
      "image/png": "[encoded data removed]",
      "text/plain": [
       "<Figure size 432x288 with 1 Axes>"
      ]
     },
     "metadata": {
      "needs_background": "light"
     },
     "output_type": "display_data"
    }
   ],
   "source": [
    "df_listings['review_scores_rating'].plot(kind='density')"
   ]
  },
  {
   "cell_type": "code",
   "execution_count": 26,
   "metadata": {
    "ExecuteTime": {
     "end_time": "2020-08-01T12:02:51.052947Z",
     "start_time": "2020-08-01T12:02:50.477295Z"
    }
   },
   "outputs": [],
   "source": [
    "f_path = '/mnt/data/public/insideairbnb/data.insideairbnb.com/singapore/sg/singapore/2019-03-18/data/reviews.csv.gz'\n",
    "with gzip.open(f_path, 'r') as f:\n",
    "    df_reviews = pd.read_csv(f)"
   ]
  },
  {
   "cell_type": "code",
   "execution_count": 27,
   "metadata": {
    "ExecuteTime": {
     "end_time": "2020-08-01T12:02:51.067727Z",
     "start_time": "2020-08-01T12:02:51.055275Z"
    }
   },
   "outputs": [
    {
     "data": {
      "text/html": [
       "<div>\n",
       "<style scoped>\n",
       "    .dataframe tbody tr th:only-of-type {\n",
       "        vertical-align: middle;\n",
       "    }\n",
       "\n",
       "    .dataframe tbody tr th {\n",
       "        vertical-align: top;\n",
       "    }\n",
       "\n",
       "    .dataframe thead th {\n",
       "        text-align: right;\n",
       "    }\n",
       "</style>\n",
       "<table border=\"1\" class=\"dataframe\">\n",
       "  <thead>\n",
       "    <tr style=\"text-align: right;\">\n",
       "      <th></th>\n",
       "      <th>listing_id</th>\n",
       "      <th>id</th>\n",
       "      <th>date</th>\n",
       "      <th>reviewer_id</th>\n",
       "      <th>reviewer_name</th>\n",
       "      <th>comments</th>\n",
       "    </tr>\n",
       "  </thead>\n",
       "  <tbody>\n",
       "    <tr>\n",
       "      <th>0</th>\n",
       "      <td>49091</td>\n",
       "      <td>8243238</td>\n",
       "      <td>2013-10-21</td>\n",
       "      <td>8557223</td>\n",
       "      <td>Jared</td>\n",
       "      <td>Fran was absolutely gracious and welcoming. Ma...</td>\n",
       "    </tr>\n",
       "    <tr>\n",
       "      <th>1</th>\n",
       "      <td>50646</td>\n",
       "      <td>11909864</td>\n",
       "      <td>2014-04-18</td>\n",
       "      <td>1356099</td>\n",
       "      <td>James</td>\n",
       "      <td>A comfortable room in a smart condo developmen...</td>\n",
       "    </tr>\n",
       "    <tr>\n",
       "      <th>2</th>\n",
       "      <td>50646</td>\n",
       "      <td>13823948</td>\n",
       "      <td>2014-06-05</td>\n",
       "      <td>15222393</td>\n",
       "      <td>Welli</td>\n",
       "      <td>Stayed over at Sujatha's house for 3 good nigh...</td>\n",
       "    </tr>\n",
       "    <tr>\n",
       "      <th>3</th>\n",
       "      <td>50646</td>\n",
       "      <td>15117222</td>\n",
       "      <td>2014-07-02</td>\n",
       "      <td>5543172</td>\n",
       "      <td>Cyril</td>\n",
       "      <td>It's been a lovely stay at Sujatha's. The room...</td>\n",
       "    </tr>\n",
       "    <tr>\n",
       "      <th>4</th>\n",
       "      <td>50646</td>\n",
       "      <td>15426462</td>\n",
       "      <td>2014-07-08</td>\n",
       "      <td>817532</td>\n",
       "      <td>Jake</td>\n",
       "      <td>We had a great experience. A nice place, an am...</td>\n",
       "    </tr>\n",
       "  </tbody>\n",
       "</table>\n",
       "</div>"
      ],
      "text/plain": [
       "   listing_id        id        date  reviewer_id reviewer_name  \\\n",
       "0       49091   8243238  2013-10-21      8557223         Jared   \n",
       "1       50646  11909864  2014-04-18      1356099         James   \n",
       "2       50646  13823948  2014-06-05     15222393         Welli   \n",
       "3       50646  15117222  2014-07-02      5543172         Cyril   \n",
       "4       50646  15426462  2014-07-08       817532          Jake   \n",
       "\n",
       "                                            comments  \n",
       "0  Fran was absolutely gracious and welcoming. Ma...  \n",
       "1  A comfortable room in a smart condo developmen...  \n",
       "2  Stayed over at Sujatha's house for 3 good nigh...  \n",
       "3  It's been a lovely stay at Sujatha's. The room...  \n",
       "4  We had a great experience. A nice place, an am...  "
      ]
     },
     "execution_count": 27,
     "metadata": {},
     "output_type": "execute_result"
    }
   ],
   "source": [
    "df_reviews.head()"
   ]
  },
  {
   "cell_type": "code",
   "execution_count": 28,
   "metadata": {
    "ExecuteTime": {
     "end_time": "2020-08-01T12:02:51.083441Z",
     "start_time": "2020-08-01T12:02:51.071429Z"
    },
    "scrolled": false
   },
   "outputs": [
    {
     "data": {
      "text/plain": [
       "['id',\n",
       " 'listing_url',\n",
       " 'scrape_id',\n",
       " 'last_scraped',\n",
       " 'name',\n",
       " 'summary',\n",
       " 'space',\n",
       " 'description',\n",
       " 'experiences_offered',\n",
       " 'neighborhood_overview',\n",
       " 'notes',\n",
       " 'transit',\n",
       " 'access',\n",
       " 'interaction',\n",
       " 'house_rules',\n",
       " 'thumbnail_url',\n",
       " 'medium_url',\n",
       " 'picture_url',\n",
       " 'xl_picture_url',\n",
       " 'host_id',\n",
       " 'host_url',\n",
       " 'host_name',\n",
       " 'host_since',\n",
       " 'host_location',\n",
       " 'host_about',\n",
       " 'host_response_time',\n",
       " 'host_response_rate',\n",
       " 'host_acceptance_rate',\n",
       " 'host_is_superhost',\n",
       " 'host_thumbnail_url',\n",
       " 'host_picture_url',\n",
       " 'host_neighbourhood',\n",
       " 'host_listings_count',\n",
       " 'host_total_listings_count',\n",
       " 'host_verifications',\n",
       " 'host_has_profile_pic',\n",
       " 'host_identity_verified',\n",
       " 'street',\n",
       " 'neighbourhood',\n",
       " 'neighbourhood_cleansed',\n",
       " 'neighbourhood_group_cleansed',\n",
       " 'city',\n",
       " 'state',\n",
       " 'zipcode',\n",
       " 'market',\n",
       " 'smart_location',\n",
       " 'country_code',\n",
       " 'country',\n",
       " 'latitude',\n",
       " 'longitude',\n",
       " 'is_location_exact',\n",
       " 'property_type',\n",
       " 'room_type',\n",
       " 'accommodates',\n",
       " 'bathrooms',\n",
       " 'bedrooms',\n",
       " 'beds',\n",
       " 'bed_type',\n",
       " 'amenities',\n",
       " 'square_feet',\n",
       " 'price',\n",
       " 'weekly_price',\n",
       " 'monthly_price',\n",
       " 'security_deposit',\n",
       " 'cleaning_fee',\n",
       " 'guests_included',\n",
       " 'extra_people',\n",
       " 'minimum_nights',\n",
       " 'maximum_nights',\n",
       " 'minimum_minimum_nights',\n",
       " 'maximum_minimum_nights',\n",
       " 'minimum_maximum_nights',\n",
       " 'maximum_maximum_nights',\n",
       " 'minimum_nights_avg_ntm',\n",
       " 'maximum_nights_avg_ntm',\n",
       " 'calendar_updated',\n",
       " 'has_availability',\n",
       " 'availability_30',\n",
       " 'availability_60',\n",
       " 'availability_90',\n",
       " 'availability_365',\n",
       " 'calendar_last_scraped',\n",
       " 'number_of_reviews',\n",
       " 'number_of_reviews_ltm',\n",
       " 'first_review',\n",
       " 'last_review',\n",
       " 'review_scores_rating',\n",
       " 'review_scores_accuracy',\n",
       " 'review_scores_cleanliness',\n",
       " 'review_scores_checkin',\n",
       " 'review_scores_communication',\n",
       " 'review_scores_location',\n",
       " 'review_scores_value',\n",
       " 'requires_license',\n",
       " 'license',\n",
       " 'jurisdiction_names',\n",
       " 'instant_bookable',\n",
       " 'is_business_travel_ready',\n",
       " 'cancellation_policy',\n",
       " 'require_guest_profile_picture',\n",
       " 'require_guest_phone_verification',\n",
       " 'calculated_host_listings_count',\n",
       " 'calculated_host_listings_count_entire_homes',\n",
       " 'calculated_host_listings_count_private_rooms',\n",
       " 'calculated_host_listings_count_shared_rooms',\n",
       " 'reviews_per_month']"
      ]
     },
     "execution_count": 28,
     "metadata": {},
     "output_type": "execute_result"
    }
   ],
   "source": [
    "df_listings.columns.to_list()"
   ]
  },
  {
   "cell_type": "code",
   "execution_count": 9,
   "metadata": {
    "ExecuteTime": {
     "end_time": "2020-08-01T14:50:36.306351Z",
     "start_time": "2020-08-01T14:50:36.266767Z"
    }
   },
   "outputs": [
    {
     "data": {
      "text/html": [
       "<div>\n",
       "<style scoped>\n",
       "    .dataframe tbody tr th:only-of-type {\n",
       "        vertical-align: middle;\n",
       "    }\n",
       "\n",
       "    .dataframe tbody tr th {\n",
       "        vertical-align: top;\n",
       "    }\n",
       "\n",
       "    .dataframe thead th {\n",
       "        text-align: right;\n",
       "    }\n",
       "</style>\n",
       "<table border=\"1\" class=\"dataframe\">\n",
       "  <thead>\n",
       "    <tr style=\"text-align: right;\">\n",
       "      <th></th>\n",
       "      <th>id</th>\n",
       "      <th>listing_url</th>\n",
       "      <th>scrape_id</th>\n",
       "      <th>last_scraped</th>\n",
       "      <th>name</th>\n",
       "      <th>summary</th>\n",
       "      <th>space</th>\n",
       "      <th>description</th>\n",
       "      <th>experiences_offered</th>\n",
       "      <th>neighborhood_overview</th>\n",
       "      <th>...</th>\n",
       "      <th>instant_bookable</th>\n",
       "      <th>is_business_travel_ready</th>\n",
       "      <th>cancellation_policy</th>\n",
       "      <th>require_guest_profile_picture</th>\n",
       "      <th>require_guest_phone_verification</th>\n",
       "      <th>calculated_host_listings_count</th>\n",
       "      <th>calculated_host_listings_count_entire_homes</th>\n",
       "      <th>calculated_host_listings_count_private_rooms</th>\n",
       "      <th>calculated_host_listings_count_shared_rooms</th>\n",
       "      <th>reviews_per_month</th>\n",
       "    </tr>\n",
       "  </thead>\n",
       "  <tbody>\n",
       "    <tr>\n",
       "      <th>0</th>\n",
       "      <td>49091</td>\n",
       "      <td>https://www.airbnb.com/rooms/49091</td>\n",
       "      <td>20190318042744</td>\n",
       "      <td>2019-03-18</td>\n",
       "      <td>COZICOMFORT LONG TERM STAY ROOM 2</td>\n",
       "      <td>NaN</td>\n",
       "      <td>This is Room No. 2.(available after Jan 15 201...</td>\n",
       "      <td>This is Room No. 2.(available after Jan 15 201...</td>\n",
       "      <td>none</td>\n",
       "      <td>NaN</td>\n",
       "      <td>...</td>\n",
       "      <td>f</td>\n",
       "      <td>f</td>\n",
       "      <td>flexible</td>\n",
       "      <td>t</td>\n",
       "      <td>t</td>\n",
       "      <td>2</td>\n",
       "      <td>0</td>\n",
       "      <td>2</td>\n",
       "      <td>0</td>\n",
       "      <td>0.02</td>\n",
       "    </tr>\n",
       "    <tr>\n",
       "      <th>1</th>\n",
       "      <td>50646</td>\n",
       "      <td>https://www.airbnb.com/rooms/50646</td>\n",
       "      <td>20190318042744</td>\n",
       "      <td>2019-03-18</td>\n",
       "      <td>Pleasant Room along Bukit Timah</td>\n",
       "      <td>Fully furnished bedroom with a nice view on th...</td>\n",
       "      <td>Good Condition room, bright &amp; windy. Comes wit...</td>\n",
       "      <td>Fully furnished bedroom with a nice view on th...</td>\n",
       "      <td>none</td>\n",
       "      <td>The serenity &amp; quiet surrounding makes it an i...</td>\n",
       "      <td>...</td>\n",
       "      <td>f</td>\n",
       "      <td>f</td>\n",
       "      <td>moderate</td>\n",
       "      <td>f</td>\n",
       "      <td>t</td>\n",
       "      <td>1</td>\n",
       "      <td>0</td>\n",
       "      <td>1</td>\n",
       "      <td>0</td>\n",
       "      <td>0.30</td>\n",
       "    </tr>\n",
       "    <tr>\n",
       "      <th>2</th>\n",
       "      <td>56334</td>\n",
       "      <td>https://www.airbnb.com/rooms/56334</td>\n",
       "      <td>20190318042744</td>\n",
       "      <td>2019-03-18</td>\n",
       "      <td>COZICOMFORT</td>\n",
       "      <td>NaN</td>\n",
       "      <td>This is Room no. 1. USD700 per month On the fa...</td>\n",
       "      <td>This is Room no. 1. USD700 per month On the fa...</td>\n",
       "      <td>none</td>\n",
       "      <td>NaN</td>\n",
       "      <td>...</td>\n",
       "      <td>f</td>\n",
       "      <td>f</td>\n",
       "      <td>flexible</td>\n",
       "      <td>t</td>\n",
       "      <td>t</td>\n",
       "      <td>2</td>\n",
       "      <td>0</td>\n",
       "      <td>2</td>\n",
       "      <td>0</td>\n",
       "      <td>0.21</td>\n",
       "    </tr>\n",
       "    <tr>\n",
       "      <th>3</th>\n",
       "      <td>71609</td>\n",
       "      <td>https://www.airbnb.com/rooms/71609</td>\n",
       "      <td>20190318042744</td>\n",
       "      <td>2019-03-18</td>\n",
       "      <td>Ensuite Room (Room 1 &amp; 2) near EXPO</td>\n",
       "      <td>For 3 (Website hidden by Airbnb) room 1&amp;2 and ...</td>\n",
       "      <td>Landed Homestay Room for Rental. Between Simei...</td>\n",
       "      <td>For 3 (Website hidden by Airbnb) room 1&amp;2 and ...</td>\n",
       "      <td>none</td>\n",
       "      <td>NaN</td>\n",
       "      <td>...</td>\n",
       "      <td>t</td>\n",
       "      <td>f</td>\n",
       "      <td>moderate</td>\n",
       "      <td>f</td>\n",
       "      <td>t</td>\n",
       "      <td>9</td>\n",
       "      <td>0</td>\n",
       "      <td>9</td>\n",
       "      <td>0</td>\n",
       "      <td>0.14</td>\n",
       "    </tr>\n",
       "    <tr>\n",
       "      <th>4</th>\n",
       "      <td>71896</td>\n",
       "      <td>https://www.airbnb.com/rooms/71896</td>\n",
       "      <td>20190318042744</td>\n",
       "      <td>2019-03-18</td>\n",
       "      <td>B&amp;B  Room 1 near Airport &amp; EXPO</td>\n",
       "      <td>NaN</td>\n",
       "      <td>Vocational Stay Deluxe Bedroom in Singapore.(N...</td>\n",
       "      <td>Vocational Stay Deluxe Bedroom in Singapore.(N...</td>\n",
       "      <td>none</td>\n",
       "      <td>NaN</td>\n",
       "      <td>...</td>\n",
       "      <td>t</td>\n",
       "      <td>f</td>\n",
       "      <td>moderate</td>\n",
       "      <td>f</td>\n",
       "      <td>t</td>\n",
       "      <td>9</td>\n",
       "      <td>0</td>\n",
       "      <td>9</td>\n",
       "      <td>0</td>\n",
       "      <td>0.22</td>\n",
       "    </tr>\n",
       "  </tbody>\n",
       "</table>\n",
       "<p>5 rows × 106 columns</p>\n",
       "</div>"
      ],
      "text/plain": [
       "      id                         listing_url       scrape_id last_scraped  \\\n",
       "0  49091  https://www.airbnb.com/rooms/49091  20190318042744   2019-03-18   \n",
       "1  50646  https://www.airbnb.com/rooms/50646  20190318042744   2019-03-18   \n",
       "2  56334  https://www.airbnb.com/rooms/56334  20190318042744   2019-03-18   \n",
       "3  71609  https://www.airbnb.com/rooms/71609  20190318042744   2019-03-18   \n",
       "4  71896  https://www.airbnb.com/rooms/71896  20190318042744   2019-03-18   \n",
       "\n",
       "                                  name  \\\n",
       "0    COZICOMFORT LONG TERM STAY ROOM 2   \n",
       "1      Pleasant Room along Bukit Timah   \n",
       "2                          COZICOMFORT   \n",
       "3  Ensuite Room (Room 1 & 2) near EXPO   \n",
       "4      B&B  Room 1 near Airport & EXPO   \n",
       "\n",
       "                                             summary  \\\n",
       "0                                                NaN   \n",
       "1  Fully furnished bedroom with a nice view on th...   \n",
       "2                                                NaN   \n",
       "3  For 3 (Website hidden by Airbnb) room 1&2 and ...   \n",
       "4                                                NaN   \n",
       "\n",
       "                                               space  \\\n",
       "0  This is Room No. 2.(available after Jan 15 201...   \n",
       "1  Good Condition room, bright & windy. Comes wit...   \n",
       "2  This is Room no. 1. USD700 per month On the fa...   \n",
       "3  Landed Homestay Room for Rental. Between Simei...   \n",
       "4  Vocational Stay Deluxe Bedroom in Singapore.(N...   \n",
       "\n",
       "                                         description experiences_offered  \\\n",
       "0  This is Room No. 2.(available after Jan 15 201...                none   \n",
       "1  Fully furnished bedroom with a nice view on th...                none   \n",
       "2  This is Room no. 1. USD700 per month On the fa...                none   \n",
       "3  For 3 (Website hidden by Airbnb) room 1&2 and ...                none   \n",
       "4  Vocational Stay Deluxe Bedroom in Singapore.(N...                none   \n",
       "\n",
       "                               neighborhood_overview  ... instant_bookable  \\\n",
       "0                                                NaN  ...                f   \n",
       "1  The serenity & quiet surrounding makes it an i...  ...                f   \n",
       "2                                                NaN  ...                f   \n",
       "3                                                NaN  ...                t   \n",
       "4                                                NaN  ...                t   \n",
       "\n",
       "  is_business_travel_ready cancellation_policy require_guest_profile_picture  \\\n",
       "0                        f            flexible                             t   \n",
       "1                        f            moderate                             f   \n",
       "2                        f            flexible                             t   \n",
       "3                        f            moderate                             f   \n",
       "4                        f            moderate                             f   \n",
       "\n",
       "  require_guest_phone_verification  calculated_host_listings_count  \\\n",
       "0                                t                               2   \n",
       "1                                t                               1   \n",
       "2                                t                               2   \n",
       "3                                t                               9   \n",
       "4                                t                               9   \n",
       "\n",
       "   calculated_host_listings_count_entire_homes  \\\n",
       "0                                            0   \n",
       "1                                            0   \n",
       "2                                            0   \n",
       "3                                            0   \n",
       "4                                            0   \n",
       "\n",
       "  calculated_host_listings_count_private_rooms  \\\n",
       "0                                            2   \n",
       "1                                            1   \n",
       "2                                            2   \n",
       "3                                            9   \n",
       "4                                            9   \n",
       "\n",
       "   calculated_host_listings_count_shared_rooms  reviews_per_month  \n",
       "0                                            0               0.02  \n",
       "1                                            0               0.30  \n",
       "2                                            0               0.21  \n",
       "3                                            0               0.14  \n",
       "4                                            0               0.22  \n",
       "\n",
       "[5 rows x 106 columns]"
      ]
     },
     "execution_count": 9,
     "metadata": {},
     "output_type": "execute_result"
    }
   ],
   "source": [
    "df_listings.head()"
   ]
  },
  {
   "cell_type": "markdown",
   "metadata": {},
   "source": [
    "listings - Detailed listings data showing 96 attributes for each of the listings. Some of the attributes used in the analysis are price(continuous), longitude (continuous), latitude (continuous), listing_type (categorical), is_superhost (categorical), neighbourhood (categorical), ratings (continuous) among others.\n",
    "reviews - Detailed reviews given by the guests with 6 attributes. Key attributes include date (datetime), listing_id (discrete), reviewer_id (discrete) and comment (textual).\n",
    "calendar - Provides details about booking for the next year by listing. Four attributes in total including listing_id (discrete), date(datetime), available (categorical) and price (continuous).\n",
    "A quick glance at the data shows that there are:\n",
    "50,968 unique listing in NYC in total. The first rental in NYC was up in April, 2008 in Harlem, Manhattan.\n",
    "Over 1 million reviews have been written by guests since then.\n",
    "The price for a listing ranges from $10 per night to $10,000(!) per night. Listing with $10,000 price tag are in Greenpoint, Brooklyn; Astoria, Queens and Upper West Side, Manhattan."
   ]
  },
  {
   "cell_type": "code",
   "execution_count": 10,
   "metadata": {
    "ExecuteTime": {
     "end_time": "2020-08-01T14:50:40.560794Z",
     "start_time": "2020-08-01T14:50:40.543074Z"
    },
    "scrolled": false
   },
   "outputs": [
    {
     "data": {
      "text/plain": [
       "{'id': 301247,\n",
       " 'listing_url': 'https://www.airbnb.com/rooms/301247',\n",
       " 'scrape_id': 20190318042744,\n",
       " 'last_scraped': '2019-03-18',\n",
       " 'name': 'Nice room with private bath beside train station',\n",
       " 'summary': 'Located just beside the PayaLebar train station which is equidistant from both Changi International Airport, as well downtown area with only 10-15 mins train ride. Private bathroom with no additional charges/fees for cleaning or using washing machine. Please see the room pictures before booking.',\n",
       " 'space': 'Nice cozy room with a study table, bed, closet, aircon and private toilet in a spacious condo with swimming pool and gym facilities. Condo exit is connected to Paya Lebar MRT station. This is a room with no-frills features as follows:  - Single-bed (mattress without frame),  - Private bathroom  - Air-con,  - Table,  - Chair,  - Closet / Hangers,  - Bed sheet and Blanket  - 24-hr Free Accessibility (no night curfew). We provide you these during your stay:  - Free WiFi  - Iron and ironing board  - Washing machine - Key card access (Required $20 refundable deposit) - 24/7 CCTV monitoring the common area  Located very near to downtown. It takes 10 mins by train to City Hall MRT station and about 15 mins by train to reach the Changi International Airport. The apartment exit is connected to the train station / metro.',\n",
       " 'description': 'Located just beside the PayaLebar train station which is equidistant from both Changi International Airport, as well downtown area with only 10-15 mins train ride. Private bathroom with no additional charges/fees for cleaning or using washing machine. Please see the room pictures before booking. Nice cozy room with a study table, bed, closet, aircon and private toilet in a spacious condo with swimming pool and gym facilities. Condo exit is connected to Paya Lebar MRT station. This is a room with no-frills features as follows:  - Single-bed (mattress without frame),  - Private bathroom  - Air-con,  - Table,  - Chair,  - Closet / Hangers,  - Bed sheet and Blanket  - 24-hr Free Accessibility (no night curfew). We provide you these during your stay:  - Free WiFi  - Iron and ironing board  - Washing machine - Key card access (Required $20 refundable deposit) - 24/7 CCTV monitoring the common area  Located very near to downtown. It takes 10 mins by train to City Hall MRT station and about 15',\n",
       " 'experiences_offered': 'none',\n",
       " 'neighborhood_overview': nan,\n",
       " 'notes': nan,\n",
       " 'transit': nan,\n",
       " 'access': nan,\n",
       " 'interaction': nan,\n",
       " 'house_rules': nan,\n",
       " 'thumbnail_url': nan,\n",
       " 'medium_url': nan,\n",
       " 'picture_url': 'https://a0.muscache.com/im/pictures/107631887/bc634ba9_original.jpg?aki_policy=large',\n",
       " 'xl_picture_url': nan,\n",
       " 'host_id': 1552002,\n",
       " 'host_url': 'https://www.airbnb.com/users/show/1552002',\n",
       " 'host_name': 'Rahul',\n",
       " 'host_since': '2011-12-31',\n",
       " 'host_location': 'Singapore',\n",
       " 'host_about': 'Airbnb is built on relationships. ',\n",
       " 'host_response_time': 'within a day',\n",
       " 'host_response_rate': '70%',\n",
       " 'host_acceptance_rate': nan,\n",
       " 'host_is_superhost': 'f',\n",
       " 'host_thumbnail_url': 'https://a0.muscache.com/im/users/1552002/profile_pic/1381587393/original.jpg?aki_policy=profile_small',\n",
       " 'host_picture_url': 'https://a0.muscache.com/im/users/1552002/profile_pic/1381587393/original.jpg?aki_policy=profile_x_medium',\n",
       " 'host_neighbourhood': 'Geylang',\n",
       " 'host_listings_count': 1,\n",
       " 'host_total_listings_count': 1,\n",
       " 'host_verifications': \"['email', 'phone', 'reviews', 'jumio', 'government_id']\",\n",
       " 'host_has_profile_pic': 't',\n",
       " 'host_identity_verified': 't',\n",
       " 'street': 'Singapore, Singapore',\n",
       " 'neighbourhood': 'Geylang',\n",
       " 'neighbourhood_cleansed': 'Geylang',\n",
       " 'neighbourhood_group_cleansed': 'Central Region',\n",
       " 'city': 'Singapore',\n",
       " 'state': nan,\n",
       " 'zipcode': '307821',\n",
       " 'market': 'Singapore',\n",
       " 'smart_location': 'Singapore',\n",
       " 'country_code': 'SG',\n",
       " 'country': 'Singapore',\n",
       " 'latitude': 1.31724,\n",
       " 'longitude': 103.88958000000001,\n",
       " 'is_location_exact': 't',\n",
       " 'property_type': 'Apartment',\n",
       " 'room_type': 'Private room',\n",
       " 'accommodates': 1,\n",
       " 'bathrooms': 1.0,\n",
       " 'bedrooms': 1.0,\n",
       " 'beds': 1.0,\n",
       " 'bed_type': 'Real Bed',\n",
       " 'amenities': '{\"Cable TV\",Internet,Wifi,\"Air conditioning\",Pool,Kitchen,\"Free parking on premises\",Gym,Elevator,Washer,\"Lock on bedroom door\",\"Hair dryer\",\"Laptop friendly workspace\",\"Hot water\",Microwave,Refrigerator}',\n",
       " 'square_feet': nan,\n",
       " 'price': '$41.00',\n",
       " 'weekly_price': '$365.00',\n",
       " 'monthly_price': '$1,500.00',\n",
       " 'security_deposit': '$150.00',\n",
       " 'cleaning_fee': '$0.00',\n",
       " 'guests_included': 1,\n",
       " 'extra_people': '$0.00',\n",
       " 'minimum_nights': 1,\n",
       " 'maximum_nights': 1125,\n",
       " 'minimum_minimum_nights': 1,\n",
       " 'maximum_minimum_nights': 1,\n",
       " 'minimum_maximum_nights': 1125,\n",
       " 'maximum_maximum_nights': 1125,\n",
       " 'minimum_nights_avg_ntm': 1.0,\n",
       " 'maximum_nights_avg_ntm': 1125.0,\n",
       " 'calendar_updated': 'today',\n",
       " 'has_availability': 't',\n",
       " 'availability_30': 3,\n",
       " 'availability_60': 25,\n",
       " 'availability_90': 55,\n",
       " 'availability_365': 55,\n",
       " 'calendar_last_scraped': '2019-03-18',\n",
       " 'number_of_reviews': 85,\n",
       " 'number_of_reviews_ltm': 42,\n",
       " 'first_review': '2013-10-21',\n",
       " 'last_review': '2019-02-22',\n",
       " 'review_scores_rating': 90.0,\n",
       " 'review_scores_accuracy': 9.0,\n",
       " 'review_scores_cleanliness': 9.0,\n",
       " 'review_scores_checkin': 10.0,\n",
       " 'review_scores_communication': 9.0,\n",
       " 'review_scores_location': 10.0,\n",
       " 'review_scores_value': 9.0,\n",
       " 'requires_license': 'f',\n",
       " 'license': nan,\n",
       " 'jurisdiction_names': nan,\n",
       " 'instant_bookable': 'f',\n",
       " 'is_business_travel_ready': 'f',\n",
       " 'cancellation_policy': 'moderate',\n",
       " 'require_guest_profile_picture': 'f',\n",
       " 'require_guest_phone_verification': 'f',\n",
       " 'calculated_host_listings_count': 1,\n",
       " 'calculated_host_listings_count_entire_homes': 0,\n",
       " 'calculated_host_listings_count_private_rooms': 1,\n",
       " 'calculated_host_listings_count_shared_rooms': 0,\n",
       " 'reviews_per_month': 1.29}"
      ]
     },
     "execution_count": 10,
     "metadata": {},
     "output_type": "execute_result"
    }
   ],
   "source": [
    "dict(zip(df_listings.iloc[15].T.index.to_list(), df_listings.iloc[15].to_list()))"
   ]
  },
  {
   "cell_type": "markdown",
   "metadata": {},
   "source": [
    "https://www.linkedin.com/pulse/segmenting-clustering-airbnb-listings-zurich-georgios-chatzis\n",
    "https://towardsdatascience.com/airbnb-rental-listings-dataset-mining-f972ed08ddec\n",
    "http://www.columbia.edu/~sg3637/airbnb_final_analysis.html\n",
    "https://public.opendatasoft.com/explore/dataset/airbnb-listings/table/?disjunctive.host_verifications&disjunctive.amenities&disjunctive.features\n"
   ]
  },
  {
   "cell_type": "code",
   "execution_count": 11,
   "metadata": {
    "ExecuteTime": {
     "end_time": "2020-08-01T14:50:43.525861Z",
     "start_time": "2020-08-01T14:50:43.502797Z"
    }
   },
   "outputs": [
    {
     "data": {
      "text/plain": [
       "host_id\n",
       "59498         3\n",
       "228867       10\n",
       "229339       25\n",
       "367042        9\n",
       "646629       16\n",
       "             ..\n",
       "243216499     5\n",
       "244037446     4\n",
       "245738052     4\n",
       "248196938    14\n",
       "248361661    79\n",
       "Length: 468, dtype: int64"
      ]
     },
     "execution_count": 11,
     "metadata": {},
     "output_type": "execute_result"
    }
   ],
   "source": [
    "df_listings.groupby('host_id').size() [df_listings.groupby('host_id').size() > 2]"
   ]
  },
  {
   "cell_type": "code",
   "execution_count": 12,
   "metadata": {
    "ExecuteTime": {
     "end_time": "2020-08-01T14:50:44.338602Z",
     "start_time": "2020-08-01T14:50:44.323088Z"
    }
   },
   "outputs": [],
   "source": [
    "data = df_listings[['property_type', 'room_type', 'accommodates', 'bathrooms', 'bedrooms', 'beds', \n",
    "            'bed_type', 'amenities', 'price', 'monthly_price', 'minimum_nights', \n",
    "            'maximum_nights', 'is_business_travel_ready', 'instant_bookable',\n",
    "            'neighborhood_overview']]"
   ]
  },
  {
   "cell_type": "markdown",
   "metadata": {
    "ExecuteTime": {
     "end_time": "2020-08-01T12:30:08.681430Z",
     "start_time": "2020-08-01T12:30:08.668541Z"
    }
   },
   "source": [
    "features: property_type\n",
    "room_type\n",
    "accommodates\n",
    "bathrooms\n",
    "bedrooms\n",
    "beds\n",
    "ed_type\n",
    "amenities\n",
    "price\n",
    "minimum_nights\n",
    "maximum_nights\n",
    "is_business_travel_ready\n",
    "instant_bookable\n",
    "neighborhood_overview\n",
    "experiences_offered"
   ]
  },
  {
   "cell_type": "code",
   "execution_count": 13,
   "metadata": {
    "ExecuteTime": {
     "end_time": "2020-08-01T14:50:46.253022Z",
     "start_time": "2020-08-01T14:50:46.242957Z"
    }
   },
   "outputs": [
    {
     "data": {
      "text/plain": [
       "array(['Apartment', 'Villa', 'House', 'Townhouse', 'Other', 'Condominium',\n",
       "       'Bed and breakfast', 'Loft', 'Serviced apartment', 'Bungalow',\n",
       "       'Guest suite', 'Aparthotel', 'Hostel', 'Chalet', 'Hotel',\n",
       "       'Guesthouse', 'Boat', 'Boutique hotel', 'Cabin', 'Tent', 'Cottage',\n",
       "       'Campsite', 'Farm stay', 'Camper/RV', 'Treehouse', 'Tiny house'],\n",
       "      dtype=object)"
      ]
     },
     "execution_count": 13,
     "metadata": {},
     "output_type": "execute_result"
    }
   ],
   "source": [
    "data['property_type'].unique()"
   ]
  },
  {
   "cell_type": "code",
   "execution_count": 14,
   "metadata": {
    "ExecuteTime": {
     "end_time": "2020-08-01T14:50:48.473356Z",
     "start_time": "2020-08-01T14:50:48.463223Z"
    }
   },
   "outputs": [
    {
     "data": {
      "text/plain": [
       "array(['Private room', 'Entire home/apt', 'Shared room'], dtype=object)"
      ]
     },
     "execution_count": 14,
     "metadata": {},
     "output_type": "execute_result"
    }
   ],
   "source": [
    "data['room_type'].unique()"
   ]
  },
  {
   "cell_type": "code",
   "execution_count": 15,
   "metadata": {
    "ExecuteTime": {
     "end_time": "2020-08-01T14:50:48.713655Z",
     "start_time": "2020-08-01T14:50:48.704128Z"
    }
   },
   "outputs": [
    {
     "data": {
      "text/plain": [
       "array([ 1,  2,  6,  3,  8,  5,  4, 10,  9, 14, 16,  7, 12, 15, 13, 11])"
      ]
     },
     "execution_count": 15,
     "metadata": {},
     "output_type": "execute_result"
    }
   ],
   "source": [
    "data['accommodates'].unique()"
   ]
  },
  {
   "cell_type": "code",
   "execution_count": 22,
   "metadata": {
    "ExecuteTime": {
     "end_time": "2020-08-01T14:51:00.653466Z",
     "start_time": "2020-08-01T14:51:00.643093Z"
    }
   },
   "outputs": [
    {
     "data": {
      "text/plain": [
       "array([ 1. ,  0.5,  0. ,  2. ,  4. ,  3.5,  3. ,  1.5,  2.5,  8. ,  6. ,\n",
       "        4.5,  5. ,  7. ,  8.5,  5.5,  7.5,  9. , 20. ,  6.5, 10. , 21. ])"
      ]
     },
     "execution_count": 22,
     "metadata": {},
     "output_type": "execute_result"
    }
   ],
   "source": [
    "data['bathrooms'].unique()"
   ]
  },
  {
   "cell_type": "code",
   "execution_count": 23,
   "metadata": {
    "ExecuteTime": {
     "end_time": "2020-08-01T14:51:01.121871Z",
     "start_time": "2020-08-01T14:51:01.114708Z"
    }
   },
   "outputs": [],
   "source": [
    "data['bathrooms'].replace(np.nan, 0, inplace=True)"
   ]
  },
  {
   "cell_type": "code",
   "execution_count": 24,
   "metadata": {
    "ExecuteTime": {
     "end_time": "2020-08-01T14:51:01.772206Z",
     "start_time": "2020-08-01T14:51:01.762499Z"
    }
   },
   "outputs": [
    {
     "data": {
      "text/plain": [
       "array([ 1.,  2.,  3.,  0.,  4.,  5.,  6.,  8.,  7., 10.])"
      ]
     },
     "execution_count": 24,
     "metadata": {},
     "output_type": "execute_result"
    }
   ],
   "source": [
    "data['bedrooms'].unique()"
   ]
  },
  {
   "cell_type": "code",
   "execution_count": 25,
   "metadata": {
    "ExecuteTime": {
     "end_time": "2020-08-01T14:51:02.159428Z",
     "start_time": "2020-08-01T14:51:02.152254Z"
    }
   },
   "outputs": [],
   "source": [
    "data['bedrooms'].replace(np.nan, 0, inplace=True)"
   ]
  },
  {
   "cell_type": "code",
   "execution_count": 26,
   "metadata": {
    "ExecuteTime": {
     "end_time": "2020-08-01T14:51:02.656586Z",
     "start_time": "2020-08-01T14:51:02.646812Z"
    }
   },
   "outputs": [
    {
     "data": {
      "text/plain": [
       "array([ 1.,  3.,  2.,  7.,  4.,  0.,  5., 12.,  6.,  8., 10., 16., 15.,\n",
       "        9., 13., 14., 18., 30., 36.])"
      ]
     },
     "execution_count": 26,
     "metadata": {},
     "output_type": "execute_result"
    }
   ],
   "source": [
    "data['beds'].unique()"
   ]
  },
  {
   "cell_type": "code",
   "execution_count": 27,
   "metadata": {
    "ExecuteTime": {
     "end_time": "2020-08-01T14:51:02.990139Z",
     "start_time": "2020-08-01T14:51:02.982719Z"
    }
   },
   "outputs": [],
   "source": [
    "data['beds'].replace(np.nan, 0, inplace=True)"
   ]
  },
  {
   "cell_type": "code",
   "execution_count": 28,
   "metadata": {
    "ExecuteTime": {
     "end_time": "2020-08-01T14:51:03.553198Z",
     "start_time": "2020-08-01T14:51:03.542729Z"
    }
   },
   "outputs": [
    {
     "data": {
      "text/plain": [
       "array(['Real Bed', 'Pull-out Sofa', 'Futon', 'Couch', 'Airbed'],\n",
       "      dtype=object)"
      ]
     },
     "execution_count": 28,
     "metadata": {},
     "output_type": "execute_result"
    }
   ],
   "source": [
    "data['bed_type'].unique()"
   ]
  },
  {
   "cell_type": "code",
   "execution_count": 29,
   "metadata": {
    "ExecuteTime": {
     "end_time": "2020-08-01T14:51:04.174676Z",
     "start_time": "2020-08-01T14:51:04.082956Z"
    }
   },
   "outputs": [],
   "source": [
    "stripped = [string.strip('{').strip('}').split(',') for string in list(data['amenities'].values)]\n",
    "stripped_1 = []\n",
    "for group in stripped:\n",
    "        stripped_1.append([word.strip('''\"''').strip(\"'\") for word in group])"
   ]
  },
  {
   "cell_type": "code",
   "execution_count": 32,
   "metadata": {
    "ExecuteTime": {
     "end_time": "2020-08-01T14:51:07.840208Z",
     "start_time": "2020-08-01T14:51:07.532662Z"
    }
   },
   "outputs": [],
   "source": [
    "data['amenities'].replace(stripped_1, inplace=True)"
   ]
  },
  {
   "cell_type": "code",
   "execution_count": 33,
   "metadata": {
    "ExecuteTime": {
     "end_time": "2020-08-01T14:51:08.318727Z",
     "start_time": "2020-08-01T14:51:08.302997Z"
    }
   },
   "outputs": [
    {
     "data": {
      "text/plain": [
       "1651    {TV,Wifi,Kitchen,\"Free parking on premises\",Wa...\n",
       "5644    {TV,Wifi,\"Air conditioning\",Pool,Kitchen,\"Free...\n",
       "6310    {TV,Wifi,\"Air conditioning\",Pool,Kitchen,\"Smok...\n",
       "7364    {Wifi,\"Air conditioning\",Kitchen,\"Paid parking...\n",
       "190     {TV,\"Cable TV\",Internet,Wifi,\"Air conditioning...\n",
       "Name: amenities, dtype: object"
      ]
     },
     "execution_count": 33,
     "metadata": {},
     "output_type": "execute_result"
    }
   ],
   "source": [
    "data['amenities'].sample(5)"
   ]
  },
  {
   "cell_type": "code",
   "execution_count": 34,
   "metadata": {
    "ExecuteTime": {
     "end_time": "2020-08-01T14:51:08.845968Z",
     "start_time": "2020-08-01T14:51:08.742713Z"
    }
   },
   "outputs": [],
   "source": [
    "def to_bow(docs):\n",
    "    my_list = [dict(Counter(doc.lower().split())) for doc in docs]\n",
    "    df = pd.DataFrame(my_list).fillna(0)\n",
    "    return df.reindex(sorted(df.columns), axis=1)"
   ]
  },
  {
   "cell_type": "code",
   "execution_count": 35,
   "metadata": {
    "ExecuteTime": {
     "end_time": "2020-08-01T14:51:30.499458Z",
     "start_time": "2020-08-01T14:51:09.142698Z"
    }
   },
   "outputs": [],
   "source": [
    "bow_list = []\n",
    "for group in stripped_1:\n",
    "    bow_list.append(to_bow(group).sum())"
   ]
  },
  {
   "cell_type": "code",
   "execution_count": 36,
   "metadata": {
    "ExecuteTime": {
     "end_time": "2020-08-01T14:51:32.367903Z",
     "start_time": "2020-08-01T14:51:30.501832Z"
    }
   },
   "outputs": [],
   "source": [
    "cat = pd.concat(bow_list, axis=1)"
   ]
  },
  {
   "cell_type": "code",
   "execution_count": 37,
   "metadata": {
    "ExecuteTime": {
     "end_time": "2020-08-01T14:51:32.400793Z",
     "start_time": "2020-08-01T14:51:32.373167Z"
    }
   },
   "outputs": [],
   "source": [
    "cat.T.fillna(0, inplace=True)"
   ]
  },
  {
   "cell_type": "code",
   "execution_count": 38,
   "metadata": {
    "ExecuteTime": {
     "end_time": "2020-08-01T14:51:58.060863Z",
     "start_time": "2020-08-01T14:51:58.055972Z"
    }
   },
   "outputs": [
    {
     "data": {
      "text/plain": [
       "197"
      ]
     },
     "execution_count": 38,
     "metadata": {},
     "output_type": "execute_result"
    }
   ],
   "source": [
    "len(cat)"
   ]
  },
  {
   "cell_type": "code",
   "execution_count": 39,
   "metadata": {
    "ExecuteTime": {
     "end_time": "2020-08-01T14:51:59.451669Z",
     "start_time": "2020-08-01T14:51:59.442775Z"
    }
   },
   "outputs": [],
   "source": [
    "catT = cat.T"
   ]
  },
  {
   "cell_type": "code",
   "execution_count": 40,
   "metadata": {
    "ExecuteTime": {
     "end_time": "2020-08-01T14:52:00.115070Z",
     "start_time": "2020-08-01T14:52:00.107823Z"
    }
   },
   "outputs": [],
   "source": [
    "# len(data)\n",
    "catT.columns = ['amenities_'+name for name in catT.columns.to_list()]\n",
    "# catT"
   ]
  },
  {
   "cell_type": "code",
   "execution_count": 41,
   "metadata": {
    "ExecuteTime": {
     "end_time": "2020-08-01T14:52:00.733527Z",
     "start_time": "2020-08-01T14:52:00.707834Z"
    }
   },
   "outputs": [],
   "source": [
    "data_1 = pd.concat([data, catT], axis=1)"
   ]
  },
  {
   "cell_type": "code",
   "execution_count": 42,
   "metadata": {
    "ExecuteTime": {
     "end_time": "2020-08-01T14:52:01.312599Z",
     "start_time": "2020-08-01T14:52:01.272793Z"
    }
   },
   "outputs": [],
   "source": [
    "def convert(x):\n",
    "    try:\n",
    "        return int(x.strip('$').split('.')[0].split(',')[0])*1000+int(x.strip('$').split('.')[0].split(',')[1])\n",
    "    except IndexError:\n",
    "        return int(x.strip('$').split('.')[0])\n",
    "\n",
    "data_1['price'] = data_1['price'].apply(lambda x: convert(x))"
   ]
  },
  {
   "cell_type": "code",
   "execution_count": 43,
   "metadata": {
    "ExecuteTime": {
     "end_time": "2020-08-01T14:52:02.644766Z",
     "start_time": "2020-08-01T14:52:02.612881Z"
    }
   },
   "outputs": [],
   "source": [
    "data_1.drop(columns=['monthly_price'], inplace=True)"
   ]
  },
  {
   "cell_type": "code",
   "execution_count": 44,
   "metadata": {
    "ExecuteTime": {
     "end_time": "2020-08-01T14:52:02.801260Z",
     "start_time": "2020-08-01T14:52:02.797093Z"
    }
   },
   "outputs": [],
   "source": [
    "# data_1['monthly_price'].isna().sum()"
   ]
  },
  {
   "cell_type": "code",
   "execution_count": 45,
   "metadata": {
    "ExecuteTime": {
     "end_time": "2020-08-01T14:52:03.016430Z",
     "start_time": "2020-08-01T14:52:03.012088Z"
    }
   },
   "outputs": [],
   "source": [
    "# data_1['monthly_price'][data_1['monthly_price'].isna()].index\n",
    "# for label in data_1['monthly_price'][data_1['monthly_price'].isna()].index:\n",
    "#     data_1.loc[label]['monthly_price'] = data_1.loc[label]['price']*30"
   ]
  },
  {
   "cell_type": "code",
   "execution_count": 46,
   "metadata": {
    "ExecuteTime": {
     "end_time": "2020-08-01T14:52:03.182114Z",
     "start_time": "2020-08-01T14:52:03.172136Z"
    }
   },
   "outputs": [
    {
     "data": {
      "text/plain": [
       "array([ 180,   90,    6,    1,    7,   30,   15,    2,  120,    3,    4,\n",
       "          5,   18,  365,   20,   60,    9,   21,  108,   14,  183,  100,\n",
       "         10,   13,   28,  360,   91,   12,   25,   84,   29,    8,  150,\n",
       "         80,   50,  200,  300,  190,   45,   92,  500,   17,   93,  188,\n",
       "         26,   88,  185,  240,   85,   75,  210,   59,   31,   89, 1000,\n",
       "        186,   48,  181,   40,   22,   24,   11,  700,  179,   96,   55,\n",
       "        168,   65,   35,   32])"
      ]
     },
     "execution_count": 46,
     "metadata": {},
     "output_type": "execute_result"
    }
   ],
   "source": [
    "data_1['minimum_nights'].unique()"
   ]
  },
  {
   "cell_type": "code",
   "execution_count": 47,
   "metadata": {
    "ExecuteTime": {
     "end_time": "2020-08-01T14:52:04.041111Z",
     "start_time": "2020-08-01T14:52:04.022808Z"
    }
   },
   "outputs": [
    {
     "data": {
      "text/plain": [
       "array([   360,    730,     14,   1125,    365,   1000,    180,    100,\n",
       "          720,     90,     11,    330,   1123,   1124,     30,      1,\n",
       "           60,    270,      7,     45,    800,     70,    999,     21,\n",
       "           40,    150,    200,    160,  10000,   9001,     28,    380,\n",
       "         1095,     10,    233,     20,   1120,    900,     31,     15,\n",
       "           12,    366,    400,     50,    250,     29,      5,    120,\n",
       "            3,      2,    500,     35,   2000,  99999,      6,   1100,\n",
       "           80,    300,      4,     53,    265,     32,   1111,    488,\n",
       "          700,     25,     18,    356,    210,    182,    546,     65,\n",
       "           22, 100000,    600,     19,      9,     13,     16,     86,\n",
       "          111,      8,    364,    240,     58,     99,   1059,    118,\n",
       "          181,    243,    650,   9999,    888,     62,     36,     95,\n",
       "           69,    397,    185,    555,   1080,    540,    320,    112,\n",
       "          750,     54,     23,     91,    130,     39,    178,    183,\n",
       "           33,    110,     52,    105])"
      ]
     },
     "execution_count": 47,
     "metadata": {},
     "output_type": "execute_result"
    }
   ],
   "source": [
    "data_1['maximum_nights'].unique()"
   ]
  },
  {
   "cell_type": "code",
   "execution_count": 48,
   "metadata": {
    "ExecuteTime": {
     "end_time": "2020-08-01T14:52:04.864492Z",
     "start_time": "2020-08-01T14:52:04.846021Z"
    }
   },
   "outputs": [
    {
     "data": {
      "text/plain": [
       "array(['f'], dtype=object)"
      ]
     },
     "execution_count": 48,
     "metadata": {},
     "output_type": "execute_result"
    }
   ],
   "source": [
    "data_1['is_business_travel_ready'].unique()"
   ]
  },
  {
   "cell_type": "code",
   "execution_count": 49,
   "metadata": {
    "ExecuteTime": {
     "end_time": "2020-08-01T14:52:05.448315Z",
     "start_time": "2020-08-01T14:52:05.414107Z"
    }
   },
   "outputs": [
    {
     "data": {
      "text/html": [
       "<div>\n",
       "<style scoped>\n",
       "    .dataframe tbody tr th:only-of-type {\n",
       "        vertical-align: middle;\n",
       "    }\n",
       "\n",
       "    .dataframe tbody tr th {\n",
       "        vertical-align: top;\n",
       "    }\n",
       "\n",
       "    .dataframe thead th {\n",
       "        text-align: right;\n",
       "    }\n",
       "</style>\n",
       "<table border=\"1\" class=\"dataframe\">\n",
       "  <thead>\n",
       "    <tr style=\"text-align: right;\">\n",
       "      <th></th>\n",
       "      <th>property_type</th>\n",
       "      <th>room_type</th>\n",
       "      <th>accommodates</th>\n",
       "      <th>bathrooms</th>\n",
       "      <th>bedrooms</th>\n",
       "      <th>beds</th>\n",
       "      <th>bed_type</th>\n",
       "      <th>amenities</th>\n",
       "      <th>price</th>\n",
       "      <th>minimum_nights</th>\n",
       "      <th>...</th>\n",
       "      <th>amenities_bars</th>\n",
       "      <th>amenities_fixed</th>\n",
       "      <th>amenities_grab</th>\n",
       "      <th>amenities_gates</th>\n",
       "      <th>amenities_stair</th>\n",
       "      <th>amenities_mobile</th>\n",
       "      <th>amenities_ski-in/ski-out</th>\n",
       "      <th>amenities_electric</th>\n",
       "      <th>amenities_profiling</th>\n",
       "      <th>amenities_kitchenette</th>\n",
       "    </tr>\n",
       "  </thead>\n",
       "  <tbody>\n",
       "  </tbody>\n",
       "</table>\n",
       "<p>0 rows × 211 columns</p>\n",
       "</div>"
      ],
      "text/plain": [
       "Empty DataFrame\n",
       "Columns: [property_type, room_type, accommodates, bathrooms, bedrooms, beds, bed_type, amenities, price, minimum_nights, maximum_nights, is_business_travel_ready, instant_bookable, neighborhood_overview, amenities_air, amenities_cable, amenities_cat(s), amenities_conditioning, amenities_elevator, amenities_internet, amenities_live, amenities_on, amenities_pets, amenities_property, amenities_this, amenities_tv, amenities_washer, amenities_wifi, amenities_essentials, amenities_family/kid, amenities_friendly, amenities_gym, amenities_kitchen, amenities_pool, amenities_shampoo, amenities_dryer, amenities_allowed, amenities_and, amenities_bedroom, amenities_books, amenities_check-in, amenities_children’s, amenities_detector, amenities_door, amenities_dropoff, amenities_entrance, amenities_extinguisher, amenities_fire, amenities_free, amenities_hair, amenities_hangers, amenities_hot, amenities_iron, amenities_keypad, amenities_laptop, amenities_lock, amenities_long, amenities_luggage, amenities_parking, amenities_private, amenities_self, amenities_smoke, amenities_stays, amenities_street, amenities_term, amenities_toys, amenities_tub, amenities_water, amenities_workspace, amenities_dog(s), amenities_paid, amenities_premises, amenities_heating, amenities_aid, amenities_first, amenities_kit, amenities_buzzer/wireless, amenities_doorman, amenities_intercom, amenities_backyard, amenities_balcony, amenities_basics, amenities_bbq, amenities_bed, amenities_blankets, amenities_coffee, amenities_cooking, amenities_dishes, amenities_en.hosting_amenity_50, amenities_extra, amenities_garden, amenities_greets, amenities_grill, amenities_host, amenities_linens, amenities_maker, amenities_microwave, amenities_missing:, amenities_off, amenities_or, ...]\n",
       "Index: []\n",
       "\n",
       "[0 rows x 211 columns]"
      ]
     },
     "execution_count": 49,
     "metadata": {},
     "output_type": "execute_result"
    }
   ],
   "source": [
    "data_1[data_1['is_business_travel_ready'] == 't']"
   ]
  },
  {
   "cell_type": "code",
   "execution_count": 50,
   "metadata": {
    "ExecuteTime": {
     "end_time": "2020-08-01T14:52:06.073707Z",
     "start_time": "2020-08-01T14:52:06.052196Z"
    }
   },
   "outputs": [],
   "source": [
    "data_1.drop(columns='is_business_travel_ready', inplace=True)"
   ]
  },
  {
   "cell_type": "code",
   "execution_count": 51,
   "metadata": {
    "ExecuteTime": {
     "end_time": "2020-08-01T14:52:06.601257Z",
     "start_time": "2020-08-01T14:52:06.590345Z"
    }
   },
   "outputs": [
    {
     "data": {
      "text/plain": [
       "array(['f', 't'], dtype=object)"
      ]
     },
     "execution_count": 51,
     "metadata": {},
     "output_type": "execute_result"
    }
   ],
   "source": [
    "data_1['instant_bookable'].unique()"
   ]
  },
  {
   "cell_type": "code",
   "execution_count": 52,
   "metadata": {
    "ExecuteTime": {
     "end_time": "2020-08-01T14:52:06.976079Z",
     "start_time": "2020-08-01T14:52:06.962970Z"
    }
   },
   "outputs": [],
   "source": [
    "data_1['instant_bookable'] = data_1['instant_bookable'].map({'f': 0, 't':1})"
   ]
  },
  {
   "cell_type": "code",
   "execution_count": 53,
   "metadata": {
    "ExecuteTime": {
     "end_time": "2020-08-01T14:52:07.453875Z",
     "start_time": "2020-08-01T14:52:07.442583Z"
    }
   },
   "outputs": [
    {
     "data": {
      "text/plain": [
       "3234"
      ]
     },
     "execution_count": 53,
     "metadata": {},
     "output_type": "execute_result"
    }
   ],
   "source": [
    "data_1['neighborhood_overview'].isna().sum()"
   ]
  },
  {
   "cell_type": "code",
   "execution_count": 54,
   "metadata": {
    "ExecuteTime": {
     "end_time": "2020-08-01T14:52:08.642296Z",
     "start_time": "2020-08-01T14:52:08.632823Z"
    }
   },
   "outputs": [],
   "source": [
    "data_1['neighborhood_overview'].replace(np.nan, '', inplace=True)"
   ]
  },
  {
   "cell_type": "code",
   "execution_count": 55,
   "metadata": {
    "ExecuteTime": {
     "end_time": "2020-08-01T14:52:35.686626Z",
     "start_time": "2020-08-01T14:52:08.822598Z"
    }
   },
   "outputs": [],
   "source": [
    "stripped_2 = data_1['neighborhood_overview'].to_list()\n",
    "bow_list_2 = []\n",
    "for group in stripped_2:\n",
    "    bow_list_2.append(to_bow(group).sum())"
   ]
  },
  {
   "cell_type": "code",
   "execution_count": 56,
   "metadata": {
    "ExecuteTime": {
     "end_time": "2020-08-01T14:52:38.057971Z",
     "start_time": "2020-08-01T14:52:35.689497Z"
    }
   },
   "outputs": [],
   "source": [
    "cat_2 = pd.concat(bow_list_2, axis=1)"
   ]
  },
  {
   "cell_type": "code",
   "execution_count": 57,
   "metadata": {
    "ExecuteTime": {
     "end_time": "2020-08-01T14:52:38.065897Z",
     "start_time": "2020-08-01T14:52:38.060577Z"
    }
   },
   "outputs": [],
   "source": [
    "cat2T = cat_2.T\n",
    "cat2T.columns = ['neighborhood_overview_'+name for name in cat2T.columns.to_list()]"
   ]
  },
  {
   "cell_type": "code",
   "execution_count": 58,
   "metadata": {
    "ExecuteTime": {
     "end_time": "2020-08-01T14:52:38.126746Z",
     "start_time": "2020-08-01T14:52:38.067385Z"
    }
   },
   "outputs": [],
   "source": [
    "data_2 = pd.concat([data_1, cat2T], axis=1)"
   ]
  },
  {
   "cell_type": "code",
   "execution_count": 59,
   "metadata": {
    "ExecuteTime": {
     "end_time": "2020-08-01T14:52:39.940079Z",
     "start_time": "2020-08-01T14:52:39.842631Z"
    }
   },
   "outputs": [],
   "source": [
    "data_2.drop(columns=['neighborhood_overview', 'amenities'], inplace=True)"
   ]
  },
  {
   "cell_type": "code",
   "execution_count": 78,
   "metadata": {
    "ExecuteTime": {
     "end_time": "2020-08-01T14:55:04.144614Z",
     "start_time": "2020-08-01T14:55:04.107919Z"
    }
   },
   "outputs": [],
   "source": [
    "data_2.fillna(0, inplace=True)"
   ]
  },
  {
   "cell_type": "code",
   "execution_count": 79,
   "metadata": {
    "ExecuteTime": {
     "end_time": "2020-08-01T14:55:06.005305Z",
     "start_time": "2020-08-01T14:55:05.922972Z"
    }
   },
   "outputs": [],
   "source": [
    "X = pd.get_dummies(data_2)"
   ]
  },
  {
   "cell_type": "code",
   "execution_count": 80,
   "metadata": {
    "ExecuteTime": {
     "end_time": "2020-08-01T14:55:06.581395Z",
     "start_time": "2020-08-01T14:55:06.482725Z"
    }
   },
   "outputs": [
    {
     "data": {
      "text/plain": [
       "0"
      ]
     },
     "execution_count": 80,
     "metadata": {},
     "output_type": "execute_result"
    }
   ],
   "source": [
    "X.isna().sum().sum()"
   ]
  },
  {
   "cell_type": "code",
   "execution_count": 81,
   "metadata": {
    "ExecuteTime": {
     "end_time": "2020-08-01T14:55:08.799596Z",
     "start_time": "2020-08-01T14:55:08.496374Z"
    }
   },
   "outputs": [],
   "source": [
    "X_scaled = StandardScaler().fit_transform(X)"
   ]
  },
  {
   "cell_type": "code",
   "execution_count": 84,
   "metadata": {
    "ExecuteTime": {
     "end_time": "2020-08-01T14:56:16.921128Z",
     "start_time": "2020-08-01T14:56:06.353129Z"
    }
   },
   "outputs": [],
   "source": [
    "km = KMeans(n_clusters=10, max_iter=300, tol=1e-4, n_jobs=-1)\n",
    "km.fit(X_scaled)\n",
    "y_pred = km.predict(X_scaled)"
   ]
  },
  {
   "cell_type": "code",
   "execution_count": 89,
   "metadata": {
    "ExecuteTime": {
     "end_time": "2020-08-01T14:57:43.007999Z",
     "start_time": "2020-08-01T14:57:42.997062Z"
    }
   },
   "outputs": [
    {
     "data": {
      "text/plain": [
       "array([[-0.02382759,  0.01457241, -0.04151283, ..., -0.02689784,\n",
       "        -0.01497596,  0.04542072],\n",
       "       [ 0.00764513, -0.00541466,  0.01448221, ...,  0.0101093 ,\n",
       "         0.00566121, -0.01707254],\n",
       "       [-0.54940359, -0.46813577, -0.32745248, ..., -0.03881971,\n",
       "        -0.03881971,  0.06639323],\n",
       "       ...,\n",
       "       [ 0.96655304, -0.46813577,  0.72131601, ..., -0.03881971,\n",
       "        -0.03881971,  0.06639323],\n",
       "       [-0.54940359, -0.46813577, -0.32745248, ..., -0.03881971,\n",
       "        -0.03881971,  0.06639323],\n",
       "       [ 0.96655304,  1.35725613,  0.72131601, ..., -0.03881971,\n",
       "        -0.03881971,  0.06639323]])"
      ]
     },
     "execution_count": 89,
     "metadata": {},
     "output_type": "execute_result"
    }
   ],
   "source": [
    "km.cluster_centers_"
   ]
  },
  {
   "cell_type": "code",
   "execution_count": 94,
   "metadata": {
    "ExecuteTime": {
     "end_time": "2020-08-01T14:58:20.986104Z",
     "start_time": "2020-08-01T14:58:20.977474Z"
    }
   },
   "outputs": [
    {
     "data": {
      "text/plain": [
       "array([1, 1, 1, ..., 0, 1, 0], dtype=int32)"
      ]
     },
     "execution_count": 94,
     "metadata": {},
     "output_type": "execute_result"
    }
   ],
   "source": [
    "y_pred"
   ]
  },
  {
   "cell_type": "code",
   "execution_count": 95,
   "metadata": {
    "ExecuteTime": {
     "end_time": "2020-08-01T14:58:28.052434Z",
     "start_time": "2020-08-01T14:58:28.042758Z"
    }
   },
   "outputs": [
    {
     "data": {
      "text/plain": [
       "array([0, 1, 2, 3, 4, 5, 6, 7, 8, 9], dtype=int32)"
      ]
     },
     "execution_count": 95,
     "metadata": {},
     "output_type": "execute_result"
    }
   ],
   "source": [
    "np.unique(y_pred)"
   ]
  },
  {
   "cell_type": "code",
   "execution_count": 102,
   "metadata": {
    "ExecuteTime": {
     "end_time": "2020-08-01T15:04:56.346563Z",
     "start_time": "2020-08-01T15:04:56.302281Z"
    }
   },
   "outputs": [],
   "source": [
    "dummy_data = data_2.copy()\n",
    "dummy_data['predicted_label'] = y_pred"
   ]
  },
  {
   "cell_type": "code",
   "execution_count": 104,
   "metadata": {
    "ExecuteTime": {
     "end_time": "2020-08-01T15:05:20.690785Z",
     "start_time": "2020-08-01T15:05:20.632473Z"
    }
   },
   "outputs": [
    {
     "data": {
      "text/html": [
       "<div>\n",
       "<style scoped>\n",
       "    .dataframe tbody tr th:only-of-type {\n",
       "        vertical-align: middle;\n",
       "    }\n",
       "\n",
       "    .dataframe tbody tr th {\n",
       "        vertical-align: top;\n",
       "    }\n",
       "\n",
       "    .dataframe thead th {\n",
       "        text-align: right;\n",
       "    }\n",
       "</style>\n",
       "<table border=\"1\" class=\"dataframe\">\n",
       "  <thead>\n",
       "    <tr style=\"text-align: right;\">\n",
       "      <th></th>\n",
       "      <th>property_type</th>\n",
       "      <th>room_type</th>\n",
       "      <th>accommodates</th>\n",
       "      <th>bathrooms</th>\n",
       "      <th>bedrooms</th>\n",
       "      <th>beds</th>\n",
       "      <th>bed_type</th>\n",
       "      <th>price</th>\n",
       "      <th>minimum_nights</th>\n",
       "      <th>maximum_nights</th>\n",
       "      <th>...</th>\n",
       "      <th>neighborhood_overview_脱</th>\n",
       "      <th>neighborhood_overview_视</th>\n",
       "      <th>neighborhood_overview_警</th>\n",
       "      <th>neighborhood_overview_进</th>\n",
       "      <th>neighborhood_overview_违</th>\n",
       "      <th>neighborhood_overview_迹</th>\n",
       "      <th>neighborhood_overview_避</th>\n",
       "      <th>neighborhood_overview_闭</th>\n",
       "      <th>neighborhood_overview_鞋</th>\n",
       "      <th>predicted_label</th>\n",
       "    </tr>\n",
       "  </thead>\n",
       "  <tbody>\n",
       "    <tr>\n",
       "      <th>2831</th>\n",
       "      <td>Bed and breakfast</td>\n",
       "      <td>Private room</td>\n",
       "      <td>3</td>\n",
       "      <td>4.0</td>\n",
       "      <td>1.0</td>\n",
       "      <td>3.0</td>\n",
       "      <td>Real Bed</td>\n",
       "      <td>89</td>\n",
       "      <td>1</td>\n",
       "      <td>1125</td>\n",
       "      <td>...</td>\n",
       "      <td>0.0</td>\n",
       "      <td>0.0</td>\n",
       "      <td>0.0</td>\n",
       "      <td>0.0</td>\n",
       "      <td>0.0</td>\n",
       "      <td>0.0</td>\n",
       "      <td>0.0</td>\n",
       "      <td>0.0</td>\n",
       "      <td>0.0</td>\n",
       "      <td>0</td>\n",
       "    </tr>\n",
       "    <tr>\n",
       "      <th>7457</th>\n",
       "      <td>Condominium</td>\n",
       "      <td>Entire home/apt</td>\n",
       "      <td>2</td>\n",
       "      <td>1.0</td>\n",
       "      <td>1.0</td>\n",
       "      <td>1.0</td>\n",
       "      <td>Real Bed</td>\n",
       "      <td>289</td>\n",
       "      <td>30</td>\n",
       "      <td>1125</td>\n",
       "      <td>...</td>\n",
       "      <td>0.0</td>\n",
       "      <td>0.0</td>\n",
       "      <td>0.0</td>\n",
       "      <td>0.0</td>\n",
       "      <td>0.0</td>\n",
       "      <td>0.0</td>\n",
       "      <td>0.0</td>\n",
       "      <td>0.0</td>\n",
       "      <td>0.0</td>\n",
       "      <td>0</td>\n",
       "    </tr>\n",
       "    <tr>\n",
       "      <th>3218</th>\n",
       "      <td>Apartment</td>\n",
       "      <td>Private room</td>\n",
       "      <td>1</td>\n",
       "      <td>1.0</td>\n",
       "      <td>1.0</td>\n",
       "      <td>1.0</td>\n",
       "      <td>Real Bed</td>\n",
       "      <td>68</td>\n",
       "      <td>1</td>\n",
       "      <td>30</td>\n",
       "      <td>...</td>\n",
       "      <td>0.0</td>\n",
       "      <td>0.0</td>\n",
       "      <td>0.0</td>\n",
       "      <td>0.0</td>\n",
       "      <td>0.0</td>\n",
       "      <td>0.0</td>\n",
       "      <td>0.0</td>\n",
       "      <td>0.0</td>\n",
       "      <td>0.0</td>\n",
       "      <td>0</td>\n",
       "    </tr>\n",
       "    <tr>\n",
       "      <th>6404</th>\n",
       "      <td>Condominium</td>\n",
       "      <td>Entire home/apt</td>\n",
       "      <td>2</td>\n",
       "      <td>1.0</td>\n",
       "      <td>1.0</td>\n",
       "      <td>1.0</td>\n",
       "      <td>Real Bed</td>\n",
       "      <td>146</td>\n",
       "      <td>30</td>\n",
       "      <td>1125</td>\n",
       "      <td>...</td>\n",
       "      <td>0.0</td>\n",
       "      <td>0.0</td>\n",
       "      <td>0.0</td>\n",
       "      <td>0.0</td>\n",
       "      <td>0.0</td>\n",
       "      <td>0.0</td>\n",
       "      <td>0.0</td>\n",
       "      <td>0.0</td>\n",
       "      <td>0.0</td>\n",
       "      <td>0</td>\n",
       "    </tr>\n",
       "    <tr>\n",
       "      <th>3257</th>\n",
       "      <td>Other</td>\n",
       "      <td>Entire home/apt</td>\n",
       "      <td>2</td>\n",
       "      <td>1.0</td>\n",
       "      <td>0.0</td>\n",
       "      <td>1.0</td>\n",
       "      <td>Real Bed</td>\n",
       "      <td>225</td>\n",
       "      <td>6</td>\n",
       "      <td>1125</td>\n",
       "      <td>...</td>\n",
       "      <td>0.0</td>\n",
       "      <td>0.0</td>\n",
       "      <td>0.0</td>\n",
       "      <td>0.0</td>\n",
       "      <td>0.0</td>\n",
       "      <td>0.0</td>\n",
       "      <td>0.0</td>\n",
       "      <td>0.0</td>\n",
       "      <td>0.0</td>\n",
       "      <td>0</td>\n",
       "    </tr>\n",
       "    <tr>\n",
       "      <th>6418</th>\n",
       "      <td>Apartment</td>\n",
       "      <td>Private room</td>\n",
       "      <td>1</td>\n",
       "      <td>3.0</td>\n",
       "      <td>1.0</td>\n",
       "      <td>1.0</td>\n",
       "      <td>Real Bed</td>\n",
       "      <td>35</td>\n",
       "      <td>18</td>\n",
       "      <td>365</td>\n",
       "      <td>...</td>\n",
       "      <td>0.0</td>\n",
       "      <td>0.0</td>\n",
       "      <td>0.0</td>\n",
       "      <td>0.0</td>\n",
       "      <td>0.0</td>\n",
       "      <td>0.0</td>\n",
       "      <td>0.0</td>\n",
       "      <td>0.0</td>\n",
       "      <td>0.0</td>\n",
       "      <td>0</td>\n",
       "    </tr>\n",
       "    <tr>\n",
       "      <th>7432</th>\n",
       "      <td>Apartment</td>\n",
       "      <td>Entire home/apt</td>\n",
       "      <td>6</td>\n",
       "      <td>1.0</td>\n",
       "      <td>3.0</td>\n",
       "      <td>3.0</td>\n",
       "      <td>Real Bed</td>\n",
       "      <td>281</td>\n",
       "      <td>1</td>\n",
       "      <td>1125</td>\n",
       "      <td>...</td>\n",
       "      <td>0.0</td>\n",
       "      <td>0.0</td>\n",
       "      <td>0.0</td>\n",
       "      <td>0.0</td>\n",
       "      <td>0.0</td>\n",
       "      <td>0.0</td>\n",
       "      <td>0.0</td>\n",
       "      <td>0.0</td>\n",
       "      <td>0.0</td>\n",
       "      <td>0</td>\n",
       "    </tr>\n",
       "    <tr>\n",
       "      <th>2533</th>\n",
       "      <td>Hostel</td>\n",
       "      <td>Shared room</td>\n",
       "      <td>1</td>\n",
       "      <td>3.0</td>\n",
       "      <td>1.0</td>\n",
       "      <td>1.0</td>\n",
       "      <td>Real Bed</td>\n",
       "      <td>20</td>\n",
       "      <td>1</td>\n",
       "      <td>1125</td>\n",
       "      <td>...</td>\n",
       "      <td>0.0</td>\n",
       "      <td>0.0</td>\n",
       "      <td>0.0</td>\n",
       "      <td>0.0</td>\n",
       "      <td>0.0</td>\n",
       "      <td>0.0</td>\n",
       "      <td>0.0</td>\n",
       "      <td>0.0</td>\n",
       "      <td>0.0</td>\n",
       "      <td>0</td>\n",
       "    </tr>\n",
       "    <tr>\n",
       "      <th>994</th>\n",
       "      <td>Apartment</td>\n",
       "      <td>Entire home/apt</td>\n",
       "      <td>6</td>\n",
       "      <td>1.0</td>\n",
       "      <td>2.0</td>\n",
       "      <td>2.0</td>\n",
       "      <td>Real Bed</td>\n",
       "      <td>200</td>\n",
       "      <td>3</td>\n",
       "      <td>1125</td>\n",
       "      <td>...</td>\n",
       "      <td>0.0</td>\n",
       "      <td>0.0</td>\n",
       "      <td>0.0</td>\n",
       "      <td>0.0</td>\n",
       "      <td>0.0</td>\n",
       "      <td>0.0</td>\n",
       "      <td>0.0</td>\n",
       "      <td>0.0</td>\n",
       "      <td>0.0</td>\n",
       "      <td>0</td>\n",
       "    </tr>\n",
       "    <tr>\n",
       "      <th>4811</th>\n",
       "      <td>Apartment</td>\n",
       "      <td>Entire home/apt</td>\n",
       "      <td>3</td>\n",
       "      <td>1.0</td>\n",
       "      <td>1.0</td>\n",
       "      <td>1.0</td>\n",
       "      <td>Real Bed</td>\n",
       "      <td>289</td>\n",
       "      <td>30</td>\n",
       "      <td>1125</td>\n",
       "      <td>...</td>\n",
       "      <td>0.0</td>\n",
       "      <td>0.0</td>\n",
       "      <td>0.0</td>\n",
       "      <td>0.0</td>\n",
       "      <td>0.0</td>\n",
       "      <td>0.0</td>\n",
       "      <td>0.0</td>\n",
       "      <td>0.0</td>\n",
       "      <td>0.0</td>\n",
       "      <td>0</td>\n",
       "    </tr>\n",
       "    <tr>\n",
       "      <th>6099</th>\n",
       "      <td>Apartment</td>\n",
       "      <td>Entire home/apt</td>\n",
       "      <td>3</td>\n",
       "      <td>1.0</td>\n",
       "      <td>0.0</td>\n",
       "      <td>1.0</td>\n",
       "      <td>Real Bed</td>\n",
       "      <td>120</td>\n",
       "      <td>1</td>\n",
       "      <td>1125</td>\n",
       "      <td>...</td>\n",
       "      <td>0.0</td>\n",
       "      <td>0.0</td>\n",
       "      <td>0.0</td>\n",
       "      <td>0.0</td>\n",
       "      <td>0.0</td>\n",
       "      <td>0.0</td>\n",
       "      <td>0.0</td>\n",
       "      <td>0.0</td>\n",
       "      <td>0.0</td>\n",
       "      <td>0</td>\n",
       "    </tr>\n",
       "    <tr>\n",
       "      <th>5920</th>\n",
       "      <td>Serviced apartment</td>\n",
       "      <td>Entire home/apt</td>\n",
       "      <td>4</td>\n",
       "      <td>1.0</td>\n",
       "      <td>1.0</td>\n",
       "      <td>2.0</td>\n",
       "      <td>Real Bed</td>\n",
       "      <td>168</td>\n",
       "      <td>3</td>\n",
       "      <td>1125</td>\n",
       "      <td>...</td>\n",
       "      <td>0.0</td>\n",
       "      <td>0.0</td>\n",
       "      <td>0.0</td>\n",
       "      <td>0.0</td>\n",
       "      <td>0.0</td>\n",
       "      <td>0.0</td>\n",
       "      <td>0.0</td>\n",
       "      <td>0.0</td>\n",
       "      <td>0.0</td>\n",
       "      <td>0</td>\n",
       "    </tr>\n",
       "    <tr>\n",
       "      <th>6913</th>\n",
       "      <td>Serviced apartment</td>\n",
       "      <td>Entire home/apt</td>\n",
       "      <td>3</td>\n",
       "      <td>1.0</td>\n",
       "      <td>0.0</td>\n",
       "      <td>1.0</td>\n",
       "      <td>Real Bed</td>\n",
       "      <td>105</td>\n",
       "      <td>3</td>\n",
       "      <td>1125</td>\n",
       "      <td>...</td>\n",
       "      <td>0.0</td>\n",
       "      <td>0.0</td>\n",
       "      <td>0.0</td>\n",
       "      <td>0.0</td>\n",
       "      <td>0.0</td>\n",
       "      <td>0.0</td>\n",
       "      <td>0.0</td>\n",
       "      <td>0.0</td>\n",
       "      <td>0.0</td>\n",
       "      <td>0</td>\n",
       "    </tr>\n",
       "    <tr>\n",
       "      <th>5073</th>\n",
       "      <td>Apartment</td>\n",
       "      <td>Entire home/apt</td>\n",
       "      <td>5</td>\n",
       "      <td>2.0</td>\n",
       "      <td>2.0</td>\n",
       "      <td>3.0</td>\n",
       "      <td>Real Bed</td>\n",
       "      <td>421</td>\n",
       "      <td>2</td>\n",
       "      <td>1125</td>\n",
       "      <td>...</td>\n",
       "      <td>0.0</td>\n",
       "      <td>0.0</td>\n",
       "      <td>0.0</td>\n",
       "      <td>0.0</td>\n",
       "      <td>0.0</td>\n",
       "      <td>0.0</td>\n",
       "      <td>0.0</td>\n",
       "      <td>0.0</td>\n",
       "      <td>0.0</td>\n",
       "      <td>0</td>\n",
       "    </tr>\n",
       "    <tr>\n",
       "      <th>7861</th>\n",
       "      <td>Serviced apartment</td>\n",
       "      <td>Entire home/apt</td>\n",
       "      <td>2</td>\n",
       "      <td>1.0</td>\n",
       "      <td>1.0</td>\n",
       "      <td>2.0</td>\n",
       "      <td>Real Bed</td>\n",
       "      <td>160</td>\n",
       "      <td>2</td>\n",
       "      <td>1125</td>\n",
       "      <td>...</td>\n",
       "      <td>0.0</td>\n",
       "      <td>0.0</td>\n",
       "      <td>0.0</td>\n",
       "      <td>0.0</td>\n",
       "      <td>0.0</td>\n",
       "      <td>0.0</td>\n",
       "      <td>0.0</td>\n",
       "      <td>0.0</td>\n",
       "      <td>0.0</td>\n",
       "      <td>0</td>\n",
       "    </tr>\n",
       "  </tbody>\n",
       "</table>\n",
       "<p>15 rows × 1315 columns</p>\n",
       "</div>"
      ],
      "text/plain": [
       "           property_type        room_type  accommodates  bathrooms  bedrooms  \\\n",
       "2831   Bed and breakfast     Private room             3        4.0       1.0   \n",
       "7457         Condominium  Entire home/apt             2        1.0       1.0   \n",
       "3218           Apartment     Private room             1        1.0       1.0   \n",
       "6404         Condominium  Entire home/apt             2        1.0       1.0   \n",
       "3257               Other  Entire home/apt             2        1.0       0.0   \n",
       "6418           Apartment     Private room             1        3.0       1.0   \n",
       "7432           Apartment  Entire home/apt             6        1.0       3.0   \n",
       "2533              Hostel      Shared room             1        3.0       1.0   \n",
       "994            Apartment  Entire home/apt             6        1.0       2.0   \n",
       "4811           Apartment  Entire home/apt             3        1.0       1.0   \n",
       "6099           Apartment  Entire home/apt             3        1.0       0.0   \n",
       "5920  Serviced apartment  Entire home/apt             4        1.0       1.0   \n",
       "6913  Serviced apartment  Entire home/apt             3        1.0       0.0   \n",
       "5073           Apartment  Entire home/apt             5        2.0       2.0   \n",
       "7861  Serviced apartment  Entire home/apt             2        1.0       1.0   \n",
       "\n",
       "      beds  bed_type  price  minimum_nights  maximum_nights  ...  \\\n",
       "2831   3.0  Real Bed     89               1            1125  ...   \n",
       "7457   1.0  Real Bed    289              30            1125  ...   \n",
       "3218   1.0  Real Bed     68               1              30  ...   \n",
       "6404   1.0  Real Bed    146              30            1125  ...   \n",
       "3257   1.0  Real Bed    225               6            1125  ...   \n",
       "6418   1.0  Real Bed     35              18             365  ...   \n",
       "7432   3.0  Real Bed    281               1            1125  ...   \n",
       "2533   1.0  Real Bed     20               1            1125  ...   \n",
       "994    2.0  Real Bed    200               3            1125  ...   \n",
       "4811   1.0  Real Bed    289              30            1125  ...   \n",
       "6099   1.0  Real Bed    120               1            1125  ...   \n",
       "5920   2.0  Real Bed    168               3            1125  ...   \n",
       "6913   1.0  Real Bed    105               3            1125  ...   \n",
       "5073   3.0  Real Bed    421               2            1125  ...   \n",
       "7861   2.0  Real Bed    160               2            1125  ...   \n",
       "\n",
       "      neighborhood_overview_脱  neighborhood_overview_视  \\\n",
       "2831                      0.0                      0.0   \n",
       "7457                      0.0                      0.0   \n",
       "3218                      0.0                      0.0   \n",
       "6404                      0.0                      0.0   \n",
       "3257                      0.0                      0.0   \n",
       "6418                      0.0                      0.0   \n",
       "7432                      0.0                      0.0   \n",
       "2533                      0.0                      0.0   \n",
       "994                       0.0                      0.0   \n",
       "4811                      0.0                      0.0   \n",
       "6099                      0.0                      0.0   \n",
       "5920                      0.0                      0.0   \n",
       "6913                      0.0                      0.0   \n",
       "5073                      0.0                      0.0   \n",
       "7861                      0.0                      0.0   \n",
       "\n",
       "      neighborhood_overview_警  neighborhood_overview_进  \\\n",
       "2831                      0.0                      0.0   \n",
       "7457                      0.0                      0.0   \n",
       "3218                      0.0                      0.0   \n",
       "6404                      0.0                      0.0   \n",
       "3257                      0.0                      0.0   \n",
       "6418                      0.0                      0.0   \n",
       "7432                      0.0                      0.0   \n",
       "2533                      0.0                      0.0   \n",
       "994                       0.0                      0.0   \n",
       "4811                      0.0                      0.0   \n",
       "6099                      0.0                      0.0   \n",
       "5920                      0.0                      0.0   \n",
       "6913                      0.0                      0.0   \n",
       "5073                      0.0                      0.0   \n",
       "7861                      0.0                      0.0   \n",
       "\n",
       "      neighborhood_overview_违  neighborhood_overview_迹  \\\n",
       "2831                      0.0                      0.0   \n",
       "7457                      0.0                      0.0   \n",
       "3218                      0.0                      0.0   \n",
       "6404                      0.0                      0.0   \n",
       "3257                      0.0                      0.0   \n",
       "6418                      0.0                      0.0   \n",
       "7432                      0.0                      0.0   \n",
       "2533                      0.0                      0.0   \n",
       "994                       0.0                      0.0   \n",
       "4811                      0.0                      0.0   \n",
       "6099                      0.0                      0.0   \n",
       "5920                      0.0                      0.0   \n",
       "6913                      0.0                      0.0   \n",
       "5073                      0.0                      0.0   \n",
       "7861                      0.0                      0.0   \n",
       "\n",
       "      neighborhood_overview_避  neighborhood_overview_闭  \\\n",
       "2831                      0.0                      0.0   \n",
       "7457                      0.0                      0.0   \n",
       "3218                      0.0                      0.0   \n",
       "6404                      0.0                      0.0   \n",
       "3257                      0.0                      0.0   \n",
       "6418                      0.0                      0.0   \n",
       "7432                      0.0                      0.0   \n",
       "2533                      0.0                      0.0   \n",
       "994                       0.0                      0.0   \n",
       "4811                      0.0                      0.0   \n",
       "6099                      0.0                      0.0   \n",
       "5920                      0.0                      0.0   \n",
       "6913                      0.0                      0.0   \n",
       "5073                      0.0                      0.0   \n",
       "7861                      0.0                      0.0   \n",
       "\n",
       "      neighborhood_overview_鞋  predicted_label  \n",
       "2831                      0.0                0  \n",
       "7457                      0.0                0  \n",
       "3218                      0.0                0  \n",
       "6404                      0.0                0  \n",
       "3257                      0.0                0  \n",
       "6418                      0.0                0  \n",
       "7432                      0.0                0  \n",
       "2533                      0.0                0  \n",
       "994                       0.0                0  \n",
       "4811                      0.0                0  \n",
       "6099                      0.0                0  \n",
       "5920                      0.0                0  \n",
       "6913                      0.0                0  \n",
       "5073                      0.0                0  \n",
       "7861                      0.0                0  \n",
       "\n",
       "[15 rows x 1315 columns]"
      ]
     },
     "execution_count": 104,
     "metadata": {},
     "output_type": "execute_result"
    }
   ],
   "source": [
    "dummy_data[dummy_data['predicted_label']==0].sample(15)"
   ]
  },
  {
   "cell_type": "code",
   "execution_count": null,
   "metadata": {},
   "outputs": [],
   "source": []
  }
 ],
 "metadata": {
  "kernelspec": {
   "display_name": "Python 3",
   "language": "python",
   "name": "python3"
  },
  "language_info": {
   "codemirror_mode": {
    "name": "ipython",
    "version": 3
   },
   "file_extension": ".py",
   "mimetype": "text/x-python",
   "name": "python",
   "nbconvert_exporter": "python",
   "pygments_lexer": "ipython3",
   "version": "3.7.6"
  }
 },
 "nbformat": 4,
 "nbformat_minor": 4
}
